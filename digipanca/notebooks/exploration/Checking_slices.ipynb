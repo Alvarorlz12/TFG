{
 "cells": [
  {
   "cell_type": "markdown",
   "id": "cd2d095c-05db-4620-8adb-a719168d58f0",
   "metadata": {},
   "source": [
    "# Imports y config"
   ]
  },
  {
   "cell_type": "code",
   "execution_count": 1,
   "id": "2c05ed91-9a9f-420f-9821-86af03ea2615",
   "metadata": {},
   "outputs": [],
   "source": [
    "%load_ext autoreload\n",
    "%autoreload 2"
   ]
  },
  {
   "cell_type": "code",
   "execution_count": 2,
   "id": "16d3d3ce-abe4-43f6-974e-8e81fa58f8ec",
   "metadata": {},
   "outputs": [],
   "source": [
    "import os\n",
    "import nibabel as nib\n",
    "import numpy as np\n",
    "import torch"
   ]
  },
  {
   "cell_type": "code",
   "execution_count": 3,
   "id": "7a12e4f5-e70d-4bde-90c3-9b44915ad734",
   "metadata": {},
   "outputs": [],
   "source": [
    "os.chdir('C:\\\\Users\\\\Usuario\\\\TFG\\\\digipanca\\\\')"
   ]
  },
  {
   "cell_type": "markdown",
   "id": "478b1e22-0693-4248-94fa-c843f27078a6",
   "metadata": {},
   "source": [
    "# Check slices"
   ]
  },
  {
   "cell_type": "code",
   "execution_count": 6,
   "id": "2b7d1d90-d074-478b-a58d-7b60c4d38de0",
   "metadata": {},
   "outputs": [],
   "source": [
    "DATA_DIR = 'data/raw'\n",
    "PATIENT_IDS = [p for p in os.listdir(DATA_DIR)]"
   ]
  },
  {
   "cell_type": "markdown",
   "id": "737d5e75-31ea-4350-ab8b-d5782fbc045d",
   "metadata": {},
   "source": [
    "## Load patients NIfTIs"
   ]
  },
  {
   "cell_type": "code",
   "execution_count": 18,
   "id": "b931c26a-6c85-4962-880b-823a9a5f576d",
   "metadata": {},
   "outputs": [],
   "source": [
    "SLICES = {}\n",
    "\n",
    "for pid in PATIENT_IDS:\n",
    "    image_path = os.path.join(DATA_DIR, pid, \"SEQ\", f\"CTport-{pid}.nii\")\n",
    "    image = nib.load(image_path)\n",
    "    SLICES[pid] = image.shape[2]"
   ]
  },
  {
   "cell_type": "code",
   "execution_count": 19,
   "id": "10754489-14a1-444c-a1a0-266a4c4f6297",
   "metadata": {},
   "outputs": [
    {
     "name": "stdout",
     "output_type": "stream",
     "text": [
      "{'rtum1': 91, 'rtum10': 56, 'rtum11': 104, 'rtum12': 68, 'rtum13': 67, 'rtum14': 125, 'rtum15': 120, 'rtum16': 114, 'rtum17': 108, 'rtum18': 104, 'rtum19': 91, 'rtum2': 90, 'rtum20': 44, 'rtum21': 116, 'rtum22': 117, 'rtum23': 105, 'rtum24': 101, 'rtum25': 105, 'rtum26': 116, 'rtum27': 54, 'rtum28': 118, 'rtum29': 89, 'rtum3': 109, 'rtum30': 120, 'rtum31': 110, 'rtum32': 120, 'rtum33': 106, 'rtum34': 41, 'rtum35': 55, 'rtum36': 117, 'rtum37': 118, 'rtum38': 103, 'rtum39': 56, 'rtum4': 60, 'rtum40': 46, 'rtum41': 135, 'rtum42': 98, 'rtum43': 118, 'rtum44': 100, 'rtum45': 102, 'rtum46': 142, 'rtum47': 134, 'rtum48': 92, 'rtum49': 114, 'rtum5': 77, 'rtum50': 129, 'rtum51': 112, 'rtum52': 116, 'rtum53': 130, 'rtum54': 132, 'rtum55': 132, 'rtum56': 98, 'rtum57': 44, 'rtum58': 100, 'rtum59': 131, 'rtum6': 112, 'rtum60': 92, 'rtum61': 56, 'rtum62': 116, 'rtum63': 102, 'rtum64': 112, 'rtum65': 53, 'rtum66': 129, 'rtum67': 116, 'rtum68': 101, 'rtum69': 115, 'rtum7': 49, 'rtum70': 108, 'rtum71': 121, 'rtum72': 50, 'rtum73': 140, 'rtum74': 110, 'rtum75': 140, 'rtum76': 60, 'rtum77': 50, 'rtum78': 110, 'rtum79': 103, 'rtum8': 63, 'rtum80': 108, 'rtum81': 138, 'rtum82': 107, 'rtum83': 118, 'rtum84': 52, 'rtum85': 152, 'rtum86': 133, 'rtum87': 120, 'rtum88': 130, 'rtum9': 68}\n"
     ]
    }
   ],
   "source": [
    "print(SLICES)"
   ]
  },
  {
   "cell_type": "code",
   "execution_count": 20,
   "id": "9009e4ef-6dee-4590-bd0c-efb26220ed15",
   "metadata": {},
   "outputs": [
    {
     "name": "stdout",
     "output_type": "stream",
     "text": [
      "Max slices: 152\n",
      "Min slices: 41\n"
     ]
    }
   ],
   "source": [
    "max_slices = np.max(list(SLICES.values()))\n",
    "min_slices = np.min(list(SLICES.values()))\n",
    "print(f\"Max slices: {max_slices}\")\n",
    "print(f\"Min slices: {min_slices}\")"
   ]
  },
  {
   "cell_type": "markdown",
   "id": "d6eae695-8ea6-4a0b-bda2-02559c7079f7",
   "metadata": {
    "jp-MarkdownHeadingCollapsed": true
   },
   "source": [
    "# Subvolumes"
   ]
  },
  {
   "cell_type": "code",
   "execution_count": 22,
   "id": "cf7229eb-b2b7-4308-944c-3044326725bc",
   "metadata": {},
   "outputs": [
    {
     "name": "stdout",
     "output_type": "stream",
     "text": [
      "(512, 512, 68)\n",
      "(1, 64, 512, 512)\n"
     ]
    }
   ],
   "source": [
    "def extract_subvolumes(volume, target_slices=64, stride=32):\n",
    "    subvolumes = []\n",
    "    total_slices = volume.shape[0]\n",
    "    \n",
    "    for start in range(0, total_slices - target_slices + 1, stride):\n",
    "        subvolumes.append(volume[start:start + target_slices, :, :])\n",
    "    \n",
    "    # Si el volumen es muy pequeño, hacemos padding con ceros\n",
    "    if total_slices < target_slices:\n",
    "        pad_size = target_slices - total_slices\n",
    "        padded_volume = np.pad(volume, ((0, pad_size), (0, 0), (0, 0)), mode='constant')\n",
    "        subvolumes.append(padded_volume)\n",
    "    \n",
    "    return np.array(subvolumes)\n",
    "\n",
    "# Extraer subvolúmenes\n",
    "print(image.shape)\n",
    "image_array = image.get_fdata()\n",
    "image_array = np.transpose(image_array, (2, 0, 1))\n",
    "subvols = extract_subvolumes(image_array, target_slices=64, stride=32)\n",
    "print(subvols.shape)  # (N, 64, H, W)"
   ]
  },
  {
   "cell_type": "code",
   "execution_count": 23,
   "id": "43b6e1d0-bbb8-4af3-a672-ffe5e4c4ec4e",
   "metadata": {},
   "outputs": [
    {
     "name": "stdout",
     "output_type": "stream",
     "text": [
      "rtum1: (512, 512, 91) > (1, 64, 512, 512)\n",
      "rtum10: (512, 512, 56) > (1, 64, 512, 512)\n",
      "rtum11: (512, 512, 104) > (2, 64, 512, 512)\n",
      "rtum12: (512, 512, 68) > (1, 64, 512, 512)\n",
      "rtum13: (512, 512, 67) > (1, 64, 512, 512)\n",
      "rtum14: (512, 512, 125) > (2, 64, 512, 512)\n",
      "rtum15: (512, 512, 120) > (2, 64, 512, 512)\n",
      "rtum16: (512, 512, 114) > (2, 64, 512, 512)\n",
      "rtum17: (512, 512, 108) > (2, 64, 512, 512)\n",
      "rtum18: (512, 512, 104) > (2, 64, 512, 512)\n",
      "rtum19: (512, 512, 91) > (1, 64, 512, 512)\n",
      "rtum2: (512, 512, 90) > (1, 64, 512, 512)\n",
      "rtum20: (512, 512, 44) > (1, 64, 512, 512)\n",
      "rtum21: (512, 512, 116) > (2, 64, 512, 512)\n",
      "rtum22: (512, 512, 117) > (2, 64, 512, 512)\n",
      "rtum23: (512, 512, 105) > (2, 64, 512, 512)\n",
      "rtum24: (512, 512, 101) > (2, 64, 512, 512)\n",
      "rtum25: (512, 512, 105) > (2, 64, 512, 512)\n",
      "rtum26: (512, 512, 116) > (2, 64, 512, 512)\n",
      "rtum27: (512, 512, 54) > (1, 64, 512, 512)\n",
      "rtum28: (512, 512, 118) > (2, 64, 512, 512)\n",
      "rtum29: (512, 512, 89) > (1, 64, 512, 512)\n",
      "rtum3: (512, 512, 109) > (2, 64, 512, 512)\n",
      "rtum30: (512, 512, 120) > (2, 64, 512, 512)\n",
      "rtum31: (512, 512, 110) > (2, 64, 512, 512)\n",
      "rtum32: (512, 512, 120) > (2, 64, 512, 512)\n",
      "rtum33: (512, 512, 106) > (2, 64, 512, 512)\n",
      "rtum34: (512, 512, 41) > (1, 64, 512, 512)\n",
      "rtum35: (512, 512, 55) > (1, 64, 512, 512)\n",
      "rtum36: (512, 512, 117) > (2, 64, 512, 512)\n",
      "rtum37: (512, 512, 118) > (2, 64, 512, 512)\n",
      "rtum38: (512, 512, 103) > (2, 64, 512, 512)\n",
      "rtum39: (512, 512, 56) > (1, 64, 512, 512)\n",
      "rtum4: (512, 512, 60) > (1, 64, 512, 512)\n",
      "rtum40: (512, 512, 46) > (1, 64, 512, 512)\n",
      "rtum41: (512, 512, 135) > (3, 64, 512, 512)\n",
      "rtum42: (512, 512, 98) > (2, 64, 512, 512)\n",
      "rtum43: (512, 512, 118) > (2, 64, 512, 512)\n",
      "rtum44: (512, 512, 100) > (2, 64, 512, 512)\n",
      "rtum45: (512, 512, 102) > (2, 64, 512, 512)\n",
      "rtum46: (512, 512, 142) > (3, 64, 512, 512)\n",
      "rtum47: (512, 512, 134) > (3, 64, 512, 512)\n",
      "rtum48: (512, 512, 92) > (1, 64, 512, 512)\n",
      "rtum49: (512, 512, 114) > (2, 64, 512, 512)\n",
      "rtum5: (512, 512, 77) > (1, 64, 512, 512)\n",
      "rtum50: (512, 512, 129) > (3, 64, 512, 512)\n",
      "rtum51: (512, 512, 112) > (2, 64, 512, 512)\n",
      "rtum52: (512, 512, 116) > (2, 64, 512, 512)\n",
      "rtum53: (512, 512, 130) > (3, 64, 512, 512)\n",
      "rtum54: (512, 512, 132) > (3, 64, 512, 512)\n",
      "rtum55: (512, 512, 132) > (3, 64, 512, 512)\n",
      "rtum56: (512, 512, 98) > (2, 64, 512, 512)\n",
      "rtum57: (512, 512, 44) > (1, 64, 512, 512)\n",
      "rtum58: (512, 512, 100) > (2, 64, 512, 512)\n",
      "rtum59: (512, 512, 131) > (3, 64, 512, 512)\n",
      "rtum6: (512, 512, 112) > (2, 64, 512, 512)\n",
      "rtum60: (512, 512, 92) > (1, 64, 512, 512)\n",
      "rtum61: (512, 512, 56) > (1, 64, 512, 512)\n",
      "rtum62: (512, 512, 116) > (2, 64, 512, 512)\n",
      "rtum63: (512, 512, 102) > (2, 64, 512, 512)\n",
      "rtum64: (512, 512, 112) > (2, 64, 512, 512)\n",
      "rtum65: (512, 512, 53) > (1, 64, 512, 512)\n",
      "rtum66: (512, 512, 129) > (3, 64, 512, 512)\n",
      "rtum67: (512, 512, 116) > (2, 64, 512, 512)\n",
      "rtum68: (512, 512, 101) > (2, 64, 512, 512)\n",
      "rtum69: (512, 512, 115) > (2, 64, 512, 512)\n",
      "rtum7: (512, 512, 49) > (1, 64, 512, 512)\n",
      "rtum70: (512, 512, 108) > (2, 64, 512, 512)\n",
      "rtum71: (512, 512, 121) > (2, 64, 512, 512)\n",
      "rtum72: (512, 512, 50) > (1, 64, 512, 512)\n",
      "rtum73: (512, 512, 140) > (3, 64, 512, 512)\n",
      "rtum74: (512, 512, 110) > (2, 64, 512, 512)\n",
      "rtum75: (512, 512, 140) > (3, 64, 512, 512)\n",
      "rtum76: (512, 512, 60) > (1, 64, 512, 512)\n",
      "rtum77: (512, 512, 50) > (1, 64, 512, 512)\n",
      "rtum78: (512, 512, 110) > (2, 64, 512, 512)\n",
      "rtum79: (512, 512, 103) > (2, 64, 512, 512)\n",
      "rtum8: (512, 512, 63) > (1, 64, 512, 512)\n",
      "rtum80: (512, 512, 108) > (2, 64, 512, 512)\n",
      "rtum81: (512, 512, 138) > (3, 64, 512, 512)\n",
      "rtum82: (512, 512, 107) > (2, 64, 512, 512)\n",
      "rtum83: (512, 512, 118) > (2, 64, 512, 512)\n",
      "rtum84: (512, 512, 52) > (1, 64, 512, 512)\n",
      "rtum85: (512, 512, 152) > (3, 64, 512, 512)\n",
      "rtum86: (512, 512, 133) > (3, 64, 512, 512)\n",
      "rtum87: (512, 512, 120) > (2, 64, 512, 512)\n",
      "rtum88: (512, 512, 130) > (3, 64, 512, 512)\n",
      "rtum9: (512, 512, 68) > (1, 64, 512, 512)\n"
     ]
    }
   ],
   "source": [
    "for pid in PATIENT_IDS:\n",
    "    image_path = os.path.join(DATA_DIR, pid, \"SEQ\", f\"CTport-{pid}.nii\")\n",
    "    image = nib.load(image_path)\n",
    "    image_array = image.get_fdata()\n",
    "    image_array = np.transpose(image_array, (2, 0, 1))\n",
    "    subvols = extract_subvolumes(image_array, target_slices=64, stride=32)\n",
    "    print(f\"{pid}: {image.shape} > {subvols.shape}\")"
   ]
  },
  {
   "cell_type": "markdown",
   "id": "6e2d29b2-5756-4d73-9e65-5ac8bc5584f9",
   "metadata": {},
   "source": [
    "# image.slices != mask.slices"
   ]
  },
  {
   "cell_type": "code",
   "execution_count": 56,
   "id": "8cf7b5fa-ce4e-4fa7-a13d-ab65f3de04cb",
   "metadata": {},
   "outputs": [
    {
     "name": "stdout",
     "output_type": "stream",
     "text": [
      "ERROR in patient rtum13\n",
      "\tVol: 67 | Masks : 268 - 268 - 268 - 268\n",
      "ERROR in patient rtum32\n",
      "\tVol: 120 | Masks : 120 - 480 - 120 - 120\n",
      "ERROR in patient rtum85\n",
      "\tVol: 152 | Masks : 152 - 608 - 152 - 152\n"
     ]
    }
   ],
   "source": [
    "for pid in PATIENT_IDS:\n",
    "    sample_dir = os.path.join(DATA_DIR, pid)\n",
    "    image_path = os.path.join(sample_dir, \"SEQ\", f\"CTport-{pid}.nii\")\n",
    "    mask_paths = {\n",
    "        \"pancreas\": os.path.join(sample_dir, \"SEG\", f\"Pancreas-{pid}.nii\"),\n",
    "        \"tumor\": os.path.join(sample_dir, \"SEG\", f\"Tumor-{pid}.nii\"),\n",
    "        \"arteries\": os.path.join(sample_dir, \"SEG\", f\"Arterias-{pid}.nii\"),\n",
    "        \"veins\": os.path.join(sample_dir, \"SEG\", f\"Venas-{pid}.nii\"),\n",
    "    }\n",
    "    image = nib.load(image_path)\n",
    "    vol_slices = image.shape[2]\n",
    "    seg_slices = []\n",
    "    for _, path in mask_paths.items():\n",
    "        mask = nib.load(path)\n",
    "        seg_slices.append(mask.shape[2])\n",
    "    if vol_slices != seg_slices[0] or vol_slices != seg_slices[1] or vol_slices != seg_slices[2] or vol_slices != seg_slices[0]:\n",
    "        print(f\"ERROR in patient {pid}\")\n",
    "        print(f\"\\tVol: {vol_slices} | Masks : {seg_slices[0]} - {seg_slices[1]} - {seg_slices[2]} - {seg_slices[3]}\")"
   ]
  },
  {
   "cell_type": "code",
   "execution_count": 29,
   "id": "e01f0631-da51-400f-9802-951e8e993722",
   "metadata": {},
   "outputs": [],
   "source": [
    "rtum13 = os.path.join(DATA_DIR, 'rtum13')"
   ]
  },
  {
   "cell_type": "code",
   "execution_count": 54,
   "id": "057fb0c9-3959-481c-8ab1-ca45741ea7c5",
   "metadata": {},
   "outputs": [],
   "source": [
    "import os\n",
    "import nibabel as nib\n",
    "import numpy as np\n",
    "from nibabel.processing import resample_from_to\n",
    "\n",
    "def process_and_save_niftis(patient_dir, output_dir):\n",
    "    os.makedirs(output_dir, exist_ok=True)\n",
    "    \n",
    "    pid = os.path.basename(patient_dir)\n",
    "    os.makedirs(os.path.join(output_dir, pid), exist_ok=True)\n",
    "    os.makedirs(os.path.join(output_dir, pid, \"SEG\"), exist_ok=True)\n",
    "    os.makedirs(os.path.join(output_dir, pid, \"SEQ\"), exist_ok=True)\n",
    "\n",
    "    # Cargar la imagen principal\n",
    "    image_path = os.path.join(\"SEQ\", f\"CTport-{pid}.nii\")\n",
    "    img_nii = nib.load(os.path.join(patient_dir, image_path))\n",
    "    \n",
    "    # Guardamos la imagen sin modificaciones\n",
    "    nib.save(img_nii, os.path.join(output_dir, pid, image_path))\n",
    "\n",
    "    # Diccionario con las rutas de las máscaras\n",
    "    mask_paths = {\n",
    "        \"pancreas\": os.path.join(\"SEG\", f\"Pancreas-{pid}.nii\"),\n",
    "        \"tumor\": os.path.join(\"SEG\", f\"Tumor-{pid}.nii\"),\n",
    "        \"arteries\": os.path.join(\"SEG\", f\"Arterias-{pid}.nii\"),\n",
    "        \"veins\": os.path.join(\"SEG\", f\"Venas-{pid}.nii\"),\n",
    "    }\n",
    "\n",
    "    for label, path in mask_paths.items():\n",
    "        mask_nii = nib.load(os.path.join(patient_dir, path))\n",
    "        \n",
    "        # Reescalar máscara al espacio de la imagen\n",
    "        mask_resampled = resample_from_to(mask_nii, img_nii, order=0)  # order=0 mantiene etiquetas discretas\n",
    "        \n",
    "        print(f\"🔹 {label} | Original: {mask_nii.shape}, Reescalado: {mask_resampled.shape}\")\n",
    "\n",
    "        # Guardamos la nueva máscara corregida\n",
    "        nib.save(mask_resampled, os.path.join(output_dir, pid, path))\n",
    "\n",
    "    print(f\"✅ Archivos corregidos guardados en {os.path.join(output_dir, pid)}\")\n"
   ]
  },
  {
   "cell_type": "code",
   "execution_count": 55,
   "id": "731a5f02-1104-449a-a9ae-a5decd757521",
   "metadata": {},
   "outputs": [
    {
     "name": "stdout",
     "output_type": "stream",
     "text": [
      "🔹 pancreas | Original: (512, 512, 268), Reescalado: (512, 512, 67)\n",
      "🔹 tumor | Original: (512, 512, 268), Reescalado: (512, 512, 67)\n",
      "🔹 arteries | Original: (512, 512, 268), Reescalado: (512, 512, 67)\n",
      "🔹 veins | Original: (512, 512, 268), Reescalado: (512, 512, 67)\n",
      "✅ Archivos corregidos guardados en data/processed/rtum13\n"
     ]
    }
   ],
   "source": [
    "process_and_save_niftis(rtum13, 'data/processed/')"
   ]
  }
 ],
 "metadata": {
  "kernelspec": {
   "display_name": "Python 3 (ipykernel)",
   "language": "python",
   "name": "python3"
  },
  "language_info": {
   "codemirror_mode": {
    "name": "ipython",
    "version": 3
   },
   "file_extension": ".py",
   "mimetype": "text/x-python",
   "name": "python",
   "nbconvert_exporter": "python",
   "pygments_lexer": "ipython3",
   "version": "3.9.21"
  }
 },
 "nbformat": 4,
 "nbformat_minor": 5
}
