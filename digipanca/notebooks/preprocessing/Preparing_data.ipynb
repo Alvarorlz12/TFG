{
 "cells": [
  {
   "cell_type": "markdown",
   "id": "1774456f-bbc2-4c83-8443-7921d0693d0f",
   "metadata": {},
   "source": [
    "# __Import & config__"
   ]
  },
  {
   "cell_type": "code",
   "execution_count": 1,
   "id": "3a9bddb7-efba-44ae-9bc1-e1f35ba9b21a",
   "metadata": {},
   "outputs": [],
   "source": [
    "%load_ext autoreload\n",
    "%autoreload 2\n",
    "import os\n",
    "os.chdir('C:\\\\Users\\\\Usuario\\\\TFG\\\\digipanca\\\\')"
   ]
  },
  {
   "cell_type": "code",
   "execution_count": 13,
   "id": "848ba81b-cea1-44a9-b124-4d23436dec3a",
   "metadata": {},
   "outputs": [],
   "source": [
    "import nibabel as nib\n",
    "import numpy as np\n",
    "import torch\n",
    "from tqdm.auto import tqdm"
   ]
  },
  {
   "cell_type": "markdown",
   "id": "67412412-961e-4ae7-aa8d-af2d4364a327",
   "metadata": {},
   "source": [
    "# __Functions__"
   ]
  },
  {
   "cell_type": "code",
   "execution_count": 10,
   "id": "42c32cc5-17ac-4c1a-b169-896e65ea4e65",
   "metadata": {
    "jupyter": {
     "source_hidden": true
    }
   },
   "outputs": [],
   "source": [
    "def get_patient_data(patient_dir):\n",
    "    patient_id = os.path.basename(patient_dir)\n",
    "    # Image and mask paths\n",
    "    image_path = os.path.join(patient_dir, \"SEQ\", f\"CTport-{patient_id}.nii\")\n",
    "    mask_paths = {\n",
    "        \"pancreas\": os.path.join(patient_dir, \"SEG\", f\"Pancreas-{patient_id}.nii\"),\n",
    "        \"tumor\": os.path.join(patient_dir, \"SEG\", f\"Tumor-{patient_id}.nii\"),\n",
    "        \"arteries\": os.path.join(patient_dir, \"SEG\", f\"Arterias-{patient_id}.nii\"),\n",
    "        \"veins\": os.path.join(patient_dir, \"SEG\", f\"Venas-{patient_id}.nii\"),\n",
    "    }\n",
    "\n",
    "    image_nii = nib.load(image_path)\n",
    "\n",
    "    masks = np.zeros_like(image_nii.get_fdata(), dtype=np.uint8)\n",
    "\n",
    "    # Combine the segmentation masks\n",
    "    for i, (_, mask_path) in enumerate(mask_paths.items(), start=1):\n",
    "        mask_nii = nib.load(mask_path)\n",
    "        mask_data = mask_nii.get_fdata()\n",
    "\n",
    "        # Binarize the mask\n",
    "        mask_data = (mask_data > 0).astype(np.uint8)\n",
    "\n",
    "        masks[mask_data > 0] = i\n",
    "\n",
    "    masks_nii = nib.Nifti1Image(\n",
    "        dataobj=masks,\n",
    "        affine=mask_nii.affine,\n",
    "        header=mask_nii.header\n",
    "    )\n",
    "\n",
    "    return image_nii, masks_nii"
   ]
  },
  {
   "cell_type": "code",
   "execution_count": null,
   "id": "04438f88-9ead-4059-8c3a-18cb0704e640",
   "metadata": {},
   "outputs": [],
   "source": [
    "def save_patient_data(folder, patient_id, vol, msk):\n",
    "    # Get number of the patient\n",
    "    n = int(patient_id.split('m')[1])   # rtumN\n",
    "    vol_path = os.path.join(folder, f'rtum{n:03d}.nii.gz')\n",
    "    msk_path = os.path.join(folder, f'rtum{n:03d}.nii.gz')\n",
    "    # Save the volume and mask\n",
    "    nib.save(vol, vol_path)\n",
    "    nib.save(msk, msk_path)"
   ]
  },
  {
   "cell_type": "markdown",
   "id": "85f56159",
   "metadata": {},
   "source": [
    "## Test functions"
   ]
  },
  {
   "cell_type": "code",
   "execution_count": 11,
   "id": "ee2d4cc2",
   "metadata": {},
   "outputs": [
    {
     "name": "stdout",
     "output_type": "stream",
     "text": [
      "(512, 512, 91)\n",
      "(512, 512, 91)\n"
     ]
    }
   ],
   "source": [
    "# test\n",
    "patient_dir = 'C:\\\\Users\\\\Usuario\\\\TFG\\\\digipanca\\\\data\\\\raw\\\\train\\\\rtum1'\n",
    "image_nii, masks_nii = get_patient_data(patient_dir)\n",
    "print(image_nii.shape)\n",
    "print(masks_nii.shape)\n",
    "# Save the data\n",
    "save_folder = 'C:\\\\Users\\\\Usuario\\\\TFG\\\\digipanca\\\\data\\\\prepared\\\\train'\n",
    "os.makedirs(os.path.join(save_folder, 'images'), exist_ok=True)\n",
    "os.makedirs(os.path.join(save_folder, 'masks'), exist_ok=True)\n",
    "save_patient_data(save_folder, 'rtum01', image_nii, masks_nii)\n",
    "# Check the saved data"
   ]
  },
  {
   "cell_type": "code",
   "execution_count": 12,
   "id": "57ba2e9b",
   "metadata": {},
   "outputs": [
    {
     "name": "stdout",
     "output_type": "stream",
     "text": [
      "True\n",
      "True\n"
     ]
    }
   ],
   "source": [
    "# test equality\n",
    "image_nii2 = nib.load(os.path.join(save_folder, 'images', 'rtum001.nii.gz'))\n",
    "masks_nii2 = nib.load(os.path.join(save_folder, 'masks', 'rtum001.nii.gz'))\n",
    "print(np.array_equal(image_nii.get_fdata(), image_nii2.get_fdata()))\n",
    "print(np.array_equal(masks_nii.get_fdata(), masks_nii2.get_fdata()))"
   ]
  },
  {
   "cell_type": "markdown",
   "id": "bdd1e3ff",
   "metadata": {},
   "source": [
    "# __Prepare data__"
   ]
  },
  {
   "cell_type": "markdown",
   "id": "a883a802",
   "metadata": {},
   "source": [
    "## Train data"
   ]
  },
  {
   "cell_type": "code",
   "execution_count": null,
   "id": "fb99be23",
   "metadata": {},
   "outputs": [
    {
     "name": "stdout",
     "output_type": "stream",
     "text": [
      "Found 88 patient directories.\n"
     ]
    },
    {
     "data": {
      "application/vnd.jupyter.widget-view+json": {
       "model_id": "5da3c136f83347bcb0bdde9badf8fd22",
       "version_major": 2,
       "version_minor": 0
      },
      "text/plain": [
       "  0%|          | 0/88 [00:00<?, ?it/s]"
      ]
     },
     "metadata": {},
     "output_type": "display_data"
    }
   ],
   "source": [
    "data_dir = 'data/raw/train'\n",
    "save_folder = 'data/prepared/'\n",
    "os.makedirs(os.path.join(save_folder, 'imagesTr'), exist_ok=True)\n",
    "os.makedirs(os.path.join(save_folder, 'labelsTr'), exist_ok=True)\n",
    "# Get all patient directories\n",
    "patient_dirs = [os.path.join(data_dir, d) for d in os.listdir(data_dir) if os.path.isdir(os.path.join(data_dir, d))]\n",
    "print(f\"Found {len(patient_dirs)} patient directories.\")\n",
    "# Process each patient directory\n",
    "for patient_dir in tqdm(patient_dirs):\n",
    "    # Get the patient ID\n",
    "    patient_id = os.path.basename(patient_dir)\n",
    "    # Get the image and mask data\n",
    "    image_nii, masks_nii = get_patient_data(patient_dir)\n",
    "    # Save the data\n",
    "    save_patient_data(save_folder, patient_id, image_nii, masks_nii)"
   ]
  },
  {
   "cell_type": "markdown",
   "id": "7fdc51cd",
   "metadata": {},
   "source": [
    "## Test data"
   ]
  },
  {
   "cell_type": "code",
   "execution_count": null,
   "id": "2a9591cc",
   "metadata": {},
   "outputs": [
    {
     "name": "stdout",
     "output_type": "stream",
     "text": [
      "Found 28 patient directories.\n"
     ]
    },
    {
     "data": {
      "application/vnd.jupyter.widget-view+json": {
       "model_id": "17f415cd700e4259b9a381dc35ef3a0f",
       "version_major": 2,
       "version_minor": 0
      },
      "text/plain": [
       "  0%|          | 0/28 [00:00<?, ?it/s]"
      ]
     },
     "metadata": {},
     "output_type": "display_data"
    }
   ],
   "source": [
    "data_dir = 'data/raw/test'\n",
    "save_folder = 'data/prepared/'\n",
    "os.makedirs(os.path.join(save_folder, 'imagesTs'), exist_ok=True)\n",
    "os.makedirs(os.path.join(save_folder, 'labelsTs'), exist_ok=True)\n",
    "# Get all patient directories\n",
    "patient_dirs = [os.path.join(data_dir, d) for d in os.listdir(data_dir) if os.path.isdir(os.path.join(data_dir, d))]\n",
    "print(f\"Found {len(patient_dirs)} patient directories.\")\n",
    "# Process each patient directory\n",
    "for patient_dir in tqdm(patient_dirs):\n",
    "    # Get the patient ID\n",
    "    patient_id = os.path.basename(patient_dir)\n",
    "    # Get the image and mask data\n",
    "    image_nii, masks_nii = get_patient_data(patient_dir)\n",
    "    # Save the data\n",
    "    save_patient_data(save_folder, patient_id, image_nii, masks_nii)"
   ]
  }
 ],
 "metadata": {
  "kernelspec": {
   "display_name": "pancreas-segmentation",
   "language": "python",
   "name": "python3"
  },
  "language_info": {
   "codemirror_mode": {
    "name": "ipython",
    "version": 3
   },
   "file_extension": ".py",
   "mimetype": "text/x-python",
   "name": "python",
   "nbconvert_exporter": "python",
   "pygments_lexer": "ipython3",
   "version": "3.9.21"
  }
 },
 "nbformat": 4,
 "nbformat_minor": 5
}
