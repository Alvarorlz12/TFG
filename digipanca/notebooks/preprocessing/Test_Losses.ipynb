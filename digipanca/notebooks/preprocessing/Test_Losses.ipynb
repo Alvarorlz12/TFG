{
 "cells": [
  {
   "cell_type": "markdown",
   "id": "eeff42b2-c943-4019-929b-3bf4de9630ed",
   "metadata": {},
   "source": [
    "# Imports y config"
   ]
  },
  {
   "cell_type": "code",
   "execution_count": 1,
   "id": "d1940984-e861-407d-b2e9-713dc81657ed",
   "metadata": {},
   "outputs": [],
   "source": [
    "%load_ext autoreload\n",
    "%autoreload 2"
   ]
  },
  {
   "cell_type": "code",
   "execution_count": 16,
   "id": "3a3469d7-224b-4546-9a9d-675837dbc321",
   "metadata": {},
   "outputs": [],
   "source": [
    "import os\n",
    "import numpy as np\n",
    "import torch\n",
    "from monai.losses import FocalLoss as MONAIFocalLoss"
   ]
  },
  {
   "cell_type": "code",
   "execution_count": 5,
   "id": "3f045164-ae7d-4c13-9e40-04f43051c799",
   "metadata": {},
   "outputs": [],
   "source": [
    "os.chdir('C:\\\\Users\\\\Usuario\\\\TFG\\\\digipanca\\\\')"
   ]
  },
  {
   "cell_type": "markdown",
   "id": "95980630-07b0-4f57-b17c-4a46580689fd",
   "metadata": {},
   "source": [
    "# `y_true` e `y_pred`"
   ]
  },
  {
   "cell_type": "code",
   "execution_count": 28,
   "id": "4c379ba7-7256-4bbd-97d6-f0c7e6144d8d",
   "metadata": {},
   "outputs": [],
   "source": [
    "# Datos de prueba\n",
    "batch_size, num_classes, height, width = 2, 4, 128, 128\n",
    "\n",
    "# Simulamos predicciones (logits antes de softmax)\n",
    "y_pred = torch.randn(batch_size, num_classes, height, width, requires_grad=True)\n",
    "\n",
    "# Simulamos etiquetas verdaderas (enteros de 0 a num_classes-1)\n",
    "y_true = torch.randint(0, num_classes, (batch_size, height, width))"
   ]
  },
  {
   "cell_type": "markdown",
   "id": "9efad867-9691-42ae-a43b-33e81402343d",
   "metadata": {},
   "source": [
    "# FocalLoss"
   ]
  },
  {
   "cell_type": "code",
   "execution_count": 54,
   "id": "dea9e01f-f85a-4e7a-b403-b3a04a2c8cd9",
   "metadata": {},
   "outputs": [],
   "source": [
    "import torch\n",
    "import torch.nn as nn\n",
    "import torch.nn.functional as F\n",
    "from monai.losses import FocalLoss as MONAIFocalLoss\n",
    "\n",
    "class FocalLoss(nn.Module):\n",
    "    def __init__(self, gamma=2.0, reduction='mean', include_background=False):\n",
    "        \"\"\"\n",
    "        Implementación de Focal Loss basada en MONAI.\n",
    "\n",
    "        Parámetros:\n",
    "        -----------\n",
    "        gamma : float\n",
    "            Factor de modulación que controla el enfoque en muestras difíciles.\n",
    "        reduction : str\n",
    "            Método de reducción ('mean', 'sum' o 'none').\n",
    "        \"\"\"\n",
    "        super(FocalLoss, self).__init__()\n",
    "        self.monai_focal_loss = MONAIFocalLoss(gamma=gamma, reduction=reduction, include_background=include_background)\n",
    "\n",
    "    def forward(self, y_pred, y_true):\n",
    "        \"\"\"\n",
    "        Calcula la pérdida focal usando la implementación de MONAI.\n",
    "\n",
    "        Parámetros:\n",
    "        -----------\n",
    "        y_pred : tensor de forma (B, C, H, W)\n",
    "            Predicciones del modelo (logits, NO softmax aplicado).\n",
    "        y_true : tensor de forma (B, H, W)\n",
    "            Etiquetas verdaderas con valores en [0, C-1] (NO one-hot).\n",
    "\n",
    "        Retorna:\n",
    "        --------\n",
    "        Tensor escalar con la pérdida focal.\n",
    "        \"\"\"\n",
    "        num_classes = y_pred.shape[1]\n",
    "\n",
    "        # Convertir y_true a one-hot si es necesario\n",
    "        if y_true.dim() == 3:  # (B, H, W) → (B, C, H, W)\n",
    "            y_true = F.one_hot(y_true, num_classes).permute(0, 3, 1, 2).float()\n",
    "\n",
    "        return self.monai_focal_loss(y_pred, y_true)"
   ]
  },
  {
   "cell_type": "markdown",
   "id": "aceccaf4-1b13-4ff0-92e6-56bb912ac620",
   "metadata": {},
   "source": [
    "# Testing"
   ]
  },
  {
   "cell_type": "code",
   "execution_count": 32,
   "id": "4fc84f3b-5f6d-4f3a-a97d-6ee6f3fd9b10",
   "metadata": {},
   "outputs": [
    {
     "name": "stdout",
     "output_type": "stream",
     "text": [
      "Pérdida FocalLoss Implementación Propia: 0.311796\n",
      "Pérdida FocalLoss MONAI: 0.347751\n",
      "¿Son iguales? No\n"
     ]
    }
   ],
   "source": [
    "# Instanciamos ambas pérdidas con gamma=2.0\n",
    "custom_focal_loss = FocalLoss(gamma=2.0, reduction='mean')\n",
    "monai_focal_loss = MONAIFocalLoss(gamma=2.0)\n",
    "\n",
    "# Calculamos la pérdida con la implementación propia\n",
    "loss_custom = custom_focal_loss(y_pred, y_true).item()\n",
    "\n",
    "# MONAI requiere one-hot encoding de y_true\n",
    "y_true_one_hot = F.one_hot(y_true, num_classes).permute(0, 3, 1, 2).float()\n",
    "loss_monai = monai_focal_loss(y_pred, y_true_one_hot).item()\n",
    "\n",
    "# Comparación de resultados\n",
    "print(f\"Pérdida FocalLoss Implementación Propia: {loss_custom:.6f}\")\n",
    "print(f\"Pérdida FocalLoss MONAI: {loss_monai:.6f}\")\n",
    "print(f\"¿Son iguales? {'Sí' if abs(loss_custom - loss_monai) < 1e-6 else 'No'}\")"
   ]
  },
  {
   "cell_type": "code",
   "execution_count": 52,
   "id": "5a70143a-4d55-49c2-8d2b-0cb359c94cdb",
   "metadata": {},
   "outputs": [
    {
     "name": "stdout",
     "output_type": "stream",
     "text": [
      "Pérdida FocalLoss Implementación Propia: 0.348555\n",
      "Pérdida FocalLoss MONAI: 0.348555\n",
      "¿Son iguales? Sí\n"
     ]
    }
   ],
   "source": [
    "# Crear datos de prueba\n",
    "batch_size, num_classes, height, width = 2, 4, 128, 128\n",
    "y_pred = torch.randn(batch_size, num_classes, height, width, requires_grad=True)\n",
    "y_true = torch.randint(0, num_classes, (batch_size, height, width))\n",
    "\n",
    "# Instanciar ambas pérdidas\n",
    "custom_focal_loss = FocalLoss(gamma=2.0, reduction='mean')\n",
    "monai_focal_loss = MONAIFocalLoss(gamma=2.0, reduction='mean')\n",
    "\n",
    "# Calcular pérdidas\n",
    "loss_custom = custom_focal_loss(y_pred, y_true).item()\n",
    "loss_monai = monai_focal_loss(y_pred, F.one_hot(y_true, num_classes).permute(0, 3, 1, 2).float()).item()\n",
    "\n",
    "print(f\"Pérdida FocalLoss Implementación Propia: {loss_custom:.6f}\")\n",
    "print(f\"Pérdida FocalLoss MONAI: {loss_monai:.6f}\")\n",
    "print(f\"¿Son iguales? {'Sí' if abs(loss_custom - loss_monai) < 1e-6 else 'No'}\")\n"
   ]
  },
  {
   "cell_type": "code",
   "execution_count": 55,
   "id": "4fd335b9-9535-4c5c-9cbe-158624b6f635",
   "metadata": {},
   "outputs": [
    {
     "name": "stdout",
     "output_type": "stream",
     "text": [
      "Pérdida con fondo: 0.348555\n",
      "Pérdida sin fondo: 0.348450\n"
     ]
    }
   ],
   "source": [
    "focal_with_bg = FocalLoss(gamma=2.0, include_background=True)\n",
    "focal_no_bg = FocalLoss(gamma=2.0, include_background=False)\n",
    "\n",
    "loss_with_bg = focal_with_bg(y_pred, y_true).item()\n",
    "loss_no_bg = focal_no_bg(y_pred, y_true).item()\n",
    "\n",
    "print(f\"Pérdida con fondo: {loss_with_bg:.6f}\")\n",
    "print(f\"Pérdida sin fondo: {loss_no_bg:.6f}\")"
   ]
  },
  {
   "cell_type": "code",
   "execution_count": 56,
   "id": "89012b1a-4800-4673-aa71-12a81da35889",
   "metadata": {},
   "outputs": [
    {
     "name": "stdout",
     "output_type": "stream",
     "text": [
      "Distribución de clases en y_true: {0: 8165, 1: 8313, 2: 8232, 3: 8058}\n"
     ]
    }
   ],
   "source": [
    "unique, counts = torch.unique(y_true, return_counts=True)\n",
    "print(\"Distribución de clases en y_true:\", dict(zip(unique.tolist(), counts.tolist())))\n"
   ]
  }
 ],
 "metadata": {
  "kernelspec": {
   "display_name": "Python 3 (ipykernel)",
   "language": "python",
   "name": "python3"
  },
  "language_info": {
   "codemirror_mode": {
    "name": "ipython",
    "version": 3
   },
   "file_extension": ".py",
   "mimetype": "text/x-python",
   "name": "python",
   "nbconvert_exporter": "python",
   "pygments_lexer": "ipython3",
   "version": "3.9.21"
  }
 },
 "nbformat": 4,
 "nbformat_minor": 5
}
