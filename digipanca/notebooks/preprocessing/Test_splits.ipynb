{
 "cells": [
  {
   "cell_type": "code",
   "execution_count": 1,
   "id": "df4a6bbd-02c3-4634-8918-b0cbb57f9529",
   "metadata": {},
   "outputs": [],
   "source": [
    "%load_ext autoreload\n",
    "%autoreload 2"
   ]
  },
  {
   "cell_type": "code",
   "execution_count": 44,
   "id": "a52f7778-df49-44d0-838e-520d901f6544",
   "metadata": {},
   "outputs": [],
   "source": [
    "import os\n",
    "import torch\n",
    "from src.data import PancreasDataset\n",
    "from src.data.dataset import RAW_DIR\n",
    "\n",
    "from torch.utils.data import DataLoader\n",
    "from src.models.standard_unet import UNet\n",
    "from src.utils import Logger\n",
    "from src.losses import MulticlassDiceLoss\n",
    "from torch.optim import Adam\n",
    "from src.training import Trainer"
   ]
  },
  {
   "cell_type": "code",
   "execution_count": 45,
   "id": "88ea43fd-d2b5-4e03-a973-cff75fc9852f",
   "metadata": {},
   "outputs": [
    {
     "name": "stdout",
     "output_type": "stream",
     "text": [
      "['C:\\\\Users\\\\Usuario\\\\TFG\\\\digipanca\\\\data\\\\raw\\\\rtum1', 'C:\\\\Users\\\\Usuario\\\\TFG\\\\digipanca\\\\data\\\\raw\\\\rtum10']\n"
     ]
    }
   ],
   "source": [
    "sample_dirs = [os.path.join(RAW_DIR, sd) for sd in os.listdir(RAW_DIR)]\n",
    "ids = sample_dirs[:2]\n",
    "print(ids)\n",
    "# dataset = PancreasDataset(ids)"
   ]
  },
  {
   "cell_type": "code",
   "execution_count": 46,
   "id": "513f30bb-7b4e-47c0-b519-c873e1f7a52e",
   "metadata": {},
   "outputs": [
    {
     "name": "stdout",
     "output_type": "stream",
     "text": [
      "Loaded train-test split from file: train_test_split.json.\n",
      "📊 Loading dataset... 1 patients found.\n",
      "📊 Dataset loaded with 91 slices.\n",
      "📊 Loading dataset... 1 patients found.\n",
      "📊 Dataset loaded with 56 slices.\n"
     ]
    }
   ],
   "source": [
    "train_dataset, test_dataset, train_ids, test_ids = PancreasDataset.create_train_test_split(ids, 0.5)"
   ]
  },
  {
   "cell_type": "code",
   "execution_count": 47,
   "id": "c2e8cf17-ff19-45ae-b86a-2012c7178485",
   "metadata": {},
   "outputs": [],
   "source": [
    "train_dls = DataLoader(\n",
    "    train_dataset,\n",
    "    batch_size=16,\n",
    "    shuffle=True,\n",
    "    num_workers=4\n",
    ")\n",
    "test_dls = DataLoader(\n",
    "    test_dataset,\n",
    "    batch_size=16,\n",
    "    shuffle=False,\n",
    "    num_workers=4\n",
    ")"
   ]
  },
  {
   "cell_type": "code",
   "execution_count": 48,
   "id": "40e60830-fdb3-435c-91ae-6d7fba4deb3a",
   "metadata": {},
   "outputs": [],
   "source": [
    "logger = Logger(log_dir=\"test/logs\", verbosity=\"INFO\")"
   ]
  },
  {
   "cell_type": "code",
   "execution_count": 49,
   "id": "b687a20f-edc4-46ab-8e3b-c91a91180915",
   "metadata": {},
   "outputs": [],
   "source": [
    "model = UNet(1,5,32)\n",
    "loss_fn = MulticlassDiceLoss()\n",
    "optimizer = Adam(model.parameters(),lr=1e-4, weight_decay=1e-5)"
   ]
  },
  {
   "cell_type": "code",
   "execution_count": 50,
   "id": "1b76a710-9e84-4f0e-bd6b-3ad3ecc0a605",
   "metadata": {},
   "outputs": [
    {
     "data": {
      "text/plain": [
       "device(type='cpu')"
      ]
     },
     "execution_count": 50,
     "metadata": {},
     "output_type": "execute_result"
    }
   ],
   "source": [
    "device = torch.device(\"cuda\" if torch.cuda.is_available() else \"cpu\")\n",
    "device"
   ]
  },
  {
   "cell_type": "code",
   "execution_count": 51,
   "id": "9a664607-45ef-4d6c-8abc-fd2720fba718",
   "metadata": {},
   "outputs": [],
   "source": [
    "trainer = Trainer(\n",
    "    model,\n",
    "    optimizer,\n",
    "    loss_fn,\n",
    "    device\n",
    ")"
   ]
  },
  {
   "cell_type": "code",
   "execution_count": 52,
   "id": "b2aa58b3-c9b8-41d2-a2cc-a7e4a9e252ab",
   "metadata": {},
   "outputs": [
    {
     "name": "stderr",
     "output_type": "stream",
     "text": [
      "Epoch 1 [Train]: 100%|███████████████████████████████████████████████████████████████████████████████████████████████████████| 6/6 [00:17<00:00,  2.84s/it]\n",
      "Epoch 1 [Val]: 100%|█████████████████████████████████████████████████████████████████████████████████████████████████████████| 4/4 [00:14<00:00,  3.57s/it]\n"
     ]
    },
    {
     "data": {
      "text/plain": [
       "([0.9964405993620554], [0.9940736442804337])"
      ]
     },
     "execution_count": 52,
     "metadata": {},
     "output_type": "execute_result"
    }
   ],
   "source": [
    "trainer.fit(train_dls, test_dls, 1)"
   ]
  }
 ],
 "metadata": {
  "kernelspec": {
   "display_name": "Python 3 (ipykernel)",
   "language": "python",
   "name": "python3"
  },
  "language_info": {
   "codemirror_mode": {
    "name": "ipython",
    "version": 3
   },
   "file_extension": ".py",
   "mimetype": "text/x-python",
   "name": "python",
   "nbconvert_exporter": "python",
   "pygments_lexer": "ipython3",
   "version": "3.9.21"
  }
 },
 "nbformat": 4,
 "nbformat_minor": 5
}
