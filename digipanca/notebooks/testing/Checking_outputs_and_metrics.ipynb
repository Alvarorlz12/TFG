{
 "cells": [
  {
   "cell_type": "code",
   "execution_count": 1,
   "id": "e1b86e00-d0e1-4605-9937-23b7abe90670",
   "metadata": {},
   "outputs": [],
   "source": [
    "%load_ext autoreload\n",
    "%autoreload 2"
   ]
  },
  {
   "cell_type": "code",
   "execution_count": 2,
   "id": "230ba869-9e19-49f2-86e4-9b99359f0980",
   "metadata": {},
   "outputs": [],
   "source": [
    "import os\n",
    "os.chdir('C:\\\\Users\\\\Usuario\\\\TFG\\\\digipanca\\\\')"
   ]
  },
  {
   "cell_type": "code",
   "execution_count": 4,
   "id": "938029c8-28f3-464c-ae7a-3bd9bd55de39",
   "metadata": {},
   "outputs": [],
   "source": [
    "import torch\n",
    "from src.models.custom_deeplabv3 import CustomDeepLabV3 as dl\n",
    "from src.metrics.segmentation import SegmentationMetrics as sm\n",
    "from src.metrics.segmentation_bak import SegmentationMetrics as smb"
   ]
  },
  {
   "cell_type": "markdown",
   "id": "980cec66-7641-4881-9ee9-85cb5fe1164b",
   "metadata": {},
   "source": [
    "# __Test__"
   ]
  },
  {
   "cell_type": "code",
   "execution_count": 11,
   "id": "35a2fc3c-68e0-48f1-b69f-00e4975d22c7",
   "metadata": {},
   "outputs": [],
   "source": [
    "B, num_classes, H, W = 4, 5, 256, 256\n",
    "model = dl(num_classes=num_classes, dropout_rate=0.2)"
   ]
  },
  {
   "cell_type": "markdown",
   "id": "0d1c29f1-3946-4c00-83a5-18270693bc96",
   "metadata": {},
   "source": [
    "## Generate prediction (_logits_)"
   ]
  },
  {
   "cell_type": "code",
   "execution_count": 32,
   "id": "745d15a0-6cec-43e9-85ad-34a5710e9c0b",
   "metadata": {},
   "outputs": [
    {
     "name": "stdout",
     "output_type": "stream",
     "text": [
      "torch.Size([4, 5, 256, 256])\n"
     ]
    }
   ],
   "source": [
    "channels = 1\n",
    "input_tensor = torch.randn(B, channels, H, W)\n",
    "output = model(input_tensor)['out']\n",
    "print(output.shape)"
   ]
  },
  {
   "cell_type": "markdown",
   "id": "98339fb9-9845-4c58-a2c0-a4fcfbcd9faa",
   "metadata": {},
   "source": [
    "## Generate random mask (_class indices_)"
   ]
  },
  {
   "cell_type": "code",
   "execution_count": 33,
   "id": "94de7065-0c15-4d06-9ea1-477d244e7eab",
   "metadata": {},
   "outputs": [
    {
     "name": "stdout",
     "output_type": "stream",
     "text": [
      "torch.Size([4, 256, 256])\n"
     ]
    }
   ],
   "source": [
    "random_mask = torch.randint(0, num_classes, (B, H, W))\n",
    "print(random_mask.shape)"
   ]
  },
  {
   "cell_type": "markdown",
   "id": "6fe5ef9c-3075-4c24-9e50-b5aadcba06f4",
   "metadata": {},
   "source": [
    "### Test"
   ]
  },
  {
   "cell_type": "code",
   "execution_count": 34,
   "id": "a48be6a4-c5e9-43d6-a0da-069332222d9a",
   "metadata": {},
   "outputs": [
    {
     "name": "stdout",
     "output_type": "stream",
     "text": [
      "else if\n"
     ]
    }
   ],
   "source": [
    "metrics_a = sm.all_metrics(output, random_mask)\n",
    "metrics_b = smb.all_metrics(output, random_mask)"
   ]
  },
  {
   "cell_type": "code",
   "execution_count": 35,
   "id": "30733127-566d-4261-bc9e-9bedcfb001f0",
   "metadata": {},
   "outputs": [
    {
     "name": "stdout",
     "output_type": "stream",
     "text": [
      "EQUALS: False\n",
      "----------------------------------------\n",
      "{'dice_class_0': 0.0778409019112587, 'dice_class_1': 0.1709488034248352, 'dice_class_2': 0.2024432122707367, 'dice_class_3': 0.13893862068653107, 'dice_class_4': 0.1975739300251007, 'dice_mean': 0.15754908323287964, 'iou_class_0': 0.041024453938007355, 'iou_class_1': 0.09694793075323105, 'iou_class_2': 0.11460772156715393, 'iou_class_3': 0.07773466408252716, 'iou_class_4': 0.11103041470050812, 'iou_mean': 0.08826903998851776, 'precision_class_0': 0.19764210283756256, 'precision_class_1': 0.2007494568824768, 'precision_class_2': 0.20040568709373474, 'precision_class_3': 0.1935102343559265, 'precision_class_4': 0.2019074708223343, 'recall_class_0': 0.05310937389731407, 'recall_class_1': 0.2837788164615631, 'recall_class_2': 0.2777024209499359, 'recall_class_3': 0.16389887034893036, 'recall_class_4': 0.2251136153936386, 'dice': 0.15754908323287964, 'iou': 0.08826903998851776, 'precision': 0.19884298741817474, 'recall': 0.2007206231355667}\n",
      "----------------------------------------\n",
      "{'dice_class_0': 0.19131189584732056, 'dice_class_1': 0.20297753810882568, 'dice_class_2': 0.20544475317001343, 'dice_class_3': 0.19785012304782867, 'dice_class_4': 0.20244868099689484, 'dice_mean': 0.2000066041946411, 'iou_class_0': 0.10577384382486343, 'iou_class_1': 0.11295215040445328, 'iou_class_2': 0.11448226124048233, 'iou_class_3': 0.10978560149669647, 'iou_class_4': 0.11262470483779907, 'iou_mean': 0.1111237034201622, 'precision_class_0': 0.20008693635463715, 'precision_class_1': 0.2005154937505722, 'precision_class_2': 0.20075327157974243, 'precision_class_3': 0.19984425604343414, 'precision_class_4': 0.19940488040447235, 'precision_mean': 0.2001209706068039, 'recall_class_0': 0.18327419459819794, 'recall_class_1': 0.2055007964372635, 'recall_class_2': 0.21036073565483093, 'recall_class_3': 0.19589537382125854, 'recall_class_4': 0.20558683574199677, 'recall_mean': 0.200123593211174, 'dice': 0.2000066041946411, 'iou': 0.1111237034201622, 'precision': 0.2001209706068039, 'recall': 0.200123593211174}\n"
     ]
    }
   ],
   "source": [
    "print(\"EQUALS:\", (metrics_a==metrics_b))\n",
    "print('-'*40)\n",
    "print(metrics_a)\n",
    "print('-'*40)\n",
    "print(metrics_b)"
   ]
  },
  {
   "cell_type": "code",
   "execution_count": 31,
   "id": "01c81e28-8360-49d2-b6e6-b4f84dcfbeb3",
   "metadata": {},
   "outputs": [],
   "source": [
    "def to_one_hot(masks, num_classes):\n",
    "    if masks.dim() == 3:  # 2D (batch_size, height, width)\n",
    "        batch_size, height, width = masks.shape\n",
    "        masks_one_hot = torch.zeros(batch_size, num_classes, height, width, device=masks.device)\n",
    "        masks_one_hot.scatter_(1, masks.unsqueeze(1), 1)\n",
    "\n",
    "    return masks_one_hot\n",
    "\n",
    "import monai.transforms as MT\n",
    "def monai_to_one_hot(y, N):\n",
    "    ad = MT.AsDiscrete(argmax=True, to_onehot=N)\n",
    "    y_oh = ad(y)\n",
    "    return y_oh"
   ]
  },
  {
   "cell_type": "code",
   "execution_count": 41,
   "id": "cd910538-3cf2-48af-8aec-e0ebe1de0e9a",
   "metadata": {},
   "outputs": [
    {
     "name": "stdout",
     "output_type": "stream",
     "text": [
      "tensor([0.0778, 0.1709, 0.2024, 0.1389, 0.1976])\n",
      "tensor(0.1575)\n"
     ]
    }
   ],
   "source": [
    "import monai.metrics as mm\n",
    "\n",
    "# y_pred = torch.argmax(output, dim=1, keepdim=True)\n",
    "# y_pred = torch.nn.functional.softmax(output, dim=1)\n",
    "y_pred = torch.argmax(output, dim=1, keepdim=True)\n",
    "y_pred_one_hot = torch.zeros(B, num_classes, H, W)\n",
    "y_pred_one_hot.scatter_(1, y_pred, 1)\n",
    "\n",
    "y_true = to_one_hot(random_mask, num_classes)\n",
    "dice_monai = mm.DiceMetric(reduction='none')(y_pred_one_hot, y_true)\n",
    "\n",
    "print(dice_monai.mean(dim=0))\n",
    "print(dice_monai.mean(dim=0).mean())"
   ]
  },
  {
   "cell_type": "code",
   "execution_count": 42,
   "id": "51bc5047-bc32-4da7-bbfe-4c5a0b42b6c4",
   "metadata": {},
   "outputs": [
    {
     "name": "stdout",
     "output_type": "stream",
     "text": [
      "else\n",
      "EQUALS: True\n",
      "----------------------------------------\n",
      "(tensor(1.), {'dice_class_0': 1.0, 'dice_class_1': 1.0, 'dice_class_2': 1.0, 'dice_class_3': 1.0, 'dice_class_4': 1.0, 'dice_mean': 1.0})\n",
      "----------------------------------------\n",
      "(tensor(1.), {'dice_class_0': 1.0, 'dice_class_1': 1.0, 'dice_class_2': 1.0, 'dice_class_3': 1.0, 'dice_class_4': 1.0, 'dice_mean': 1.0})\n"
     ]
    }
   ],
   "source": [
    "perfect_pred = y_true.clone()\n",
    "pd_a = sm.dice_coefficient(perfect_pred, y_true)\n",
    "pd_b = smb.dice_coefficient(perfect_pred, y_true)\n",
    "\n",
    "print(\"EQUALS:\", (pd_a==pd_b))\n",
    "print('-'*40)\n",
    "print(pd_a)\n",
    "print('-'*40)\n",
    "print(pd_b)"
   ]
  },
  {
   "cell_type": "code",
   "execution_count": null,
   "id": "70afe33e-1f0f-4301-bfd7-8b6a9bb2e3ae",
   "metadata": {},
   "outputs": [],
   "source": []
  }
 ],
 "metadata": {
  "kernelspec": {
   "display_name": "Python 3 (ipykernel)",
   "language": "python",
   "name": "python3"
  },
  "language_info": {
   "codemirror_mode": {
    "name": "ipython",
    "version": 3
   },
   "file_extension": ".py",
   "mimetype": "text/x-python",
   "name": "python",
   "nbconvert_exporter": "python",
   "pygments_lexer": "ipython3",
   "version": "3.9.21"
  }
 },
 "nbformat": 4,
 "nbformat_minor": 5
}
