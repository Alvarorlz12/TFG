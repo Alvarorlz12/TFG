{
 "cells": [
  {
   "cell_type": "markdown",
   "id": "1774456f-bbc2-4c83-8443-7921d0693d0f",
   "metadata": {},
   "source": [
    "# __Import & config__"
   ]
  },
  {
   "cell_type": "code",
   "execution_count": 1,
   "id": "3a9bddb7-efba-44ae-9bc1-e1f35ba9b21a",
   "metadata": {},
   "outputs": [],
   "source": [
    "%load_ext autoreload\n",
    "%autoreload 2\n",
    "import os\n",
    "os.chdir('C:\\\\Users\\\\Usuario\\\\TFG\\\\digipanca\\\\')"
   ]
  },
  {
   "cell_type": "code",
   "execution_count": 92,
   "id": "848ba81b-cea1-44a9-b124-4d23436dec3a",
   "metadata": {},
   "outputs": [],
   "source": [
    "import pandas as pd\n",
    "from sklearn.model_selection import train_test_split\n",
    "import json\n",
    "import glob"
   ]
  },
  {
   "cell_type": "markdown",
   "id": "67412412-961e-4ae7-aa8d-af2d4364a327",
   "metadata": {},
   "source": [
    "# __Load data__"
   ]
  },
  {
   "cell_type": "code",
   "execution_count": 64,
   "id": "41686b5c",
   "metadata": {},
   "outputs": [
    {
     "data": {
      "text/html": [
       "<div>\n",
       "<style scoped>\n",
       "    .dataframe tbody tr th:only-of-type {\n",
       "        vertical-align: middle;\n",
       "    }\n",
       "\n",
       "    .dataframe tbody tr th {\n",
       "        vertical-align: top;\n",
       "    }\n",
       "\n",
       "    .dataframe thead th {\n",
       "        text-align: right;\n",
       "    }\n",
       "</style>\n",
       "<table border=\"1\" class=\"dataframe\">\n",
       "  <thead>\n",
       "    <tr style=\"text-align: right;\">\n",
       "      <th></th>\n",
       "      <th>CaseID</th>\n",
       "      <th>Tipo</th>\n",
       "      <th>Fase</th>\n",
       "      <th>Dificultad</th>\n",
       "      <th>Notas</th>\n",
       "    </tr>\n",
       "  </thead>\n",
       "  <tbody>\n",
       "    <tr>\n",
       "      <th>0</th>\n",
       "      <td>Rtum1</td>\n",
       "      <td>ADC borderline</td>\n",
       "      <td>Portal</td>\n",
       "      <td>1</td>\n",
       "      <td>NaN</td>\n",
       "    </tr>\n",
       "    <tr>\n",
       "      <th>1</th>\n",
       "      <td>Rtum2</td>\n",
       "      <td>ADC</td>\n",
       "      <td>Arterial</td>\n",
       "      <td>1</td>\n",
       "      <td>NaN</td>\n",
       "    </tr>\n",
       "    <tr>\n",
       "      <th>2</th>\n",
       "      <td>Rtum3</td>\n",
       "      <td>ADC borderline</td>\n",
       "      <td>Doble</td>\n",
       "      <td>3</td>\n",
       "      <td>NaN</td>\n",
       "    </tr>\n",
       "    <tr>\n",
       "      <th>3</th>\n",
       "      <td>Rtum4</td>\n",
       "      <td>ADC</td>\n",
       "      <td>Portal</td>\n",
       "      <td>1</td>\n",
       "      <td>NaN</td>\n",
       "    </tr>\n",
       "    <tr>\n",
       "      <th>4</th>\n",
       "      <td>Rtum5</td>\n",
       "      <td>TNE</td>\n",
       "      <td>Portal</td>\n",
       "      <td>1</td>\n",
       "      <td>NaN</td>\n",
       "    </tr>\n",
       "    <tr>\n",
       "      <th>...</th>\n",
       "      <td>...</td>\n",
       "      <td>...</td>\n",
       "      <td>...</td>\n",
       "      <td>...</td>\n",
       "      <td>...</td>\n",
       "    </tr>\n",
       "    <tr>\n",
       "      <th>83</th>\n",
       "      <td>Rtum84</td>\n",
       "      <td>TNE</td>\n",
       "      <td>Portal</td>\n",
       "      <td>1</td>\n",
       "      <td>NaN</td>\n",
       "    </tr>\n",
       "    <tr>\n",
       "      <th>84</th>\n",
       "      <td>Rtum85</td>\n",
       "      <td>ADC borderline</td>\n",
       "      <td>Doble</td>\n",
       "      <td>1</td>\n",
       "      <td>NaN</td>\n",
       "    </tr>\n",
       "    <tr>\n",
       "      <th>85</th>\n",
       "      <td>Rtum86</td>\n",
       "      <td>ADC</td>\n",
       "      <td>Portal</td>\n",
       "      <td>1</td>\n",
       "      <td>NaN</td>\n",
       "    </tr>\n",
       "    <tr>\n",
       "      <th>86</th>\n",
       "      <td>Rtum87</td>\n",
       "      <td>ADC</td>\n",
       "      <td>Portal</td>\n",
       "      <td>2</td>\n",
       "      <td>NaN</td>\n",
       "    </tr>\n",
       "    <tr>\n",
       "      <th>87</th>\n",
       "      <td>Rtum88</td>\n",
       "      <td>ADC</td>\n",
       "      <td>Doble</td>\n",
       "      <td>2</td>\n",
       "      <td>NaN</td>\n",
       "    </tr>\n",
       "  </tbody>\n",
       "</table>\n",
       "<p>88 rows × 5 columns</p>\n",
       "</div>"
      ],
      "text/plain": [
       "    CaseID            Tipo      Fase  Dificultad Notas\n",
       "0    Rtum1  ADC borderline    Portal           1   NaN\n",
       "1    Rtum2             ADC  Arterial           1   NaN\n",
       "2    Rtum3  ADC borderline     Doble           3   NaN\n",
       "3    Rtum4             ADC    Portal           1   NaN\n",
       "4    Rtum5             TNE    Portal           1   NaN\n",
       "..     ...             ...       ...         ...   ...\n",
       "83  Rtum84             TNE    Portal           1   NaN\n",
       "84  Rtum85  ADC borderline     Doble           1   NaN\n",
       "85  Rtum86             ADC    Portal           1   NaN\n",
       "86  Rtum87             ADC    Portal           2   NaN\n",
       "87  Rtum88             ADC     Doble           2   NaN\n",
       "\n",
       "[88 rows x 5 columns]"
      ]
     },
     "execution_count": 64,
     "metadata": {},
     "output_type": "execute_result"
    }
   ],
   "source": [
    "file_path = \"Rtum.csv\"\n",
    "df = pd.read_csv(file_path, delimiter=';')\n",
    "df"
   ]
  },
  {
   "cell_type": "markdown",
   "id": "3a82df3b",
   "metadata": {},
   "source": [
    "# __Stats__"
   ]
  },
  {
   "cell_type": "markdown",
   "id": "2eca589e",
   "metadata": {},
   "source": [
    "## Type"
   ]
  },
  {
   "cell_type": "code",
   "execution_count": 65,
   "id": "f8bf6aed",
   "metadata": {},
   "outputs": [
    {
     "name": "stdout",
     "output_type": "stream",
     "text": [
      "Tipo\n",
      "ADC                  44\n",
      "ADC borderline       31\n",
      "TNE                   9\n",
      "NMPI                  1\n",
      "ampuloma              1\n",
      "Gist duodenal         1\n",
      "colangiocarcinoma     1\n",
      "Name: count, dtype: int64\n"
     ]
    }
   ],
   "source": [
    "print(df['Tipo'].value_counts())"
   ]
  },
  {
   "cell_type": "markdown",
   "id": "7abb414a",
   "metadata": {},
   "source": [
    "We should include _IPNM_ (NMPI), _ampuloma_, _duodenal GIST_ (Gist duodenal) and _cholangiocarcinoma_ (colangiocarcinoma) as __Other__"
   ]
  },
  {
   "cell_type": "code",
   "execution_count": 66,
   "id": "85b2548d",
   "metadata": {},
   "outputs": [
    {
     "name": "stdout",
     "output_type": "stream",
     "text": [
      "Simplified_type\n",
      "ADC      44\n",
      "ADC-b    31\n",
      "TNE       9\n",
      "Other     4\n",
      "Name: count, dtype: int64\n"
     ]
    }
   ],
   "source": [
    "df['clean_type'] = df['Tipo'].str.strip().str.lower()\n",
    "\n",
    "type_map = {\n",
    "    'adc': 'ADC',\n",
    "    'adc borderline': 'ADC-b',\n",
    "    'tne': 'TNE'\n",
    "}\n",
    "\n",
    "df['Simplified_type'] = df['clean_type'].map(type_map).fillna('Other')\n",
    "\n",
    "print(df['Simplified_type'].value_counts())"
   ]
  },
  {
   "cell_type": "markdown",
   "id": "cce018af",
   "metadata": {},
   "source": [
    "## Phase"
   ]
  },
  {
   "cell_type": "code",
   "execution_count": 67,
   "id": "cecdc2ed",
   "metadata": {},
   "outputs": [
    {
     "name": "stdout",
     "output_type": "stream",
     "text": [
      "Fase\n",
      "Doble       42\n",
      "Portal      27\n",
      "Arterial    19\n",
      "Name: count, dtype: int64\n"
     ]
    }
   ],
   "source": [
    "print(df['Fase'].value_counts())"
   ]
  },
  {
   "cell_type": "code",
   "execution_count": 68,
   "id": "16974d12",
   "metadata": {},
   "outputs": [
    {
     "name": "stdout",
     "output_type": "stream",
     "text": [
      "Simplified_phase\n",
      "Portal      69\n",
      "Arterial    19\n",
      "Name: count, dtype: int64\n"
     ]
    }
   ],
   "source": [
    "df['clean_phase'] = df['Fase'].str.strip().str.lower()\n",
    "\n",
    "phase_map = {\n",
    "    'doble': 'Portal',\n",
    "    'portal': 'Portal',\n",
    "    'arterial': 'Arterial'\n",
    "}\n",
    "\n",
    "df['Simplified_phase'] = df['clean_phase'].map(phase_map)\n",
    "\n",
    "print(df['Simplified_phase'].value_counts())"
   ]
  },
  {
   "cell_type": "markdown",
   "id": "e23e37e4",
   "metadata": {},
   "source": [
    "## Segmentation difficulty"
   ]
  },
  {
   "cell_type": "code",
   "execution_count": 69,
   "id": "4f2bbbde",
   "metadata": {},
   "outputs": [
    {
     "name": "stdout",
     "output_type": "stream",
     "text": [
      "Dificultad\n",
      "1    48\n",
      "2    35\n",
      "3     5\n",
      "Name: count, dtype: int64\n"
     ]
    }
   ],
   "source": [
    "print(df['Dificultad'].value_counts())"
   ]
  },
  {
   "cell_type": "markdown",
   "id": "cdd0ad12",
   "metadata": {},
   "source": [
    "# __Stratify__"
   ]
  },
  {
   "cell_type": "markdown",
   "id": "a98e98bb",
   "metadata": {},
   "source": [
    "1. Create a composed label for stratifying"
   ]
  },
  {
   "cell_type": "code",
   "execution_count": 74,
   "id": "54f38ee8",
   "metadata": {},
   "outputs": [
    {
     "name": "stdout",
     "output_type": "stream",
     "text": [
      "strata_a\n",
      "ADC-b_Doble       18\n",
      "ADC_Doble         18\n",
      "ADC_Portal        16\n",
      "ADC_Arterial      10\n",
      "ADC-b_Portal       9\n",
      "ADC-b_Arterial     4\n",
      "TNE_Arterial       4\n",
      "TNE_Doble          3\n",
      "Other_Doble        3\n",
      "TNE_Portal         2\n",
      "Other_Arterial     1\n",
      "Name: count, dtype: int64\n"
     ]
    }
   ],
   "source": [
    "df['strata_a'] = df['Simplified_type'].astype(str) + '_' + df['Fase'].astype(str)\n",
    "print(df['strata_a'].value_counts())"
   ]
  },
  {
   "cell_type": "code",
   "execution_count": 62,
   "id": "f0c3d9f9",
   "metadata": {},
   "outputs": [
    {
     "name": "stdout",
     "output_type": "stream",
     "text": [
      "strata_b\n",
      "ADC_1      22\n",
      "ADC_2      20\n",
      "ADC-b_1    14\n",
      "ADC-b_2    14\n",
      "TNE_1       9\n",
      "ADC-b_3     3\n",
      "Other_1     3\n",
      "ADC_3       2\n",
      "Other_2     1\n",
      "Name: count, dtype: int64\n"
     ]
    }
   ],
   "source": [
    "df['strata_b'] = df['Simplified_type'].astype(str) + '_' + df['Dificultad'].astype(str)\n",
    "print(df['strata_b'].value_counts())"
   ]
  },
  {
   "cell_type": "markdown",
   "id": "c7e7aebe",
   "metadata": {},
   "source": [
    "2. As there is no combination of labels that allows us to create valid splits, we will use the simplified type for stratifying."
   ]
  },
  {
   "cell_type": "code",
   "execution_count": 63,
   "id": "49f66123",
   "metadata": {},
   "outputs": [],
   "source": [
    "train_df, val_df = train_test_split(\n",
    "    df,\n",
    "    test_size=0.2,\n",
    "    random_state=42,\n",
    "    stratify=df['Simplified_type']\n",
    ")"
   ]
  },
  {
   "cell_type": "code",
   "execution_count": 72,
   "id": "3f7d01ec",
   "metadata": {},
   "outputs": [
    {
     "name": "stdout",
     "output_type": "stream",
     "text": [
      "Notas\n",
      "Regular    4\n",
      "Name: count, dtype: int64\n"
     ]
    }
   ],
   "source": [
    "print(train_df['Notas'].value_counts())"
   ]
  },
  {
   "cell_type": "code",
   "execution_count": 73,
   "id": "c7f7a4e8",
   "metadata": {},
   "outputs": [
    {
     "name": "stdout",
     "output_type": "stream",
     "text": [
      "Notas\n",
      "Regular    1\n",
      "Name: count, dtype: int64\n"
     ]
    }
   ],
   "source": [
    "print(val_df['Notas'].value_counts())"
   ]
  },
  {
   "cell_type": "code",
   "execution_count": 76,
   "id": "9f7050d6",
   "metadata": {},
   "outputs": [
    {
     "name": "stdout",
     "output_type": "stream",
     "text": [
      "Simplified_type\n",
      "ADC      0.500000\n",
      "ADC-b    0.357143\n",
      "TNE      0.100000\n",
      "Other    0.042857\n",
      "Name: proportion, dtype: float64\n",
      "Simplified_type\n",
      "ADC      0.500000\n",
      "ADC-b    0.333333\n",
      "TNE      0.111111\n",
      "Other    0.055556\n",
      "Name: proportion, dtype: float64\n"
     ]
    }
   ],
   "source": [
    "print(train_df['Simplified_type'].value_counts(normalize=True).head())\n",
    "print(val_df['Simplified_type'].value_counts(normalize=True).head())"
   ]
  },
  {
   "cell_type": "markdown",
   "id": "616a4091",
   "metadata": {},
   "source": [
    "# __Save datalist__"
   ]
  },
  {
   "cell_type": "code",
   "execution_count": 81,
   "id": "fea7ca39",
   "metadata": {},
   "outputs": [
    {
     "name": "stdout",
     "output_type": "stream",
     "text": [
      "['Rtum83', 'Rtum57', 'Rtum60', 'Rtum36', 'Rtum31', 'Rtum45', 'Rtum30', 'Rtum43', 'Rtum85', 'Rtum44', 'Rtum78', 'Rtum34', 'Rtum67', 'Rtum38', 'Rtum68', 'Rtum9', 'Rtum10', 'Rtum26', 'Rtum7', 'Rtum82', 'Rtum12', 'Rtum46', 'Rtum41', 'Rtum81', 'Rtum24', 'Rtum49', 'Rtum29', 'Rtum70', 'Rtum54', 'Rtum42', 'Rtum59', 'Rtum33', 'Rtum61', 'Rtum21', 'Rtum2', 'Rtum58', 'Rtum56', 'Rtum63', 'Rtum74', 'Rtum51', 'Rtum5', 'Rtum69', 'Rtum77', 'Rtum19', 'Rtum20', 'Rtum75', 'Rtum72', 'Rtum1', 'Rtum76', 'Rtum15', 'Rtum86', 'Rtum6', 'Rtum16', 'Rtum3', 'Rtum35', 'Rtum39', 'Rtum73', 'Rtum28', 'Rtum25', 'Rtum11', 'Rtum87', 'Rtum79', 'Rtum22', 'Rtum47', 'Rtum4', 'Rtum53', 'Rtum18', 'Rtum13', 'Rtum66', 'Rtum17']\n",
      "['Rtum84', 'Rtum48', 'Rtum65', 'Rtum27', 'Rtum8', 'Rtum37', 'Rtum32', 'Rtum50', 'Rtum14', 'Rtum88', 'Rtum23', 'Rtum52', 'Rtum80', 'Rtum62', 'Rtum71', 'Rtum64', 'Rtum55', 'Rtum40']\n",
      "['rtum083', 'rtum057', 'rtum060', 'rtum036', 'rtum031', 'rtum045', 'rtum030', 'rtum043', 'rtum085', 'rtum044', 'rtum078', 'rtum034', 'rtum067', 'rtum038', 'rtum068', 'rtum009', 'rtum010', 'rtum026', 'rtum007', 'rtum082', 'rtum012', 'rtum046', 'rtum041', 'rtum081', 'rtum024', 'rtum049', 'rtum029', 'rtum070', 'rtum054', 'rtum042', 'rtum059', 'rtum033', 'rtum061', 'rtum021', 'rtum002', 'rtum058', 'rtum056', 'rtum063', 'rtum074', 'rtum051', 'rtum005', 'rtum069', 'rtum077', 'rtum019', 'rtum020', 'rtum075', 'rtum072', 'rtum001', 'rtum076', 'rtum015', 'rtum086', 'rtum006', 'rtum016', 'rtum003', 'rtum035', 'rtum039', 'rtum073', 'rtum028', 'rtum025', 'rtum011', 'rtum087', 'rtum079', 'rtum022', 'rtum047', 'rtum004', 'rtum053', 'rtum018', 'rtum013', 'rtum066', 'rtum017']\n",
      "['rtum084', 'rtum048', 'rtum065', 'rtum027', 'rtum008', 'rtum037', 'rtum032', 'rtum050', 'rtum014', 'rtum088', 'rtum023', 'rtum052', 'rtum080', 'rtum062', 'rtum071', 'rtum064', 'rtum055', 'rtum040']\n"
     ]
    }
   ],
   "source": [
    "train_ids = train_df['CaseID'].tolist()\n",
    "val_ids = val_df['CaseID'].tolist()\n",
    "print(train_ids)\n",
    "print(val_ids)\n",
    "\n",
    "def format_id(case_id):\n",
    "    num = case_id.replace('Rtum', '')\n",
    "    return f'rtum{int(num):03d}'\n",
    "\n",
    "train_ids = [format_id(cid) for cid in train_ids]\n",
    "val_ids = [format_id(cid) for cid in val_ids]\n",
    "print(train_ids)\n",
    "print(val_ids)"
   ]
  },
  {
   "cell_type": "code",
   "execution_count": 82,
   "id": "29b0721a",
   "metadata": {},
   "outputs": [],
   "source": [
    "data_dir = 'data/prepared'\n",
    "output = 'data/splits/dataset_0.json'"
   ]
  },
  {
   "cell_type": "code",
   "execution_count": 83,
   "id": "8408f394",
   "metadata": {},
   "outputs": [],
   "source": [
    "def produce_sample_dict(line):\n",
    "    return {\"label\": line, \"image\": line.replace(\"label\", \"image\")}"
   ]
  },
  {
   "cell_type": "code",
   "execution_count": 89,
   "id": "ff559776",
   "metadata": {},
   "outputs": [],
   "source": [
    "train_list = []\n",
    "val_list = []\n",
    "test_list = []\n",
    "\n",
    "for train_patient in train_ids:\n",
    "    sample = os.path.join('labelsTr', f'{train_patient}.nii.gz')\n",
    "    train_list.append(produce_sample_dict(sample))\n",
    "\n",
    "for val_patient in val_ids:\n",
    "    sample = os.path.join('labelsTr', f'{val_patient}.nii.gz')\n",
    "    val_list.append(produce_sample_dict(sample))\n",
    "\n",
    "test_samples = sorted(glob.glob(os.path.join(data_dir, \"labelsTs\", \"*\"), recursive=True))\n",
    "test_samples = [_item.replace(os.path.join(data_dir, \"labelsTs\"), \"labelsTs\") for _item in test_samples]\n",
    "for sample in test_samples:\n",
    "    test_list.append(produce_sample_dict(sample))"
   ]
  },
  {
   "cell_type": "code",
   "execution_count": 90,
   "id": "9d5bd072",
   "metadata": {},
   "outputs": [],
   "source": [
    "# Create the final datalist\n",
    "datalist = {\n",
    "    \"training\": train_list,\n",
    "    \"validation\": val_list,\n",
    "    \"test\": test_list\n",
    "}\n",
    "\n",
    "# Save the datalist to a JSON file\n",
    "with open(output, \"w\") as f:\n",
    "    json.dump(datalist, f, ensure_ascii=True, indent=4)"
   ]
  },
  {
   "cell_type": "markdown",
   "id": "3c24b8bd",
   "metadata": {},
   "source": [
    "# Save split"
   ]
  },
  {
   "cell_type": "code",
   "execution_count": 96,
   "id": "950881bb",
   "metadata": {},
   "outputs": [
    {
     "name": "stdout",
     "output_type": "stream",
     "text": [
      "['rtum089', 'rtum090', 'rtum091', 'rtum092', 'rtum093', 'rtum094', 'rtum095', 'rtum096', 'rtum097', 'rtum098', 'rtum099', 'rtum100', 'rtum101', 'rtum102', 'rtum103', 'rtum104', 'rtum105', 'rtum106', 'rtum107', 'rtum108', 'rtum109', 'rtum110', 'rtum111', 'rtum112', 'rtum113', 'rtum114', 'rtum115', 'rtum116']\n"
     ]
    }
   ],
   "source": [
    "test_ids = [p.replace('.nii.gz', '') for p in os.listdir(os.path.join(data_dir, 'imagesTs'))]\n",
    "print(test_ids)"
   ]
  },
  {
   "cell_type": "code",
   "execution_count": 97,
   "id": "65355166",
   "metadata": {},
   "outputs": [],
   "source": [
    "split = {\n",
    "    \"training\": train_ids,\n",
    "    \"validation\": val_ids,\n",
    "    \"test\": test_ids\n",
    "}\n",
    "\n",
    "split_file = 'data/splits/split_for_dataset_0.json'\n",
    "with open(split_file, \"w\") as f:\n",
    "    json.dump(split, f, ensure_ascii=True, indent=4)"
   ]
  }
 ],
 "metadata": {
  "kernelspec": {
   "display_name": "pancreas-segmentation",
   "language": "python",
   "name": "python3"
  },
  "language_info": {
   "codemirror_mode": {
    "name": "ipython",
    "version": 3
   },
   "file_extension": ".py",
   "mimetype": "text/x-python",
   "name": "python",
   "nbconvert_exporter": "python",
   "pygments_lexer": "ipython3",
   "version": "3.9.21"
  }
 },
 "nbformat": 4,
 "nbformat_minor": 5
}
