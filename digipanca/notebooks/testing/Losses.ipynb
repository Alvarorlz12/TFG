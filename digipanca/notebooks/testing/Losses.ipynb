{
 "cells": [
  {
   "cell_type": "markdown",
   "id": "8a922de3-3e1c-4961-84d1-a825dcd1dff7",
   "metadata": {},
   "source": [
    "# Imports y config"
   ]
  },
  {
   "cell_type": "code",
   "execution_count": 1,
   "id": "0731838c-adbb-452f-a3a1-ab74516e78dc",
   "metadata": {},
   "outputs": [],
   "source": [
    "%load_ext autoreload\n",
    "%autoreload 2"
   ]
  },
  {
   "cell_type": "code",
   "execution_count": 2,
   "id": "48fedcbe-01c9-4741-8860-5e36f11e2a55",
   "metadata": {},
   "outputs": [],
   "source": [
    "import os\n",
    "import torch\n",
    "import torch.nn as nn\n",
    "import torch.nn.functional as F"
   ]
  },
  {
   "cell_type": "code",
   "execution_count": 3,
   "id": "a92e1ea7-36db-48e1-9838-b9a728103569",
   "metadata": {},
   "outputs": [],
   "source": [
    "os.chdir('C:\\\\Users\\\\Usuario\\\\TFG\\\\digipanca\\\\')"
   ]
  },
  {
   "cell_type": "markdown",
   "id": "9ea6944e-790d-4ecd-b212-61ffe27f2299",
   "metadata": {},
   "source": [
    "# __Dice Loss__"
   ]
  },
  {
   "cell_type": "code",
   "execution_count": 4,
   "id": "c39f909a-6250-4d06-bf22-5c29fc02be68",
   "metadata": {},
   "outputs": [],
   "source": [
    "from monai.losses import DiceLoss as MONAIDiceLoss\n",
    "from src.losses import MulticlassDiceLoss"
   ]
  },
  {
   "cell_type": "code",
   "execution_count": 5,
   "id": "4c0d3426-e4ee-4ec1-bf18-68689c173daf",
   "metadata": {},
   "outputs": [
    {
     "name": "stdout",
     "output_type": "stream",
     "text": [
      "Dice Loss (Mi implementación): 0.799942\n",
      "Dice Loss (MONAI): 0.799943\n"
     ]
    }
   ],
   "source": [
    "# ======================\n",
    "# Data\n",
    "# ======================\n",
    "\n",
    "batch_size = 4\n",
    "n_classes = 5\n",
    "height, width = 512, 512\n",
    "\n",
    "# Crear tensores aleatorios de logits (NO etiquetas discretas)\n",
    "y_pred = torch.randn(batch_size, n_classes, height, width)  # Logits de la red\n",
    "y_true = torch.randint(0, n_classes, (batch_size, height, width))  # Ground truth en etiquetas\n",
    "\n",
    "# Instancias de las pérdidas\n",
    "my_dice_loss = MulticlassDiceLoss(ignore_background=True)\n",
    "monai_dice_loss = MONAIDiceLoss(include_background=False, reduction=\"mean\", softmax=True)\n",
    "\n",
    "# Calcular pérdidas\n",
    "loss_my = my_dice_loss(y_pred, y_true)\n",
    "loss_monai = monai_dice_loss(y_pred, F.one_hot(y_true, num_classes=n_classes).permute(0, 3, 1, 2).float())\n",
    "\n",
    "# Mostrar resultados\n",
    "print(f\"Dice Loss (Mi implementación): {loss_my.item():.6f}\")\n",
    "print(f\"Dice Loss (MONAI): {loss_monai.item():.6f}\")"
   ]
  },
  {
   "cell_type": "markdown",
   "id": "aa8f6d1a-8cef-45f8-9113-d5dc25f6ffa7",
   "metadata": {},
   "source": [
    "## __DiceFocalLoss with 2D and 3D__"
   ]
  },
  {
   "cell_type": "code",
   "execution_count": 9,
   "id": "afbf4703-1344-40f5-b229-1fc98731d280",
   "metadata": {},
   "outputs": [],
   "source": [
    "from src.losses.dice import DiceFocalLoss"
   ]
  },
  {
   "cell_type": "code",
   "execution_count": 19,
   "id": "24f0e7e8-d7af-40a0-9540-3b6abb610e97",
   "metadata": {},
   "outputs": [
    {
     "name": "stdout",
     "output_type": "stream",
     "text": [
      "Loss 2D: 1.0128384828567505\n",
      "Loss 3D: 1.013000726699829\n"
     ]
    }
   ],
   "source": [
    "# 2D data (Batch, Channels, Height, Width)\n",
    "h, w = 512, 512\n",
    "y_pred_2d = torch.randn(2, 3, h, w)  # 2D logits\n",
    "y_true_2d = torch.randint(0, 3, (2, h, w))  # 2D labels\n",
    "\n",
    "loss_fn = DiceFocalLoss()\n",
    "loss_2d = loss_fn(y_pred_2d, y_true_2d)\n",
    "\n",
    "print(f\"Loss 2D: {loss_2d.item()}\")\n",
    "\n",
    "# 3D data (Batch, Channels, Depth, Height, Width)\n",
    "y_pred_3d = torch.randn(2, 3, 32, h, w)  # simulating 3D volume with 32 slices\n",
    "y_true_3d = torch.randint(0, 3, (2, 32, h, w))  # 3D labels\n",
    "\n",
    "loss_3d = loss_fn(y_pred_3d, y_true_3d)\n",
    "\n",
    "print(f\"Loss 3D: {loss_3d.item()}\")"
   ]
  },
  {
   "cell_type": "code",
   "execution_count": 12,
   "id": "88d86bb3-345a-4c38-aaee-c6a1222052d4",
   "metadata": {},
   "outputs": [
    {
     "name": "stdout",
     "output_type": "stream",
     "text": [
      "Forma original: torch.Size([2, 16, 128, 128])\n",
      "Forma one-hot: torch.Size([2, 4, 16, 128, 128])\n"
     ]
    }
   ],
   "source": [
    "import torch\n",
    "import torch.nn.functional as F\n",
    "\n",
    "# Simulamos un tensor de etiquetas con valores de clase (antes de one-hot)\n",
    "batch_size, depth, height, width = 2, 16, 128, 128  # Ejemplo 3D\n",
    "num_classes = 4  # Supongamos que hay 4 clases\n",
    "\n",
    "# Simulamos un batch de etiquetas de clase (sin one-hot, valores entre 0 y num_classes-1)\n",
    "y_true = torch.randint(0, num_classes, (batch_size, depth, height, width))  # (B, D, H, W)\n",
    "\n",
    "# Convertimos a one-hot\n",
    "y_true_one_hot = F.one_hot(y_true, num_classes=num_classes).permute(0, 4, 1, 2, 3).float()  # (B, C, D, H, W)\n",
    "\n",
    "print(f\"Forma original: {y_true.shape}\")  # (B, D, H, W)\n",
    "print(f\"Forma one-hot: {y_true_one_hot.shape}\")  # (B, C, D, H, W) → debe incluir C\n"
   ]
  },
  {
   "cell_type": "code",
   "execution_count": 13,
   "id": "1a2f7011-5024-4059-a60b-c6b49e3ba05e",
   "metadata": {},
   "outputs": [
    {
     "name": "stdout",
     "output_type": "stream",
     "text": [
      "Valores únicos en el tensor convertido: tensor([0., 1.])\n"
     ]
    }
   ],
   "source": [
    "print(\"Valores únicos en el tensor convertido:\", torch.unique(y_true_one_hot))"
   ]
  },
  {
   "cell_type": "code",
   "execution_count": 15,
   "id": "620421bd-b0f5-4257-b66b-592146580ce8",
   "metadata": {},
   "outputs": [
    {
     "name": "stdout",
     "output_type": "stream",
     "text": [
      "Voxeles de clase 0 en one-hot: 131531 vs original: 131531\n",
      "Voxeles de clase 1 en one-hot: 131152 vs original: 131152\n",
      "Voxeles de clase 2 en one-hot: 130723 vs original: 130723\n",
      "Voxeles de clase 3 en one-hot: 130882 vs original: 130882\n"
     ]
    }
   ],
   "source": [
    "for i in range(num_classes):\n",
    "    print(f\"Voxeles de clase {i} en one-hot:\", (y_true_one_hot[:, i] == 1).sum().item(), \"vs original:\", (y_true == i).sum().item())"
   ]
  }
 ],
 "metadata": {
  "kernelspec": {
   "display_name": "Python 3 (ipykernel)",
   "language": "python",
   "name": "python3"
  },
  "language_info": {
   "codemirror_mode": {
    "name": "ipython",
    "version": 3
   },
   "file_extension": ".py",
   "mimetype": "text/x-python",
   "name": "python",
   "nbconvert_exporter": "python",
   "pygments_lexer": "ipython3",
   "version": "3.9.21"
  }
 },
 "nbformat": 4,
 "nbformat_minor": 5
}
