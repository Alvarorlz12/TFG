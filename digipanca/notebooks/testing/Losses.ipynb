{
 "cells": [
  {
   "cell_type": "markdown",
   "id": "8a922de3-3e1c-4961-84d1-a825dcd1dff7",
   "metadata": {},
   "source": [
    "# Imports y config"
   ]
  },
  {
   "cell_type": "code",
   "execution_count": 1,
   "id": "0731838c-adbb-452f-a3a1-ab74516e78dc",
   "metadata": {},
   "outputs": [],
   "source": [
    "%load_ext autoreload\n",
    "%autoreload 2"
   ]
  },
  {
   "cell_type": "code",
   "execution_count": 16,
   "id": "48fedcbe-01c9-4741-8860-5e36f11e2a55",
   "metadata": {},
   "outputs": [],
   "source": [
    "import os\n",
    "import torch\n",
    "import torch.nn as nn\n",
    "import torch.nn.functional as F"
   ]
  },
  {
   "cell_type": "code",
   "execution_count": 3,
   "id": "a92e1ea7-36db-48e1-9838-b9a728103569",
   "metadata": {},
   "outputs": [],
   "source": [
    "os.chdir('C:\\\\Users\\\\Usuario\\\\TFG\\\\digipanca\\\\')"
   ]
  },
  {
   "cell_type": "markdown",
   "id": "9ea6944e-790d-4ecd-b212-61ffe27f2299",
   "metadata": {},
   "source": [
    "# Dice Loss"
   ]
  },
  {
   "cell_type": "code",
   "execution_count": 47,
   "id": "c39f909a-6250-4d06-bf22-5c29fc02be68",
   "metadata": {},
   "outputs": [],
   "source": [
    "from monai.losses import DiceLoss as MONAIDiceLoss\n",
    "from src.losses import MulticlassDiceLoss"
   ]
  },
  {
   "cell_type": "code",
   "execution_count": 48,
   "id": "4c0d3426-e4ee-4ec1-bf18-68689c173daf",
   "metadata": {},
   "outputs": [
    {
     "name": "stdout",
     "output_type": "stream",
     "text": [
      "Dice Loss (Mi implementación): 0.800123\n",
      "Dice Loss (MONAI): 0.800124\n"
     ]
    }
   ],
   "source": [
    "# ======================\n",
    "# Datos de prueba corregidos\n",
    "# ======================\n",
    "\n",
    "batch_size = 4\n",
    "n_classes = 5\n",
    "height, width = 512, 512\n",
    "\n",
    "# Crear tensores aleatorios de logits (NO etiquetas discretas)\n",
    "y_pred = torch.randn(batch_size, n_classes, height, width)  # Logits de la red\n",
    "y_true = torch.randint(0, n_classes, (batch_size, height, width))  # Ground truth en etiquetas\n",
    "\n",
    "# Instancias de las pérdidas\n",
    "my_dice_loss = MulticlassDiceLoss(ignore_background=True)\n",
    "monai_dice_loss = MONAIDiceLoss(include_background=False, reduction=\"mean\", softmax=True)\n",
    "\n",
    "# Calcular pérdidas\n",
    "loss_my = my_dice_loss(y_pred, y_true)\n",
    "loss_monai = monai_dice_loss(y_pred, F.one_hot(y_true, num_classes=n_classes).permute(0, 3, 1, 2).float())\n",
    "\n",
    "# Mostrar resultados\n",
    "print(f\"Dice Loss (Mi implementación): {loss_my.item():.6f}\")\n",
    "print(f\"Dice Loss (MONAI): {loss_monai.item():.6f}\")"
   ]
  }
 ],
 "metadata": {
  "kernelspec": {
   "display_name": "Python 3 (ipykernel)",
   "language": "python",
   "name": "python3"
  },
  "language_info": {
   "codemirror_mode": {
    "name": "ipython",
    "version": 3
   },
   "file_extension": ".py",
   "mimetype": "text/x-python",
   "name": "python",
   "nbconvert_exporter": "python",
   "pygments_lexer": "ipython3",
   "version": "3.9.21"
  }
 },
 "nbformat": 4,
 "nbformat_minor": 5
}
