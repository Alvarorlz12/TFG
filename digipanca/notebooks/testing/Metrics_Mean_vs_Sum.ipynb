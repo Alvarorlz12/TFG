{
 "cells": [
  {
   "cell_type": "code",
   "execution_count": 1,
   "id": "ffb8130a-b8d3-4a0c-a537-e3f8344267e8",
   "metadata": {},
   "outputs": [],
   "source": [
    "%load_ext autoreload\n",
    "%autoreload 2"
   ]
  },
  {
   "cell_type": "code",
   "execution_count": 2,
   "id": "46b12d60-1095-4c01-aa85-01946f2da6fe",
   "metadata": {},
   "outputs": [],
   "source": [
    "import os\n",
    "os.chdir('C:\\\\Users\\\\Usuario\\\\TFG\\\\digipanca\\\\')"
   ]
  },
  {
   "cell_type": "code",
   "execution_count": 3,
   "id": "9ccb0577-1f6e-4925-a7ab-2c8ea7a6db42",
   "metadata": {},
   "outputs": [],
   "source": [
    "import torch\n",
    "import random\n",
    "import numpy as np"
   ]
  },
  {
   "cell_type": "markdown",
   "id": "2b8dbccc-dfc7-4000-96b9-ff9ffdb152a0",
   "metadata": {},
   "source": [
    "# __Functions__"
   ]
  },
  {
   "cell_type": "markdown",
   "id": "0a5655bf-c8e0-44f4-909b-665799e083e3",
   "metadata": {},
   "source": [
    "## Convert to one-hot"
   ]
  },
  {
   "cell_type": "code",
   "execution_count": 4,
   "id": "b312d1e5-ae18-4ca5-93eb-d4542c24f9b0",
   "metadata": {},
   "outputs": [],
   "source": [
    "def convert_to_one_hot(y_pred, y_true):\n",
    "    def is_one_hot(tensor):\n",
    "        \"\"\"\n",
    "        Check if the tensor is one-hot encoded.\n",
    "        \"\"\"\n",
    "        return (tensor.sum(dim=1) == 1).all() and \\\n",
    "               torch.all((tensor == 0) | (tensor == 1))\n",
    "    \n",
    "    # Check if the input is already one-hot encoded\n",
    "    if is_one_hot(y_pred) and is_one_hot(y_true):\n",
    "        return y_pred, y_true\n",
    "    \n",
    "    # Check if the input is 2D or 3D\n",
    "    if y_pred.dim() == 4 and y_true.dim() == 3: # 2D case\n",
    "        B, C, H, W = y_pred.shape\n",
    "        n_classes = C\n",
    "\n",
    "        # Convert y_pred to one-hot encoding\n",
    "        y_pred_classes = torch.argmax(y_pred, dim=1, keepdim=True)\n",
    "        y_pred_one_hot = torch.zeros(B, n_classes, H, W, device=y_pred.device)\n",
    "        y_pred_one_hot.scatter_(1, y_pred_classes, 1)\n",
    "\n",
    "        # Convert y_true to one-hot encoding\n",
    "        y_true_one_hot = torch.zeros(B, n_classes, H, W, device=y_true.device)\n",
    "        y_true_one_hot.scatter_(1, y_true.unsqueeze(1).long(), 1)\n",
    "\n",
    "        return y_pred_one_hot, y_true_one_hot\n",
    "    \n",
    "    elif y_pred.dim() == 5 and y_true.dim() == 4:   # 3D case\n",
    "        B, C, D, H, W = y_pred.shape\n",
    "        n_classes = C\n",
    "\n",
    "        # Convert y_pred to one-hot encoding\n",
    "        y_pred_classes = torch.argmax(y_pred, dim=1, keepdim=True)\n",
    "        y_pred_one_hot = torch.zeros(B, n_classes, D, H, W, device=y_pred.device)\n",
    "        y_pred_one_hot.scatter_(1, y_pred_classes, 1)\n",
    "\n",
    "        # Convert y_true to one-hot encoding\n",
    "        y_true_one_hot = torch.zeros(B, n_classes, D, H, W, device=y_true.device)\n",
    "        y_true_one_hot.scatter_(1, y_true.unsqueeze(1).long(), 1)\n",
    "\n",
    "        return y_pred_one_hot, y_true_one_hot\n",
    "\n",
    "    else:\n",
    "        raise ValueError(\"Input tensors must be either 2D or 3D.\")"
   ]
  },
  {
   "cell_type": "markdown",
   "id": "1db14e6c-4c6c-4153-8bb8-06ffb7731060",
   "metadata": {},
   "source": [
    "## Dice with mean (`segmentation.py`)"
   ]
  },
  {
   "cell_type": "code",
   "execution_count": 5,
   "id": "51ade8b8-781c-4774-9066-8aa1a07792b7",
   "metadata": {},
   "outputs": [],
   "source": [
    "def dice_with_mean(y_pred, y_true, smooth=1e-12):\n",
    "    # Convert to one-hot if inputs are class indices or logits\n",
    "    y_pred_one_hot, y_true_one_hot = convert_to_one_hot(y_pred, y_true)\n",
    "    C = y_true_one_hot.size(1)\n",
    "    sum_dims = tuple(range(2, y_true_one_hot.ndim))\n",
    "    \n",
    "    # Compute intersection and union\n",
    "    intersection = torch.sum(y_pred_one_hot * y_true_one_hot, dim=sum_dims)\n",
    "    union = torch.sum(y_pred_one_hot, dim=sum_dims) \\\n",
    "          + torch.sum(y_true_one_hot, dim=sum_dims)\n",
    "\n",
    "    # Compute Dice score\n",
    "    dice_scores = (2. * intersection + smooth) / (union + smooth)\n",
    "    dice_scores = dice_scores.mean(dim=0)\n",
    "\n",
    "    dice_dict = {f\"dice_class_{i}\": dice_scores[i].item() for i in range(C)}\n",
    "    dice_dict[\"dice_mean\"] = dice_scores.mean().item()\n",
    "    \n",
    "    return dice_scores.mean(), dice_dict"
   ]
  },
  {
   "cell_type": "markdown",
   "id": "9cd3d938-5093-4bb7-9154-9961821cf4e8",
   "metadata": {},
   "source": [
    "## Dice with loop (`segmentation_bak.py` with `segmentation.py`'s convert to one-hot method)"
   ]
  },
  {
   "cell_type": "code",
   "execution_count": 6,
   "id": "4c68de41-c2b3-4c1e-81f1-05bb9001f8b4",
   "metadata": {},
   "outputs": [],
   "source": [
    "def dice_with_loop(y_pred, y_true, smooth=1e-12):\n",
    "    # Convert to one-hot if inputs are class indices or logits\n",
    "    y_pred_one_hot, y_true_one_hot = convert_to_one_hot(y_pred, y_true)\n",
    "    n_classes = y_true_one_hot.size(1)\n",
    "\n",
    "    # Calculate dice for each class\n",
    "    dice_scores = []\n",
    "    class_dice = {}\n",
    "    \n",
    "    for i in range(n_classes):\n",
    "        pred_class = y_pred_one_hot[:, i, :, :]\n",
    "        true_class = y_true_one_hot[:, i, :, :]\n",
    "        \n",
    "        intersection = torch.sum(pred_class * true_class)\n",
    "        union = torch.sum(pred_class) + torch.sum(true_class)\n",
    "        dice = (2.0 * intersection + smooth) / (union + smooth)\n",
    "        dice_scores.append(dice)\n",
    "        class_dice[f\"dice_class_{i}\"] = dice.item()\n",
    "    \n",
    "    mean_dice = torch.mean(torch.stack(dice_scores))\n",
    "    class_dice[\"dice_mean\"] = mean_dice.item()\n",
    "    \n",
    "    return mean_dice, class_dice"
   ]
  },
  {
   "cell_type": "markdown",
   "id": "1d47a19a-f43b-491f-917a-af1df50519f5",
   "metadata": {},
   "source": [
    "## New method: sum"
   ]
  },
  {
   "cell_type": "code",
   "execution_count": 7,
   "id": "5aa992c8-fc5b-4cb8-a57a-138a061d5c64",
   "metadata": {},
   "outputs": [],
   "source": [
    "def dice_with_sum(y_pred, y_true, smooth=1e-12):\n",
    "    \"\"\"\n",
    "    Compute Dice coefficient using global sums over the batch to handle class imbalance.\n",
    "    \n",
    "    Parameters\n",
    "    ----------\n",
    "    y_pred : torch.Tensor\n",
    "        Predicted segmentation mask (class indices, logits or one-hot)\n",
    "    y_true : torch.Tensor\n",
    "        Ground truth segmentation mask (class indices, logits or one-hot)\n",
    "    smooth : float, optional\n",
    "        Smoothing factor to avoid division by zero\n",
    "    \n",
    "    Returns\n",
    "    -------\n",
    "    tuple\n",
    "        (mean_dice, per_class_dice_dict)\n",
    "    \"\"\"\n",
    "    # Convert to one-hot\n",
    "    y_pred_one_hot, y_true_one_hot = convert_to_one_hot(y_pred, y_true)\n",
    "    C = y_true_one_hot.size(1)\n",
    "    sum_dims = tuple(range(2, y_true_one_hot.ndim))  # dimensions other than (B, C)\n",
    "\n",
    "    # Compute intersection and union\n",
    "    intersection = torch.sum(y_pred_one_hot * y_true_one_hot, dim=sum_dims)  # (B, C)\n",
    "    union = torch.sum(y_pred_one_hot, dim=sum_dims) + torch.sum(y_true_one_hot, dim=sum_dims)  # (B, C)\n",
    "\n",
    "    # Sum over batch for global metrics\n",
    "    intersection = intersection.sum(dim=0)  # (C,)\n",
    "    union = union.sum(dim=0)  # (C,)\n",
    "\n",
    "    dice_scores = 2. * intersection / (union + smooth)  # (C,)\n",
    "\n",
    "    dice_dict = {f\"dice_class_{i}\": dice_scores[i].item() for i in range(C)}\n",
    "    dice_dict[\"dice_mean\"] = dice_scores.mean().item()\n",
    "\n",
    "    return dice_scores.mean(), dice_dict"
   ]
  },
  {
   "cell_type": "markdown",
   "id": "7d8ffab4-d6fb-4dea-b7d9-7dbf6b73a537",
   "metadata": {},
   "source": [
    "# __Test__"
   ]
  },
  {
   "cell_type": "code",
   "execution_count": 8,
   "id": "d573f8f5-c3cb-4781-8565-eaebb08373e4",
   "metadata": {},
   "outputs": [],
   "source": [
    "from src.models.custom_deeplabv3 import CustomDeepLabV3 as dl"
   ]
  },
  {
   "cell_type": "code",
   "execution_count": 9,
   "id": "35f92c63-0cf3-4ca6-a77a-ced281244b31",
   "metadata": {},
   "outputs": [],
   "source": [
    "B, num_classes, H, W = 4, 5, 256, 256\n",
    "model = dl(num_classes=num_classes, dropout_rate=0.2).eval()"
   ]
  },
  {
   "cell_type": "markdown",
   "id": "5c3fa52a-644c-4fe2-830f-645d44ebc837",
   "metadata": {},
   "source": [
    "## Generate prediction"
   ]
  },
  {
   "cell_type": "code",
   "execution_count": 10,
   "id": "5066a51a-5f2f-4345-937b-7239918ffe02",
   "metadata": {},
   "outputs": [
    {
     "name": "stdout",
     "output_type": "stream",
     "text": [
      "torch.Size([4, 1, 256, 256])\n",
      "torch.Size([4, 5, 256, 256])\n"
     ]
    }
   ],
   "source": [
    "channels = 1\n",
    "input_tensor = torch.randn(B, channels, H, W)\n",
    "print(input_tensor.shape)\n",
    "with torch.no_grad():\n",
    "    output = model(input_tensor)['out']\n",
    "print(output.shape)"
   ]
  },
  {
   "cell_type": "markdown",
   "id": "bf3f1659-a2fd-491c-bb65-c9e85797c24c",
   "metadata": {},
   "source": [
    "## Generate mask"
   ]
  },
  {
   "cell_type": "code",
   "execution_count": 11,
   "id": "2e83cdbb-2436-4157-a786-9dfa6d692d5a",
   "metadata": {},
   "outputs": [
    {
     "name": "stdout",
     "output_type": "stream",
     "text": [
      "torch.Size([4, 256, 256])\n"
     ]
    }
   ],
   "source": [
    "random_mask = torch.randint(0, num_classes, (B, H, W))\n",
    "print(random_mask.shape)"
   ]
  },
  {
   "cell_type": "markdown",
   "id": "fb085145-005c-4a1f-9edf-09ca6734bbc6",
   "metadata": {},
   "source": [
    "## Compute scores"
   ]
  },
  {
   "cell_type": "code",
   "execution_count": 12,
   "id": "25faf5d2-a72b-462d-a744-85e0d4470493",
   "metadata": {},
   "outputs": [
    {
     "name": "stdout",
     "output_type": "stream",
     "text": [
      "torch.Size([4, 5, 256, 256])\n",
      "torch.Size([4, 256, 256])\n"
     ]
    }
   ],
   "source": [
    "y_pred = output.clone()\n",
    "y_true = random_mask.clone()\n",
    "print(y_pred.shape)\n",
    "print(y_true.shape)"
   ]
  },
  {
   "cell_type": "code",
   "execution_count": 13,
   "id": "62de490a-7582-4d20-8f8d-a1755cce6238",
   "metadata": {},
   "outputs": [],
   "source": [
    "dice_mean = dice_with_mean(y_pred, y_true)\n",
    "dice_loop = dice_with_loop(y_pred, y_true)"
   ]
  },
  {
   "cell_type": "code",
   "execution_count": 14,
   "id": "1cdd65e5-5f61-465f-84ae-b599581ea532",
   "metadata": {},
   "outputs": [
    {
     "name": "stdout",
     "output_type": "stream",
     "text": [
      "EQUALS: False\n",
      "----------------------------------------\n",
      "(tensor(0.0670), {'dice_class_0': 7.62340438964058e-17, 'dice_class_1': 0.33489900827407837, 'dice_class_2': 7.665002310029137e-17, 'dice_class_3': 7.657760840074602e-17, 'dice_class_4': 7.61560043686951e-17, 'dice_mean': 0.0669798031449318})\n",
      "----------------------------------------\n",
      "(tensor(0.0670), {'dice_class_0': 1.9058147014631927e-17, 'dice_class_1': 0.33490118384361267, 'dice_class_2': 1.9162227842387024e-17, 'dice_class_3': 1.9143885939484273e-17, 'dice_class_4': 1.9038190455173472e-17, 'dice_mean': 0.06698023527860641})\n"
     ]
    }
   ],
   "source": [
    "print(\"EQUALS:\", (dice_mean==dice_loop))\n",
    "print('-'*40)\n",
    "print(dice_mean)\n",
    "print('-'*40)\n",
    "print(dice_loop)"
   ]
  },
  {
   "cell_type": "markdown",
   "id": "bdee3fde-aef5-427b-a1d4-f49b9aa0239e",
   "metadata": {},
   "source": [
    "### VS sum version"
   ]
  },
  {
   "cell_type": "code",
   "execution_count": 15,
   "id": "eeb1736e-1d5d-48f5-8e12-bbf732a24ecf",
   "metadata": {},
   "outputs": [],
   "source": [
    "dice_sum = dice_with_sum(y_pred, y_true)"
   ]
  },
  {
   "cell_type": "code",
   "execution_count": 16,
   "id": "ffbeb166-5c6e-409a-93a0-7174aa4bc455",
   "metadata": {},
   "outputs": [
    {
     "name": "stdout",
     "output_type": "stream",
     "text": [
      "________________________________________\n",
      "mean == sum: False\n",
      "----------------------------------------\n",
      "(tensor(0.0670), {'dice_class_0': 7.62340438964058e-17, 'dice_class_1': 0.33489900827407837, 'dice_class_2': 7.665002310029137e-17, 'dice_class_3': 7.657760840074602e-17, 'dice_class_4': 7.61560043686951e-17, 'dice_mean': 0.0669798031449318})\n",
      "----------------------------------------\n",
      "(tensor(0.0670), {'dice_class_0': 0.0, 'dice_class_1': 0.33490118384361267, 'dice_class_2': 0.0, 'dice_class_3': 0.0, 'dice_class_4': 0.0, 'dice_mean': 0.06698023527860641})\n",
      "________________________________________\n",
      "loop == sum: False\n",
      "----------------------------------------\n",
      "(tensor(0.0670), {'dice_class_0': 1.9058147014631927e-17, 'dice_class_1': 0.33490118384361267, 'dice_class_2': 1.9162227842387024e-17, 'dice_class_3': 1.9143885939484273e-17, 'dice_class_4': 1.9038190455173472e-17, 'dice_mean': 0.06698023527860641})\n",
      "----------------------------------------\n",
      "(tensor(0.0670), {'dice_class_0': 0.0, 'dice_class_1': 0.33490118384361267, 'dice_class_2': 0.0, 'dice_class_3': 0.0, 'dice_class_4': 0.0, 'dice_mean': 0.06698023527860641})\n"
     ]
    }
   ],
   "source": [
    "print('_'*40)\n",
    "print(\"mean == sum:\", (dice_mean==dice_sum))\n",
    "print('-'*40)\n",
    "print(dice_mean)\n",
    "print('-'*40)\n",
    "print(dice_sum)\n",
    "print('_'*40)\n",
    "print(\"loop == sum:\", (dice_loop==dice_sum))\n",
    "print('-'*40)\n",
    "print(dice_loop)\n",
    "print('-'*40)\n",
    "print(dice_sum)"
   ]
  },
  {
   "cell_type": "markdown",
   "id": "f5d5bb61-929a-4f5e-bca2-381826ef4b7c",
   "metadata": {},
   "source": [
    "### VS previous implementation, using softmax (`segmentation_bak.py`)"
   ]
  },
  {
   "cell_type": "code",
   "execution_count": 17,
   "id": "ded9a848-0863-4e6f-91ec-acebcffce330",
   "metadata": {},
   "outputs": [],
   "source": [
    "def dice_bak(y_pred, y_true, smooth=1e-12):\n",
    "    # Convert to one-hot if inputs are class indices\n",
    "    if y_pred.dim() == 3:\n",
    "        # Convert predicted class indices to one-hot\n",
    "        n_classes = torch.max(y_true).item() + 1\n",
    "        y_pred_one_hot = torch.zeros(\n",
    "            y_pred.size(0), n_classes, y_pred.size(1), y_pred.size(2), \n",
    "            device=y_pred.device\n",
    "        )\n",
    "        y_pred_one_hot.scatter_(1, y_pred.unsqueeze(1), 1)\n",
    "        \n",
    "        y_true_one_hot = torch.zeros(\n",
    "            y_true.size(0), n_classes, y_true.size(1), y_true.size(2), \n",
    "            device=y_true.device\n",
    "        )\n",
    "        y_true_one_hot.scatter_(1, y_true.unsqueeze(1), 1)\n",
    "        # print(\"if\")\n",
    "    else:\n",
    "        # If already in form [B, C, H, W] (logits or one-hot)\n",
    "        if y_pred.dim() == 4 and y_true.dim() == 3:\n",
    "            # y_pred is [B, C, H, W] logits and y_true is [B, H, W] indices\n",
    "            n_classes = y_pred.size(1)\n",
    "            y_pred_one_hot = torch.nn.functional.softmax(y_pred, dim=1)\n",
    "            \n",
    "            y_true_one_hot = torch.zeros(\n",
    "                y_true.size(0), n_classes, y_true.size(1), y_true.size(2), \n",
    "                device=y_true.device\n",
    "            )\n",
    "            y_true_one_hot.scatter_(1, y_true.unsqueeze(1), 1)\n",
    "            # print(\"else if\")\n",
    "        else:\n",
    "            # Assume both are already in proper format\n",
    "            y_pred_one_hot = y_pred\n",
    "            y_true_one_hot = y_true\n",
    "            n_classes = y_pred.size(1)\n",
    "            # print(\"else\")\n",
    "    \n",
    "    # Calculate dice for each class\n",
    "    dice_scores = []\n",
    "    class_dice = {}\n",
    "    \n",
    "    for i in range(n_classes):\n",
    "        pred_class = y_pred_one_hot[:, i, :, :]\n",
    "        true_class = y_true_one_hot[:, i, :, :]\n",
    "        \n",
    "        intersection = torch.sum(pred_class * true_class)\n",
    "        union = torch.sum(pred_class) + torch.sum(true_class)\n",
    "        dice = (2.0 * intersection + smooth) / (union + smooth)\n",
    "        dice_scores.append(dice)\n",
    "        class_dice[f\"dice_class_{i}\"] = dice.item()\n",
    "    \n",
    "    mean_dice = torch.mean(torch.stack(dice_scores))\n",
    "    class_dice[\"dice_mean\"] = mean_dice.item()\n",
    "    \n",
    "    return mean_dice, class_dice"
   ]
  },
  {
   "cell_type": "code",
   "execution_count": 18,
   "id": "f708375d-19d1-40e4-ac56-c3b6d6a53adf",
   "metadata": {},
   "outputs": [],
   "source": [
    "dice_prev = dice_bak(y_pred, y_true)"
   ]
  },
  {
   "cell_type": "code",
   "execution_count": 19,
   "id": "73ed39e0-bcb3-4a24-bf21-c15a775f550e",
   "metadata": {},
   "outputs": [
    {
     "name": "stdout",
     "output_type": "stream",
     "text": [
      "________________________________________\n",
      "mean == prev: False\n",
      "----------------------------------------\n",
      "(tensor(0.0670), {'dice_class_0': 7.62340438964058e-17, 'dice_class_1': 0.33489900827407837, 'dice_class_2': 7.665002310029137e-17, 'dice_class_3': 7.657760840074602e-17, 'dice_class_4': 7.61560043686951e-17, 'dice_mean': 0.0669798031449318})\n",
      "----------------------------------------\n",
      "(tensor(0.1984), {'dice_class_0': 0.20519721508026123, 'dice_class_1': 0.22346408665180206, 'dice_class_2': 0.18394768238067627, 'dice_class_3': 0.17030583322048187, 'dice_class_4': 0.20903021097183228, 'dice_mean': 0.19838900864124298})\n",
      "________________________________________\n",
      "loop == prev: False\n",
      "----------------------------------------\n",
      "(tensor(0.0670), {'dice_class_0': 1.9058147014631927e-17, 'dice_class_1': 0.33490118384361267, 'dice_class_2': 1.9162227842387024e-17, 'dice_class_3': 1.9143885939484273e-17, 'dice_class_4': 1.9038190455173472e-17, 'dice_mean': 0.06698023527860641})\n",
      "----------------------------------------\n",
      "(tensor(0.1984), {'dice_class_0': 0.20519721508026123, 'dice_class_1': 0.22346408665180206, 'dice_class_2': 0.18394768238067627, 'dice_class_3': 0.17030583322048187, 'dice_class_4': 0.20903021097183228, 'dice_mean': 0.19838900864124298})\n",
      "________________________________________\n",
      "sum == prev: False\n",
      "----------------------------------------\n",
      "(tensor(0.0670), {'dice_class_0': 0.0, 'dice_class_1': 0.33490118384361267, 'dice_class_2': 0.0, 'dice_class_3': 0.0, 'dice_class_4': 0.0, 'dice_mean': 0.06698023527860641})\n",
      "----------------------------------------\n",
      "(tensor(0.1984), {'dice_class_0': 0.20519721508026123, 'dice_class_1': 0.22346408665180206, 'dice_class_2': 0.18394768238067627, 'dice_class_3': 0.17030583322048187, 'dice_class_4': 0.20903021097183228, 'dice_mean': 0.19838900864124298})\n"
     ]
    }
   ],
   "source": [
    "print('_'*40)\n",
    "print(\"mean == prev:\", (dice_mean==dice_prev))\n",
    "print('-'*40)\n",
    "print(dice_mean)\n",
    "print('-'*40)\n",
    "print(dice_prev)\n",
    "print('_'*40)\n",
    "print(\"loop == prev:\", (dice_loop==dice_prev))\n",
    "print('-'*40)\n",
    "print(dice_loop)\n",
    "print('-'*40)\n",
    "print(dice_prev)\n",
    "print('_'*40)\n",
    "print(\"sum == prev:\", (dice_sum==dice_prev))\n",
    "print('-'*40)\n",
    "print(dice_sum)\n",
    "print('-'*40)\n",
    "print(dice_prev)"
   ]
  },
  {
   "cell_type": "markdown",
   "id": "58887e68-33af-4fce-b9aa-eb636e2b647c",
   "metadata": {},
   "source": [
    "# __VS MONAI__"
   ]
  },
  {
   "cell_type": "code",
   "execution_count": 20,
   "id": "9a91f84b-0c40-4050-a9ef-1022140a0b5e",
   "metadata": {},
   "outputs": [],
   "source": [
    "from monai.metrics import DiceMetric"
   ]
  },
  {
   "cell_type": "code",
   "execution_count": 21,
   "id": "c35434a0-c06f-4885-b22e-bcdd84e4ae55",
   "metadata": {},
   "outputs": [],
   "source": [
    "DMM = DiceMetric(\n",
    "    include_background=True,  # o False, según tu caso\n",
    "    reduction=\"mean\"         # puede ser \"mean\", \"sum\", \"none\"\n",
    ")\n",
    "DMM.reset()"
   ]
  },
  {
   "cell_type": "code",
   "execution_count": 22,
   "id": "8a88a2be-56c7-4cc2-9dad-9835cac431a4",
   "metadata": {},
   "outputs": [],
   "source": [
    "# Simula o convierte tus predicciones y ground truth\n",
    "y_pred_onehot, y_true_onehot = convert_to_one_hot(y_pred, y_true)"
   ]
  },
  {
   "cell_type": "code",
   "execution_count": 23,
   "id": "efb4fd62-8c81-40e0-ae53-486dbc4d7919",
   "metadata": {},
   "outputs": [
    {
     "name": "stdout",
     "output_type": "stream",
     "text": [
      "torch.Size([4, 5])\n",
      "tensor([0.0670])\n"
     ]
    }
   ],
   "source": [
    "monai_dice = DMM(y_pred_onehot, y_true_onehot)\n",
    "print(monai_dice.shape)\n",
    "print(DMM.aggregate())\n",
    "DMM.reset()"
   ]
  },
  {
   "cell_type": "code",
   "execution_count": 24,
   "id": "cbdfaf02-85e1-41b6-8305-7dde9dfc469f",
   "metadata": {},
   "outputs": [
    {
     "name": "stdout",
     "output_type": "stream",
     "text": [
      "(tensor(0.0670), {'dice_class_0': 0.0, 'dice_class_1': 0.33490118384361267, 'dice_class_2': 0.0, 'dice_class_3': 0.0, 'dice_class_4': 0.0, 'dice_mean': 0.06698023527860641})\n"
     ]
    }
   ],
   "source": [
    "dice_sum2 = dice_with_sum(y_pred_onehot, y_true_onehot)\n",
    "print(dice_sum2)"
   ]
  },
  {
   "cell_type": "code",
   "execution_count": 25,
   "id": "c552f75b-e8d1-4f43-b775-223b3d9cd019",
   "metadata": {},
   "outputs": [
    {
     "name": "stdout",
     "output_type": "stream",
     "text": [
      "(tensor(0.0670), {'dice_class_0': 7.62340438964058e-17, 'dice_class_1': 0.33489900827407837, 'dice_class_2': 7.665002310029137e-17, 'dice_class_3': 7.657760840074602e-17, 'dice_class_4': 7.61560043686951e-17, 'dice_mean': 0.0669798031449318})\n"
     ]
    }
   ],
   "source": [
    "dice_mean2 = dice_with_mean(y_pred_onehot, y_true_onehot)\n",
    "print(dice_mean2)"
   ]
  },
  {
   "cell_type": "code",
   "execution_count": 26,
   "id": "4637d6ed-309b-4abf-9ce7-cdb34208b920",
   "metadata": {},
   "outputs": [
    {
     "name": "stdout",
     "output_type": "stream",
     "text": [
      "tensor([0.0000, 0.3349, 0.0000, 0.0000, 0.0000])\n"
     ]
    }
   ],
   "source": [
    "print(monai_dice.mean(0))"
   ]
  },
  {
   "cell_type": "code",
   "execution_count": 27,
   "id": "31ba54a9-2a2d-4010-8a14-6f1fba190f73",
   "metadata": {},
   "outputs": [],
   "source": [
    "import torch\n",
    "from monai.metrics import DiceMetric\n",
    "\n",
    "def compare_dice_with_monai(y_pred, y_true, include_background=False, reduction=\"mean\", smooth=1e-12):\n",
    "    \"\"\"\n",
    "    Compara tu función `dice_with_sum` con la implementación de MONAI.\n",
    "\n",
    "    Parámetros\n",
    "    ----------\n",
    "    y_pred : torch.Tensor\n",
    "        Predicciones (logits, class indices, o one-hot).\n",
    "    y_true : torch.Tensor\n",
    "        Ground truth (class indices o one-hot).\n",
    "    include_background : bool\n",
    "        Si incluir la clase de fondo (índice 0) en el cálculo.\n",
    "    reduction : str\n",
    "        'mean', 'sum', o 'none'.\n",
    "    smooth : float\n",
    "        Valor de suavizado para tu función.\n",
    "\n",
    "    Returns\n",
    "    -------\n",
    "    dict\n",
    "        Diccionario con ambos resultados y diferencia.\n",
    "    \"\"\"\n",
    "    \n",
    "    # Primero: tu función\n",
    "    my_dice, my_dice_dict = dice_with_sum(y_pred, y_true, smooth)\n",
    "\n",
    "    # Ahora: MONAI\n",
    "    from monai.metrics.utils import get_mask_edges\n",
    "    from monai.networks import one_hot\n",
    "\n",
    "    # Asegurarse de que están en formato one-hot y float\n",
    "    def to_one_hot(tensor, num_classes):\n",
    "        if tensor.dim() == 3:\n",
    "            tensor = tensor.unsqueeze(1)  # (B, H, W) → (B, 1, H, W)\n",
    "        elif tensor.dim() == 4 and tensor.size(1) != 1:\n",
    "            tensor = tensor.unsqueeze(1)  # (B, D, H, W) → (B, 1, D, H, W)\n",
    "        return one_hot(tensor.long(), num_classes=num_classes).float()\n",
    "\n",
    "\n",
    "    # Determinar número de clases\n",
    "    if y_pred.dim() >= 4 and y_pred.size(1) > 1:\n",
    "        n_classes = y_pred.size(1)\n",
    "        y_pred_classes = torch.argmax(y_pred, dim=1)\n",
    "    else:\n",
    "        y_pred_classes = y_pred\n",
    "        n_classes = int(torch.max(torch.cat([y_pred, y_true])) + 1)\n",
    "\n",
    "    y_pred_monai = to_one_hot(y_pred_classes, n_classes)\n",
    "    y_true_monai = to_one_hot(y_true, n_classes)\n",
    "\n",
    "    # MONAI DiceMetric\n",
    "    monai_dice_metric = DiceMetric(\n",
    "        include_background=include_background,\n",
    "        reduction=reduction,\n",
    "        get_not_nans=False\n",
    "    )\n",
    "    monai_dice = monai_dice_metric(y_pred_monai, y_true_monai)\n",
    "\n",
    "    if isinstance(monai_dice, torch.Tensor):\n",
    "        monai_dice_val = monai_dice.mean().item() if monai_dice.numel() > 1 else monai_dice.item()\n",
    "    else:\n",
    "        monai_dice_val = float(monai_dice)\n",
    "\n",
    "    return {\n",
    "        \"your_dice\": my_dice.item(),\n",
    "        \"monai_dice\": monai_dice_val,\n",
    "        \"difference\": abs(my_dice.item() - monai_dice_val),\n",
    "        \"your_per_class\": my_dice_dict\n",
    "    }\n"
   ]
  },
  {
   "cell_type": "code",
   "execution_count": 28,
   "id": "1a5eb0eb-de87-48a3-b017-cfa6c949e0c9",
   "metadata": {},
   "outputs": [
    {
     "name": "stdout",
     "output_type": "stream",
     "text": [
      "{'your_dice': 0.06698023527860641, 'monai_dice': 0.08372475206851959, 'difference': 0.016744516789913177, 'your_per_class': {'dice_class_0': 0.0, 'dice_class_1': 0.33490118384361267, 'dice_class_2': 0.0, 'dice_class_3': 0.0, 'dice_class_4': 0.0, 'dice_mean': 0.06698023527860641}}\n"
     ]
    }
   ],
   "source": [
    "# y_pred y y_true pueden ser logits, class indices, o one-hot\n",
    "result = compare_dice_with_monai(\n",
    "    y_pred, \n",
    "    y_true, \n",
    "    include_background=False, \n",
    "    reduction=\"sum\"  # o \"mean\", según quieras comparar\n",
    ")\n",
    "\n",
    "print(result)\n"
   ]
  },
  {
   "cell_type": "markdown",
   "id": "79552405-a591-4c7c-9049-aa42b9eb12f2",
   "metadata": {},
   "source": [
    "# __Test 2__"
   ]
  },
  {
   "cell_type": "code",
   "execution_count": 29,
   "id": "cbae9c6b-48d4-4d33-8e57-e15c21d3db45",
   "metadata": {},
   "outputs": [
    {
     "name": "stdout",
     "output_type": "stream",
     "text": [
      "MONAI (por imagen): 0.0669798031449318\n",
      "MONAI (global): 0.2679192125797272\n",
      "dice_with_mean: 0.0669798031449318\n",
      "dice_with_sum: 0.06698023527860641\n"
     ]
    }
   ],
   "source": [
    "import torch\n",
    "from monai.metrics import DiceMetric\n",
    "\n",
    "# MONAI (por defecto, similar a dice_with_mean)\n",
    "dice_metric = DiceMetric(include_background=True, reduction=\"mean\")\n",
    "dice_metric(y_pred_onehot, y_true_onehot)\n",
    "monai_dice = dice_metric.aggregate().item()\n",
    "print(f\"MONAI (por imagen): {monai_dice}\")\n",
    "\n",
    "# MONAI (suma global, similar a dice_with_sum)\n",
    "dice_metric_global = DiceMetric(include_background=True, reduction=\"sum_batch\")\n",
    "dice_metric_global(y_pred_onehot, y_true_onehot)\n",
    "monai_dice_global = dice_metric_global.aggregate().mean().item()\n",
    "print(f\"MONAI (global): {monai_dice_global}\")\n",
    "\n",
    "# Tu implementación\n",
    "dice_mean, _ = dice_with_mean(y_pred, y_true)\n",
    "dice_sum, _ = dice_with_sum(y_pred, y_true)\n",
    "print(f\"dice_with_mean: {dice_mean.item()}\")\n",
    "print(f\"dice_with_sum: {dice_sum.item()}\")"
   ]
  },
  {
   "cell_type": "code",
   "execution_count": 31,
   "id": "b0f2ea22-b51c-46e8-a574-5410972f9da9",
   "metadata": {},
   "outputs": [
    {
     "name": "stdout",
     "output_type": "stream",
     "text": [
      "Tu Dice (ajustado): tensor([1.9058e-17, 3.3490e-01, 1.9162e-17, 1.9144e-17, 1.9038e-17])\n"
     ]
    }
   ],
   "source": [
    "def dice_with_sum_monai_style(y_pred_one_hot, y_true_one_hot, smooth=1e-12):\n",
    "    intersection = torch.sum(y_pred_one_hot * y_true_one_hot, dim=(2, 3))  # Suma sobre H, W\n",
    "    union = torch.sum(y_pred_one_hot, dim=(2, 3)) + torch.sum(y_true_one_hot, dim=(2, 3))\n",
    "    \n",
    "    # Suma global sobre el batch (como MONAI con reduction=\"mean_batch\")\n",
    "    intersection = intersection.sum(dim=0)  # [C]\n",
    "    union = union.sum(dim=0)  # [C]\n",
    "    \n",
    "    dice_scores = (2. * intersection + smooth) / (union + smooth)  # [C]\n",
    "    return dice_scores\n",
    "\n",
    "# Calcula con tus datos one-hot\n",
    "your_dice = dice_with_sum_monai_style(y_pred_onehot, y_true_onehot)\n",
    "print(\"Tu Dice (ajustado):\", your_dice)  # Debería coincidir con MONAI"
   ]
  },
  {
   "cell_type": "markdown",
   "id": "98a6bb64-0ff4-42d6-8146-7651e7f9fd68",
   "metadata": {},
   "source": [
    "# __Using MONAI__"
   ]
  },
  {
   "cell_type": "code",
   "execution_count": 32,
   "id": "348af32e-d88e-4cc6-87fb-740c0703a03c",
   "metadata": {},
   "outputs": [],
   "source": [
    "def test_sum():\n",
    "    # MONAI\n",
    "    dice_metric = DiceMetric(include_background=True, reduction=\"mean_batch\")\n",
    "    monai_full = dice_metric(y_pred_onehot, y_true_onehot)\n",
    "    monai_dice = dice_metric.aggregate()\n",
    "    print(f\"MONAI (all): {monai_full}\")\n",
    "    print(f\"MONAI (sum_batch): {monai_dice}\")\n",
    "    print(f\"MONAI (mean sum_batch): {monai_dice.mean().item()}\")\n",
    "    \n",
    "    # dice_with_sum\n",
    "    own = dice_with_sum(y_pred_onehot, y_true_onehot)\n",
    "    print(f\"SUM (sum_batch): {own[1]}\")\n",
    "    print(f\"SUM (mean sum_batch): {own[0].item()}\")"
   ]
  },
  {
   "cell_type": "code",
   "execution_count": 33,
   "id": "d1c570c5-cb01-4626-a48e-a70bf03f3fdb",
   "metadata": {},
   "outputs": [
    {
     "name": "stdout",
     "output_type": "stream",
     "text": [
      "MONAI (all): tensor([[0.0000, 0.3366, 0.0000, 0.0000, 0.0000],\n",
      "        [0.0000, 0.3325, 0.0000, 0.0000, 0.0000],\n",
      "        [0.0000, 0.3335, 0.0000, 0.0000, 0.0000],\n",
      "        [0.0000, 0.3369, 0.0000, 0.0000, 0.0000]])\n",
      "MONAI (sum_batch): tensor([0.0000, 0.3349, 0.0000, 0.0000, 0.0000])\n",
      "MONAI (mean sum_batch): 0.0669798031449318\n",
      "SUM (sum_batch): {'dice_class_0': 0.0, 'dice_class_1': 0.33490118384361267, 'dice_class_2': 0.0, 'dice_class_3': 0.0, 'dice_class_4': 0.0, 'dice_mean': 0.06698023527860641}\n",
      "SUM (mean sum_batch): 0.06698023527860641\n"
     ]
    }
   ],
   "source": [
    "test_sum()"
   ]
  },
  {
   "cell_type": "markdown",
   "id": "9e1307e1-8815-4ca4-b91a-cb46212368fe",
   "metadata": {},
   "source": [
    "# __Another test__"
   ]
  },
  {
   "cell_type": "code",
   "execution_count": null,
   "id": "efc1526a-7c22-4c8e-a6fd-92ef25da42cc",
   "metadata": {},
   "outputs": [],
   "source": [
    "import torch\n",
    "from monai.metrics import DiceMetric\n",
    "def dice_coeff(y_pred, y_true, smooth=1e-5):\n",
    "    n = y_true.size(0)\n",
    "    print(n)\n",
    "    pred_flat = y_pred.view(n, -1)\n",
    "    gt_flat = y_true.view(n, -1)\n",
    "\n",
    "    intersection = (pred_flat * gt_flat).sum(1)\n",
    "    unionset = pred_flat.sum(1) + gt_flat.sum(1)\n",
    "    loss = (2. * intersection + smooth) / (unionset + smooth)\n",
    "\n",
    "    return loss.sum() / n, loss"
   ]
  },
  {
   "cell_type": "code",
   "execution_count": null,
   "id": "f8fae9a5-0d26-4610-ab31-4d2ea43cd771",
   "metadata": {},
   "outputs": [],
   "source": [
    "dice_sum = dice_with_sum(y_pred_onehot, y_true_onehot)\n",
    "dice_mean = dice_with_mean(y_pred_onehot, y_true_onehot)\n",
    "DMM = DiceMetric(include_background=True, reduction=\"none\")\n",
    "dice_monai = DMM(y_pred_onehot, y_true_onehot)\n",
    "dice_new, dt = dice_coeff(y_pred_onehot, y_true_onehot)"
   ]
  },
  {
   "cell_type": "code",
   "execution_count": null,
   "id": "c0a9464f-bac9-457b-8f5d-8e614b5fe8be",
   "metadata": {},
   "outputs": [],
   "source": [
    "print(dice_sum)\n",
    "print(dice_mean)\n",
    "print(dice_monai)\n",
    "print(dice_new)"
   ]
  }
 ],
 "metadata": {
  "kernelspec": {
   "display_name": "Python 3 (ipykernel)",
   "language": "python",
   "name": "python3"
  },
  "language_info": {
   "codemirror_mode": {
    "name": "ipython",
    "version": 3
   },
   "file_extension": ".py",
   "mimetype": "text/x-python",
   "name": "python",
   "nbconvert_exporter": "python",
   "pygments_lexer": "ipython3",
   "version": "3.9.21"
  }
 },
 "nbformat": 4,
 "nbformat_minor": 5
}
