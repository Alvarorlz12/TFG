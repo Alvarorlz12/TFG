{
 "cells": [
  {
   "cell_type": "code",
   "execution_count": 1,
   "id": "9779e681-f523-4e04-aec9-0206191641a7",
   "metadata": {},
   "outputs": [],
   "source": [
    "import torch\n",
    "from src.metrics.segmentation import SegmentationMetrics as SM\n",
    "import monai.metrics as mm"
   ]
  },
  {
   "cell_type": "code",
   "execution_count": 2,
   "id": "b8a40fe4-1e61-4419-aede-cec71d8ca117",
   "metadata": {},
   "outputs": [
    {
     "name": "stdout",
     "output_type": "stream",
     "text": [
      "torch.Size([4, 256, 256])\n",
      "torch.Size([4, 5, 256, 256])\n"
     ]
    }
   ],
   "source": [
    "batch_size = 4\n",
    "num_classes = 5\n",
    "height, width = 256, 256\n",
    "\n",
    "masks_2d = torch.randint(0, num_classes, (batch_size, height, width))\n",
    "print(masks_2d.shape)\n",
    "\n",
    "# (logits)\n",
    "y_pred_logits = torch.randn(batch_size, num_classes, height, width).float()\n",
    "print(y_pred_logits.shape)"
   ]
  },
  {
   "cell_type": "code",
   "execution_count": 3,
   "id": "4f1acc0c-a356-4a30-aa5d-16f52272eed2",
   "metadata": {},
   "outputs": [
    {
     "name": "stdout",
     "output_type": "stream",
     "text": [
      "(tensor(0.2007), {'dice_class_0': 0.20134757459163666, 'dice_class_1': 0.19990158081054688, 'dice_class_2': 0.20083345472812653, 'dice_class_3': 0.20156258344650269, 'dice_class_4': 0.19991423189640045, 'dice_mean': 0.20071187615394592})\n"
     ]
    }
   ],
   "source": [
    "dice = SM.dice_coefficient(y_pred_logits, masks_2d)\n",
    "print(dice)"
   ]
  },
  {
   "cell_type": "code",
   "execution_count": 4,
   "id": "33d5aead-8884-488b-ab7e-593ee6775d24",
   "metadata": {},
   "outputs": [
    {
     "name": "stdout",
     "output_type": "stream",
     "text": [
      "tensor([[3.8419, 3.7979, 3.9360, 3.7039, 3.8813],\n",
      "        [4.1168, 3.6410, 3.7574, 3.6230, 3.9416],\n",
      "        [3.8023, 3.7547, 3.9631, 4.0147, 3.5757],\n",
      "        [3.9806, 3.7606, 3.8083, 3.7821, 4.1642]])\n"
     ]
    }
   ],
   "source": [
    "dice_monai, _ = mm.DiceHelper(include_background=True, sigmoid=True, softmax=True, reduction='none')(y_pred_logits, masks_2d)\n",
    "print(dice_monai)"
   ]
  },
  {
   "cell_type": "code",
   "execution_count": 6,
   "id": "b7450677-a445-4ba7-ac9b-a736cc2cb431",
   "metadata": {},
   "outputs": [],
   "source": [
    "def to_one_hot(masks, num_classes):\n",
    "    \"\"\"\n",
    "    Convierte una máscara (2D o 3D) a un formato one-hot.\n",
    "\n",
    "    Args:\n",
    "        masks (torch.Tensor): Máscara de etiquetas de tamaño [batch_size, ..., height, width] o [batch_size, ..., depth, height, width].\n",
    "        num_classes (int): Número de clases a convertir.\n",
    "\n",
    "    Returns:\n",
    "        torch.Tensor: Máscara en formato one-hot de tamaño [batch_size, num_classes, ..., height, width] o [batch_size, num_classes, ..., depth, height, width].\n",
    "    \"\"\"\n",
    "    # Verifica si la máscara es 2D o 3D\n",
    "    if masks.dim() == 3:  # Caso 2D (batch_size, height, width)\n",
    "        batch_size, height, width = masks.shape\n",
    "        # Reshape para agregar la dimensión de clases\n",
    "        masks_one_hot = torch.zeros(batch_size, num_classes, height, width, device=masks.device)\n",
    "        # Convierte los índices en one-hot\n",
    "        masks_one_hot.scatter_(1, masks.unsqueeze(1), 1)\n",
    "    \n",
    "    elif masks.dim() == 4:  # Caso 3D (batch_size, depth, height, width)\n",
    "        batch_size, depth, height, width = masks.shape\n",
    "        # Reshape para agregar la dimensión de clases\n",
    "        masks_one_hot = torch.zeros(batch_size, num_classes, depth, height, width, device=masks.device)\n",
    "        # Convierte los índices en one-hot\n",
    "        masks_one_hot.scatter_(1, masks.unsqueeze(1), 1)\n",
    "\n",
    "    return masks_one_hot"
   ]
  },
  {
   "cell_type": "code",
   "execution_count": 7,
   "id": "91e59f66-7519-4470-a652-4fe19123b2aa",
   "metadata": {},
   "outputs": [
    {
     "name": "stdout",
     "output_type": "stream",
     "text": [
      "tensor([0.2013, 0.1999, 0.2008, 0.2016, 0.1999])\n",
      "tensor(0.2007)\n"
     ]
    }
   ],
   "source": [
    "y_pred = torch.argmax(y_pred_logits, dim=1, keepdim=True)\n",
    "y_pred_one_hot = torch.zeros(batch_size, num_classes, height, width)\n",
    "y_pred_one_hot.scatter_(1, y_pred, 1)\n",
    "y_true_one_hot = to_one_hot(masks_2d, num_classes)\n",
    "dice_monai = mm.DiceMetric(reduction='none')(y_pred_one_hot, y_true_one_hot)\n",
    "print(dice_monai.mean(dim=0))\n",
    "print(dice_monai.mean(dim=0).mean())"
   ]
  },
  {
   "cell_type": "code",
   "execution_count": 8,
   "id": "7e1e7973-3ead-4ada-86d9-3a1c4ff61b9f",
   "metadata": {},
   "outputs": [],
   "source": [
    "import monai.transforms as MT\n",
    "def monai_to_one_hot(y, N):\n",
    "    ad = MT.AsDiscrete(argmax=True, to_onehot=N)\n",
    "    y_oh = ad(y)\n",
    "    return y_oh"
   ]
  },
  {
   "cell_type": "code",
   "execution_count": 9,
   "id": "53108ceb-d16f-4731-9d61-78bc3d4b6626",
   "metadata": {},
   "outputs": [],
   "source": [
    "y_pred_oh_monai = monai_to_one_hot(y_pred_logits, num_classes)"
   ]
  },
  {
   "cell_type": "code",
   "execution_count": 10,
   "id": "dc947d25-0f86-4a1d-a631-b1460ffc99bc",
   "metadata": {},
   "outputs": [
    {
     "name": "stdout",
     "output_type": "stream",
     "text": [
      "True\n"
     ]
    }
   ],
   "source": [
    "print((y_pred_one_hot.all()==y_pred_oh_monai.all()).item())"
   ]
  },
  {
   "cell_type": "code",
   "execution_count": 13,
   "id": "a2b8c4a3-8afe-4f54-8b44-0ed99de022fd",
   "metadata": {},
   "outputs": [],
   "source": [
    "import torch.nn.functional as F\n",
    "def test_conversion():\n",
    "    batch_size = 4\n",
    "    num_classes = 5\n",
    "    height, width = 256, 256\n",
    "    \n",
    "    y_true = torch.randint(0, num_classes, (batch_size, height, width))\n",
    "    print(\"y_true:\", y_true.shape)\n",
    "    \n",
    "    # (logits)\n",
    "    y_pred = torch.randn(batch_size, num_classes, height, width).float()\n",
    "    print(\"y_pred:\", y_pred.shape)\n",
    "\n",
    "    y_pred_softmax = F.softmax(y_pred, dim=1)\n",
    "    y_pred_class_soft = torch.argmax(y_pred_softmax, dim=1, keepdim=True) # Argmax to softmax y_pred (probs)\n",
    "    y_pred_class = torch.argmax(y_pred, dim=1, keepdim=True) # Argmax to logits\n",
    "\n",
    "    print(f\"softmax: \\n\\t{y_pred_class_soft.shape}\\n\\t{y_pred_class_soft.unique()}\")\n",
    "    print(f\"logits: \\n\\t{y_pred_class.shape}\\n\\t{y_pred_class.unique()}\")\n",
    "\n",
    "    print('-'*35)\n",
    "    print('EQUALITY TEST')\n",
    "    print(y_pred_class==y_pred_class_soft)\n",
    "    print('Equals:', (y_pred_class.all()==y_pred_class_soft.all()).item())"
   ]
  },
  {
   "cell_type": "code",
   "execution_count": 14,
   "id": "1a4775a6-9890-42e8-a899-ae5a2a50ceb5",
   "metadata": {},
   "outputs": [
    {
     "name": "stdout",
     "output_type": "stream",
     "text": [
      "y_true: torch.Size([4, 256, 256])\n",
      "y_pred: torch.Size([4, 5, 256, 256])\n",
      "softmax: \n",
      "\ttorch.Size([4, 1, 256, 256])\n",
      "\ttensor([0, 1, 2, 3, 4])\n",
      "logits: \n",
      "\ttorch.Size([4, 1, 256, 256])\n",
      "\ttensor([0, 1, 2, 3, 4])\n",
      "-----------------------------------\n",
      "EQUALITY TEST\n",
      "tensor([[[[True, True, True,  ..., True, True, True],\n",
      "          [True, True, True,  ..., True, True, True],\n",
      "          [True, True, True,  ..., True, True, True],\n",
      "          ...,\n",
      "          [True, True, True,  ..., True, True, True],\n",
      "          [True, True, True,  ..., True, True, True],\n",
      "          [True, True, True,  ..., True, True, True]]],\n",
      "\n",
      "\n",
      "        [[[True, True, True,  ..., True, True, True],\n",
      "          [True, True, True,  ..., True, True, True],\n",
      "          [True, True, True,  ..., True, True, True],\n",
      "          ...,\n",
      "          [True, True, True,  ..., True, True, True],\n",
      "          [True, True, True,  ..., True, True, True],\n",
      "          [True, True, True,  ..., True, True, True]]],\n",
      "\n",
      "\n",
      "        [[[True, True, True,  ..., True, True, True],\n",
      "          [True, True, True,  ..., True, True, True],\n",
      "          [True, True, True,  ..., True, True, True],\n",
      "          ...,\n",
      "          [True, True, True,  ..., True, True, True],\n",
      "          [True, True, True,  ..., True, True, True],\n",
      "          [True, True, True,  ..., True, True, True]]],\n",
      "\n",
      "\n",
      "        [[[True, True, True,  ..., True, True, True],\n",
      "          [True, True, True,  ..., True, True, True],\n",
      "          [True, True, True,  ..., True, True, True],\n",
      "          ...,\n",
      "          [True, True, True,  ..., True, True, True],\n",
      "          [True, True, True,  ..., True, True, True],\n",
      "          [True, True, True,  ..., True, True, True]]]])\n",
      "Equals: True\n"
     ]
    }
   ],
   "source": [
    "test_conversion()"
   ]
  },
  {
   "cell_type": "code",
   "execution_count": 19,
   "id": "1766c46e-0479-4218-b048-4e514049faa6",
   "metadata": {},
   "outputs": [],
   "source": [
    "import time\n",
    "def time_test():\n",
    "    B, D, H, W, C = 4, 64, 256, 256, 5  # 5 clases\n",
    "    # Datos en GPU si está disponible\n",
    "    device = \"cuda\" if torch.cuda.is_available() else \"cpu\"\n",
    "    \n",
    "    y_true = torch.randint(0, C, (B, D, H, W), device=device)\n",
    "    \n",
    "    # Benchmark F.one_hot\n",
    "    start = time.time()\n",
    "    y_one_hot_f = torch.nn.functional.one_hot(y_true, C).permute(0, 4, 1, 2, 3)\n",
    "    print(f\"F.one_hot time: {time.time() - start:.6f} sec\")\n",
    "    \n",
    "    # Benchmark scatter_\n",
    "    start = time.time()\n",
    "    y_one_hot_s = torch.zeros((B, C, D, H, W), device=device)\n",
    "    y_one_hot_s.scatter_(1, y_true.unsqueeze(1), 1)\n",
    "    print(f\"scatter_ time: {time.time() - start:.6f} sec\")"
   ]
  },
  {
   "cell_type": "code",
   "execution_count": 26,
   "id": "42323063-043b-430e-8ebc-6b6df97e840e",
   "metadata": {},
   "outputs": [
    {
     "name": "stdout",
     "output_type": "stream",
     "text": [
      "F.one_hot time: 0.101663 sec\n",
      "scatter_ time: 0.059778 sec\n"
     ]
    }
   ],
   "source": [
    "time_test()"
   ]
  }
 ],
 "metadata": {
  "kernelspec": {
   "display_name": "Python 3 (ipykernel)",
   "language": "python",
   "name": "python3"
  },
  "language_info": {
   "codemirror_mode": {
    "name": "ipython",
    "version": 3
   },
   "file_extension": ".py",
   "mimetype": "text/x-python",
   "name": "python",
   "nbconvert_exporter": "python",
   "pygments_lexer": "ipython3",
   "version": "3.9.21"
  }
 },
 "nbformat": 4,
 "nbformat_minor": 5
}
