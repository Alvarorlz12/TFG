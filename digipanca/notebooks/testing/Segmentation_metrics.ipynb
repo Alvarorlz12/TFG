{
 "cells": [
  {
   "cell_type": "markdown",
   "id": "1257ff6f-1832-4c03-b158-2bd9f3e04a30",
   "metadata": {},
   "source": [
    "# Imports y config"
   ]
  },
  {
   "cell_type": "code",
   "execution_count": 1,
   "id": "a8e5b7e9-64b2-4027-bc0c-f87bbdfac59e",
   "metadata": {},
   "outputs": [],
   "source": [
    "%load_ext autoreload\n",
    "%autoreload 2"
   ]
  },
  {
   "cell_type": "code",
   "execution_count": 1,
   "id": "42ae18f2-6d0c-4e9c-9d98-55c6a1457c1b",
   "metadata": {},
   "outputs": [],
   "source": [
    "import os\n",
    "import torch\n",
    "from monai.metrics import DiceMetric\n",
    "import torch.nn.functional as F\n",
    "from src.metrics.segmentation_bak import SegmentationMetrics"
   ]
  },
  {
   "cell_type": "code",
   "execution_count": 4,
   "id": "9949607b-935d-4559-b84c-13d36920a1ad",
   "metadata": {},
   "outputs": [],
   "source": [
    "os.chdir('C:\\\\Users\\\\Usuario\\\\TFG\\\\digipanca\\\\')"
   ]
  },
  {
   "cell_type": "markdown",
   "id": "87722aaf-0ae1-44b4-b4c3-d29d02e47c30",
   "metadata": {},
   "source": [
    "# Test: Dice"
   ]
  },
  {
   "cell_type": "code",
   "execution_count": 16,
   "id": "97d96062-b73a-4081-a933-46ce3adb07c7",
   "metadata": {},
   "outputs": [
    {
     "name": "stdout",
     "output_type": "stream",
     "text": [
      "==> Comparación de Dice Score por clase:\n",
      "Clase 0: MONAI = 0.2001, Mi implementación = 0.2001\n",
      "Clase 1: MONAI = 0.2007, Mi implementación = 0.2007\n",
      "Clase 2: MONAI = 0.1997, Mi implementación = 0.1997\n",
      "Clase 3: MONAI = 0.2004, Mi implementación = 0.2004\n",
      "Clase 4: MONAI = 0.1999, Mi implementación = 0.1999\n",
      "\n",
      "==> Dice medio:\n",
      "MONAI = 0.2002, Mi implementación = 0.2002\n"
     ]
    }
   ],
   "source": [
    "# Crear valores aleatorios simulando segmentaciones (batch_size=4, clases=5, 512x512)\n",
    "y_pred = torch.randint(0, 5, (4, 512, 512))  # Predicción como índices de clase\n",
    "y_true = torch.randint(0, 5, (4, 512, 512))  # Ground truth como índices de clase\n",
    "\n",
    "# Convertir a one-hot para ambas implementaciones\n",
    "n_classes = 5\n",
    "y_pred_one_hot = F.one_hot(y_pred, num_classes=n_classes).permute(0, 3, 1, 2).float()\n",
    "y_true_one_hot = F.one_hot(y_true, num_classes=n_classes).permute(0, 3, 1, 2).float()\n",
    "\n",
    "# ======================\n",
    "# Cálculo con MONAI\n",
    "# ======================\n",
    "dice_metric = DiceMetric(include_background=True, reduction=\"none\")  # \"none\" para obtener todas las clases\n",
    "monai_dice = dice_metric(y_pred_one_hot, y_true_one_hot)\n",
    "\n",
    "# ======================\n",
    "# Cálculo con tu implementación\n",
    "# ======================\n",
    "_, my_dice = SegmentationMetrics.dice_coefficient(y_pred, y_true)  # Devuelve valores por clase en un diccionario\n",
    "\n",
    "# ======================\n",
    "# Comparación\n",
    "# ======================\n",
    "print(\"==> Comparación de Dice Score por clase:\")\n",
    "for i in range(n_classes):\n",
    "    print(f\"Clase {i}: MONAI = {monai_dice[:, i].mean().item():.4f}, Mi implementación = {my_dice[f'dice_class_{i}']:.4f}\")\n",
    "\n",
    "print(f\"\\n==> Dice medio:\")\n",
    "print(f\"MONAI = {monai_dice.mean().item():.4f}, Mi implementación = {my_dice['dice_mean']:.4f}\")"
   ]
  },
  {
   "cell_type": "markdown",
   "id": "acefe68d-e91a-4847-b8c4-94ac898a7144",
   "metadata": {},
   "source": [
    "# Test: IoU"
   ]
  },
  {
   "cell_type": "code",
   "execution_count": 14,
   "id": "2c3d059f-c50c-4f26-80e4-7fd58884ed0b",
   "metadata": {},
   "outputs": [
    {
     "name": "stdout",
     "output_type": "stream",
     "text": [
      "==> Comparación de IoU por clase:\n",
      "Clase 0: MONAI = 0.1989, Mi implementación = 0.1989\n",
      "Clase 1: MONAI = 0.2006, Mi implementación = 0.2006\n",
      "Clase 2: MONAI = 0.1981, Mi implementación = 0.1981\n",
      "\n",
      "==> IoU medio:\n",
      "MONAI = 0.1992, Mi implementación = 0.1992\n"
     ]
    }
   ],
   "source": [
    "# Crear valores aleatorios simulando segmentaciones (batch_size=2, clases=3, 256x256)\n",
    "y_pred = torch.randint(0, 3, (2, 256, 256))  # Predicción como índices de clase\n",
    "y_true = torch.randint(0, 3, (2, 256, 256))  # Ground truth como índices de clase\n",
    "\n",
    "# Convertir a one-hot\n",
    "n_classes = 3\n",
    "y_pred_one_hot = F.one_hot(y_pred, num_classes=n_classes).permute(0, 3, 1, 2).float()\n",
    "y_true_one_hot = F.one_hot(y_true, num_classes=n_classes).permute(0, 3, 1, 2).float()\n",
    "\n",
    "# ======================\n",
    "# Cálculo de IoU con MONAI (manual)\n",
    "# ======================\n",
    "intersection = torch.sum(y_pred_one_hot * y_true_one_hot, dim=(2, 3))  # Intersección por clase\n",
    "union = torch.sum(y_pred_one_hot, dim=(2, 3)) + torch.sum(y_true_one_hot, dim=(2, 3)) - intersection  # Unión\n",
    "monai_iou = (intersection + 1e-6) / (union + 1e-6)  # Evitar división por 0\n",
    "\n",
    "# ======================\n",
    "# Cálculo con tu implementación\n",
    "# ======================\n",
    "_, my_iou = SegmentationMetrics.iou_score(y_pred, y_true)  # Devuelve valores por clase en un diccionario\n",
    "\n",
    "# ======================\n",
    "# Comparación\n",
    "# ======================\n",
    "print(\"==> Comparación de IoU por clase:\")\n",
    "for i in range(n_classes):\n",
    "    monai_iou_value = monai_iou[:, i].mean().item()  # Promediar sobre el batch\n",
    "    my_iou_value = my_iou[f\"iou_class_{i}\"]\n",
    "    print(f\"Clase {i}: MONAI = {monai_iou_value:.4f}, Mi implementación = {my_iou_value:.4f}\")\n",
    "\n",
    "print(f\"\\n==> IoU medio:\")\n",
    "print(f\"MONAI = {monai_iou.mean().item():.4f}, Mi implementación = {my_iou['iou_mean']:.4f}\")\n"
   ]
  }
 ],
 "metadata": {
  "kernelspec": {
   "display_name": "Python 3 (ipykernel)",
   "language": "python",
   "name": "python3"
  },
  "language_info": {
   "codemirror_mode": {
    "name": "ipython",
    "version": 3
   },
   "file_extension": ".py",
   "mimetype": "text/x-python",
   "name": "python",
   "nbconvert_exporter": "python",
   "pygments_lexer": "ipython3",
   "version": "3.9.21"
  }
 },
 "nbformat": 4,
 "nbformat_minor": 5
}
