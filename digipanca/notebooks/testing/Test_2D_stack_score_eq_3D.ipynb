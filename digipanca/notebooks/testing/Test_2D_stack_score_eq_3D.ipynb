{
 "cells": [
  {
   "cell_type": "markdown",
   "id": "9fd1650e-ddfd-4ec8-bc8d-85dd999d0a4f",
   "metadata": {},
   "source": [
    "# Import & config"
   ]
  },
  {
   "cell_type": "code",
   "execution_count": 1,
   "id": "a7af060f-7653-471a-a361-9ab717029010",
   "metadata": {},
   "outputs": [],
   "source": [
    "%load_ext autoreload\n",
    "%autoreload 2\n",
    "import os\n",
    "os.chdir('C:\\\\Users\\\\Usuario\\\\TFG\\\\digipanca\\\\')"
   ]
  },
  {
   "cell_type": "code",
   "execution_count": 2,
   "id": "e08995c5-8cc7-4f97-b1f7-ddddaabc3dda",
   "metadata": {},
   "outputs": [],
   "source": [
    "import torch\n",
    "from scripts.neweval import load_trained_model\n",
    "from src.utils.config import load_config\n",
    "import csv\n",
    "from tqdm.notebook import tqdm\n",
    "from src.data.dataset2d import PancreasDataset2D\n",
    "from src.metrics.sma import SegmentationMetricsAccumulator as SMA\n",
    "from src.training.setup.transforms_factory import get_transforms\n",
    "from src.training.setup.dataset_factory import get_dataset\n",
    "from torch.utils.data import DataLoader"
   ]
  },
  {
   "cell_type": "markdown",
   "id": "3dc5a416-61f3-43cc-8226-d57bf5c96b04",
   "metadata": {},
   "source": [
    "# __Load trained model__"
   ]
  },
  {
   "cell_type": "code",
   "execution_count": 3,
   "id": "1f002700-420d-4fbe-81fe-18f93f39adbe",
   "metadata": {},
   "outputs": [],
   "source": [
    "config = load_config('configs/experiments/deep_aug_5.yaml')\n",
    "model_path = 'experiments/deep_aug/deep_aug_20250415_215856/checkpoints/best_model_epoch60.pth'\n",
    "model = load_trained_model(config, model_path)"
   ]
  },
  {
   "cell_type": "code",
   "execution_count": 4,
   "id": "27bba4a5-b9ee-4585-a17e-de31aa384bab",
   "metadata": {},
   "outputs": [],
   "source": [
    "config_device = config['training']['device']\n",
    "device = torch.device(config_device if torch.cuda.is_available() else \"cpu\")"
   ]
  },
  {
   "cell_type": "code",
   "execution_count": 5,
   "id": "e6f12b81-7d24-4929-ae63-524a225a7013",
   "metadata": {},
   "outputs": [],
   "source": [
    "model.to(device);"
   ]
  },
  {
   "cell_type": "markdown",
   "id": "aaf744a0-ef43-4fed-93fe-478d6fc8bff8",
   "metadata": {},
   "source": [
    "# __Function__"
   ]
  },
  {
   "cell_type": "code",
   "execution_count": 27,
   "id": "6a45d601-56c1-4133-9c2b-0734f52bf5f9",
   "metadata": {},
   "outputs": [],
   "source": [
    "def check_2d_3d_scores(model, config, device):\n",
    "    model.to(device)\n",
    "    model.eval()\n",
    "\n",
    "    # Get patient IDs\n",
    "    data_dir = os.path.join(config[\"data\"][\"processed_dir\"], \"train\")\n",
    "    patient_ids = [\n",
    "        \"rtum79\"\n",
    "    ]\n",
    "\n",
    "    # Get the transforms\n",
    "    transform = get_transforms(config)\n",
    "\n",
    "    # Create metrics accumulator\n",
    "    sma = SMA(include_background=False)\n",
    "    sma_3d = SMA(include_background=False)\n",
    "    sma_3d_recon = SMA(include_background=False)\n",
    "\n",
    "    loop = tqdm(\n",
    "        patient_ids,\n",
    "        colour=\"red\",\n",
    "        leave=True\n",
    "    )\n",
    "    loop.set_description(f\"Evaluating patients\")\n",
    "\n",
    "    for pid in loop:\n",
    "        p_dataset = PancreasDataset2D(\n",
    "            data_dir=data_dir,\n",
    "            transform=transform,\n",
    "            load_into_memory=False,\n",
    "            patient_ids=[pid]\n",
    "        );\n",
    "\n",
    "        # Create DataLoader\n",
    "        p_dl = DataLoader(\n",
    "            p_dataset,\n",
    "            batch_size=config['data']['batch_size'],\n",
    "            shuffle=False,\n",
    "            num_workers=config['data']['num_workers'],\n",
    "            pin_memory=True\n",
    "        )\n",
    "\n",
    "        # Evaluate\n",
    "        patient_loop = tqdm(\n",
    "            p_dl,\n",
    "            leave=True,\n",
    "            colour=\"blue\"\n",
    "        )\n",
    "        patient_loop.set_description(f\"Patient {pid}\")\n",
    "\n",
    "        all_preds = []\n",
    "        all_gts = []\n",
    "\n",
    "        with torch.no_grad():\n",
    "            for images, masks, _ in patient_loop:\n",
    "                images, masks = images.to(device), masks.to(device)\n",
    "\n",
    "                outputs = model(images)\n",
    "                \n",
    "                if isinstance(outputs, dict):\n",
    "                    outputs = outputs[\"out\"]\n",
    "\n",
    "                all_preds.append(outputs)\n",
    "                all_gts.append(masks)\n",
    "                \n",
    "                # Update metrics\n",
    "                _ = sma.update(outputs, masks)\n",
    "\n",
    "            # Get aggregated scores and confusion matrix\n",
    "            p_metrics = sma.aggregate()\n",
    "            p_cm = sma.aggregate_global_cm()\n",
    "\n",
    "            # Stacking\n",
    "            all_preds = torch.cat(all_preds, dim=0).permute(1, 0, 2, 3).unsqueeze(0)\n",
    "            print(\"all_preds:\", all_preds.shape)\n",
    "            all_gts = torch.cat(all_gts, dim=0).unsqueeze(0)\n",
    "            print(\"all_gts:\", all_gts.shape)\n",
    "            _ = sma_3d.update(all_preds, all_gts)\n",
    "            ps_metrics = sma_3d.aggregate()\n",
    "            ps_cm = sma_3d.aggregate_global_cm()\n",
    "\n",
    "            # Reconstruction\n",
    "            recon_vol, recon_mask = p_dataset.get_patient_volume(pid)\n",
    "            print(\"recon mask:\", recon_mask.shape)\n",
    "            _ = sma_3d_recon.update(all_preds, recon_mask)\n",
    "            pr_metrics = sma_3d_recon.aggregate()\n",
    "            pr_cm = sma_3d_recon.aggregate_global_cm()\n",
    "            \n",
    "            sma.reset() # Reset accumulator\n",
    "\n",
    "            tqdm.write(f\"Metrics:\\n{p_metrics}\")\n",
    "            tqdm.write(f\"CM:\\n{p_cm}\")\n",
    "            tqdm.write('-'*65)\n",
    "            tqdm.write(f\"Metrics stacking:\\n{ps_metrics}\")\n",
    "            tqdm.write(f\"CM stacking:\\n{ps_cm}\")\n",
    "            tqdm.write('-'*65)\n",
    "            tqdm.write(f\"Metrics recon:\\n{pr_metrics}\")\n",
    "            tqdm.write(f\"CM recon:\\n{pr_cm}\")\n",
    "            tqdm.write('-'*65)"
   ]
  },
  {
   "cell_type": "code",
   "execution_count": 28,
   "id": "71e06acc-1822-4d95-915a-d49c7f0634c0",
   "metadata": {},
   "outputs": [
    {
     "data": {
      "application/vnd.jupyter.widget-view+json": {
       "model_id": "7382c0335128435cbe0b47000b226ca1",
       "version_major": 2,
       "version_minor": 0
      },
      "text/plain": [
       "  0%|          | 0/1 [00:00<?, ?it/s]"
      ]
     },
     "metadata": {},
     "output_type": "display_data"
    },
    {
     "name": "stdout",
     "output_type": "stream",
     "text": [
      "📊 Loading dataset... 103 slices found.\n"
     ]
    },
    {
     "data": {
      "application/vnd.jupyter.widget-view+json": {
       "model_id": "db4ca38ebe2a4ba2b0ab8966f10057bf",
       "version_major": 2,
       "version_minor": 0
      },
      "text/plain": [
       "  0%|          | 0/26 [00:00<?, ?it/s]"
      ]
     },
     "metadata": {},
     "output_type": "display_data"
    },
    {
     "name": "stdout",
     "output_type": "stream",
     "text": [
      "all_preds: torch.Size([1, 5, 103, 256, 256])\n",
      "all_gts: torch.Size([1, 103, 256, 256])\n",
      "recon mask: torch.Size([1, 103, 256, 256])\n",
      "Metrics:\n",
      "{'dice_class_1': 0.5324310660362244, 'dice_class_2': 0.2273699939250946, 'dice_class_3': 0.8012505769729614, 'dice_class_4': 0.6751064658164978, 'iou_class_1': 0.45153653621673584, 'iou_class_2': 0.156370609998703, 'iou_class_3': 0.7064030170440674, 'iou_class_4': 0.5607652068138123, 'precision_class_1': 0.6438092589378357, 'precision_class_2': 0.168614000082016, 'precision_class_3': 0.8756927847862244, 'precision_class_4': 0.7729638814926147, 'recall_class_1': 0.4964034855365753, 'recall_class_2': 0.379624605178833, 'recall_class_3': 0.7697128653526306, 'recall_class_4': 0.6122469902038574, 'dice': 0.5590395331382751, 'iou': 0.468768835067749, 'precision': 0.6152700185775757, 'recall': 0.5644969940185547}\n",
      "CM:\n",
      "{'tp_class_1': 43973.0, 'tp_class_2': 2534.0, 'tp_class_3': 30782.0, 'tp_class_4': 38452.0, 'fp_class_1': 5177.0, 'fp_class_2': 6220.0, 'fp_class_3': 3569.0, 'fp_class_4': 5826.0, 'fn_class_1': 13667.0, 'fn_class_2': 1389.0, 'fn_class_3': 8133.0, 'fn_class_4': 16632.0, 'tn_class_1': 6687391.0, 'tn_class_2': 6740065.0, 'tn_class_3': 6707724.0, 'tn_class_4': 6689298.0, 'tp': 115741.0, 'fp': 20792.0, 'fn': 39821.0, 'tn': 26824478.0}\n",
      "-----------------------------------------------------------------\n",
      "Metrics stacking:\n",
      "{'dice_class_1': 0.823541522026062, 'dice_class_2': 0.39977914094924927, 'dice_class_3': 0.8402805924415588, 'dice_class_4': 0.7739779949188232, 'iou_class_1': 0.700017511844635, 'iou_class_2': 0.24982747435569763, 'iou_class_3': 0.7245551347732544, 'iou_class_4': 0.6312920451164246, 'precision_class_1': 0.8946693539619446, 'precision_class_2': 0.2894676625728607, 'precision_class_3': 0.8961020112037659, 'precision_class_4': 0.868422269821167, 'recall_class_1': 0.7628903388977051, 'recall_class_2': 0.6459342241287231, 'recall_class_3': 0.7910060286521912, 'recall_class_4': 0.6980611681938171, 'dice': 0.7093948125839233, 'iou': 0.5764230489730835, 'precision': 0.7371653318405151, 'recall': 0.7244729399681091}\n",
      "CM stacking:\n",
      "{'tp_class_1': 43973.0, 'tp_class_2': 2534.0, 'tp_class_3': 30782.0, 'tp_class_4': 38452.0, 'fp_class_1': 5177.0, 'fp_class_2': 6220.0, 'fp_class_3': 3569.0, 'fp_class_4': 5826.0, 'fn_class_1': 13667.0, 'fn_class_2': 1389.0, 'fn_class_3': 8133.0, 'fn_class_4': 16632.0, 'tn_class_1': 6687391.0, 'tn_class_2': 6740065.0, 'tn_class_3': 6707724.0, 'tn_class_4': 6689298.0, 'tp': 115741.0, 'fp': 20792.0, 'fn': 39821.0, 'tn': 26824478.0}\n",
      "-----------------------------------------------------------------\n",
      "Metrics recon:\n",
      "{'dice_class_1': 0.823541522026062, 'dice_class_2': 0.39977914094924927, 'dice_class_3': 0.8402805924415588, 'dice_class_4': 0.7739779949188232, 'iou_class_1': 0.700017511844635, 'iou_class_2': 0.24982747435569763, 'iou_class_3': 0.7245551347732544, 'iou_class_4': 0.6312920451164246, 'precision_class_1': 0.8946693539619446, 'precision_class_2': 0.2894676625728607, 'precision_class_3': 0.8961020112037659, 'precision_class_4': 0.868422269821167, 'recall_class_1': 0.7628903388977051, 'recall_class_2': 0.6459342241287231, 'recall_class_3': 0.7910060286521912, 'recall_class_4': 0.6980611681938171, 'dice': 0.7093948125839233, 'iou': 0.5764230489730835, 'precision': 0.7371653318405151, 'recall': 0.7244729399681091}\n",
      "CM recon:\n",
      "{'tp_class_1': 43973.0, 'tp_class_2': 2534.0, 'tp_class_3': 30782.0, 'tp_class_4': 38452.0, 'fp_class_1': 5177.0, 'fp_class_2': 6220.0, 'fp_class_3': 3569.0, 'fp_class_4': 5826.0, 'fn_class_1': 13667.0, 'fn_class_2': 1389.0, 'fn_class_3': 8133.0, 'fn_class_4': 16632.0, 'tn_class_1': 6687391.0, 'tn_class_2': 6740065.0, 'tn_class_3': 6707724.0, 'tn_class_4': 6689298.0, 'tp': 115741.0, 'fp': 20792.0, 'fn': 39821.0, 'tn': 26824478.0}\n",
      "-----------------------------------------------------------------\n"
     ]
    }
   ],
   "source": [
    "check_2d_3d_scores(model, config, device)"
   ]
  }
 ],
 "metadata": {
  "kernelspec": {
   "display_name": "Python 3 (ipykernel)",
   "language": "python",
   "name": "python3"
  },
  "language_info": {
   "codemirror_mode": {
    "name": "ipython",
    "version": 3
   },
   "file_extension": ".py",
   "mimetype": "text/x-python",
   "name": "python",
   "nbconvert_exporter": "python",
   "pygments_lexer": "ipython3",
   "version": "3.9.21"
  }
 },
 "nbformat": 4,
 "nbformat_minor": 5
}
