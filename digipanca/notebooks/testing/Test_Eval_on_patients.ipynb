{
 "cells": [
  {
   "cell_type": "markdown",
   "id": "5c1d85f2-5746-4bb0-a025-69192558b730",
   "metadata": {},
   "source": [
    "# Import & config"
   ]
  },
  {
   "cell_type": "code",
   "execution_count": 1,
   "id": "22435e75-70e2-4250-888b-dfceaccd00ef",
   "metadata": {},
   "outputs": [],
   "source": [
    "%load_ext autoreload\n",
    "%autoreload 2\n",
    "import os\n",
    "os.chdir('C:\\\\Users\\\\Usuario\\\\TFG\\\\digipanca\\\\')"
   ]
  },
  {
   "cell_type": "code",
   "execution_count": 2,
   "id": "d7c1acf9-b23a-45cf-87ee-fa22169f11f7",
   "metadata": {},
   "outputs": [],
   "source": [
    "import torch\n",
    "from scripts.neweval import load_trained_model\n",
    "from src.utils.config import load_config\n",
    "import csv\n",
    "from tqdm.notebook import tqdm\n",
    "from src.data.dataset2d import PancreasDataset2D\n",
    "from src.data.dataset3d import PancreasDataset3D\n",
    "from src.metrics.sma import SegmentationMetricsAccumulator as SMA\n",
    "from src.training.setup.transforms_factory import get_transforms\n",
    "from src.training.setup.dataset_factory import get_dataset\n",
    "from torch.utils.data import DataLoader\n",
    "from src.utils.data import get_patients_in_processed_folder\n",
    "import torch.nn.functional as F"
   ]
  },
  {
   "cell_type": "markdown",
   "id": "5e24f8a6-8639-401b-96b7-81e17bfeeea4",
   "metadata": {},
   "source": [
    "# __Classes__"
   ]
  },
  {
   "cell_type": "markdown",
   "id": "d4494071-501f-4a59-9651-d8c868403286",
   "metadata": {},
   "source": [
    "## __Base class: Evaluator__"
   ]
  },
  {
   "cell_type": "code",
   "execution_count": 23,
   "id": "0b24df5d-9104-42b7-9a0e-203ed082c9c5",
   "metadata": {},
   "outputs": [],
   "source": [
    "class Evaluator:\n",
    "    def __init__(self, model, config, test_dir, device):\n",
    "        self.model = model.to(device)\n",
    "        self.config = config\n",
    "        self.device = device\n",
    "        self.test_dir = test_dir\n",
    "        self.transform = get_transforms(config)\n",
    "        self.sma_patient = SMA(include_background=False)\n",
    "        self.sma_global = SMA(include_background=False)\n",
    "\n",
    "    def _export_results_to_csv(self, output_folder, metrics, cm):\n",
    "        os.makedirs(output_folder, exist_ok=True)\n",
    "        def write_csv(file_path, headers, data_dict, fields):\n",
    "            with open(file_path, mode=\"w\", newline=\"\") as file:\n",
    "                writer = csv.writer(file)\n",
    "                writer.writerow(headers)\n",
    "                for pid, pdata in data_dict.items():\n",
    "                    writer.writerow([pid] + [pdata[field] for field in fields])\n",
    "    \n",
    "        # Export metrics\n",
    "        metrics_file = os.path.join(output_folder, 'evaluation_metrics.csv')\n",
    "        metric_headers = [\n",
    "            'patient_id',\n",
    "            'dice_class_1', 'dice_class_2', 'dice_class_3', 'dice_class_4', 'dice_mean'\n",
    "        ]\n",
    "        metric_fields = ['dice_class_1', 'dice_class_2', 'dice_class_3', 'dice_class_4', 'dice']\n",
    "        write_csv(metrics_file, metric_headers, metrics, metric_fields)\n",
    "    \n",
    "        # Export confusion matrix\n",
    "        cm_file = os.path.join(output_folder, 'evaluation_cm.csv')\n",
    "        cm_headers = [\n",
    "            'patient_id',\n",
    "            'tp_class_1', 'tp_class_2', 'tp_class_3', 'tp_class_4', 'tp',\n",
    "            'fp_class_1', 'fp_class_2', 'fp_class_3', 'fp_class_4', 'fp',\n",
    "            'fn_class_1', 'fn_class_2', 'fn_class_3', 'fn_class_4', 'fn'\n",
    "        ]\n",
    "        cm_fields = [\n",
    "            'tp_class_1', 'tp_class_2', 'tp_class_3', 'tp_class_4', 'tp',\n",
    "            'fp_class_1', 'fp_class_2', 'fp_class_3', 'fp_class_4', 'fp',\n",
    "            'fn_class_1', 'fn_class_2', 'fn_class_3', 'fn_class_4', 'fn'\n",
    "        ]\n",
    "        write_csv(cm_file, cm_headers, cm, cm_fields)\n",
    "\n",
    "        print(f\"Results saved in: {output_folder}\")\n",
    "\n",
    "    def evaluate(self, patient_ids=None, csv_folder=None):\n",
    "\n",
    "        if patient_ids is None:\n",
    "            patient_ids = get_patients_in_processed_folder(self.test_dir)\n",
    "        \n",
    "        loop = tqdm(\n",
    "            patient_ids,\n",
    "            colour=\"red\",\n",
    "            leave=True\n",
    "        )\n",
    "        loop.set_description(f\"Evaluating patients\")\n",
    "\n",
    "        all_metrics, all_cms = {}, {}\n",
    "        \n",
    "        for patient_id in loop:\n",
    "            p_metrics, p_cm = self.evaluate_patient(patient_id)\n",
    "            all_metrics[patient_id] = p_metrics\n",
    "            all_cms[patient_id] = p_cm\n",
    "\n",
    "        # Global results\n",
    "        all_metrics['global'] = self.sma_global.aggregate()\n",
    "        all_cms['global'] = self.sma_global.aggregate_global_cm()\n",
    "\n",
    "        # Save data on CSV file if specified\n",
    "        if csv_folder is not None:\n",
    "            self._export_results_to_csv(csv_folder, all_metrics, all_cms)\n",
    "\n",
    "        return all_metrics, all_cms\n",
    "\n",
    "    def evaluate_patient(self, patient_id):\n",
    "        raise NotImplementedError(\"Implemented in subclasses\")"
   ]
  },
  {
   "cell_type": "markdown",
   "id": "379b17db-f000-4360-a59b-07102c61e26a",
   "metadata": {},
   "source": [
    "## __Subclasses: 2D and 3D__"
   ]
  },
  {
   "cell_type": "code",
   "execution_count": 24,
   "id": "db6ede11-bee4-4834-a8a7-8e5cd711a098",
   "metadata": {},
   "outputs": [],
   "source": [
    "class Evaluator2D(Evaluator):\n",
    "    def evaluate_patient(self, patient_id):\n",
    "        self.model.eval()\n",
    "\n",
    "        p_dataset = PancreasDataset2D(\n",
    "            data_dir=self.test_dir,\n",
    "            transform=self.transform,\n",
    "            load_into_memory=False,\n",
    "            patient_ids=[patient_id],\n",
    "            verbose=False\n",
    "        );\n",
    "\n",
    "        p_dl = DataLoader(\n",
    "            p_dataset,\n",
    "            batch_size=self.config['data']['batch_size'],\n",
    "            shuffle=False,\n",
    "            num_workers=self.config['data']['num_workers'],\n",
    "            pin_memory=True\n",
    "        )\n",
    "\n",
    "        patient_loop = tqdm(\n",
    "            p_dl,\n",
    "            leave=False,\n",
    "            colour=\"blue\"\n",
    "        )\n",
    "        patient_loop.set_description(f\"Patient {patient_id}\")\n",
    "\n",
    "        all_preds = []\n",
    "        all_gts = []\n",
    "\n",
    "        with torch.no_grad():\n",
    "            for images, masks, _ in patient_loop:\n",
    "                images, masks = images.to(self.device), masks.to(self.device)\n",
    "\n",
    "                outputs = self.model(images)\n",
    "                \n",
    "                if isinstance(outputs, dict):\n",
    "                    outputs = outputs[\"out\"]\n",
    "\n",
    "                all_preds.append(outputs)\n",
    "                all_gts.append(masks)\n",
    "\n",
    "        # Concatenate predictions and ground truths (from 2D slices to a single 3D volume)\n",
    "        all_preds = torch.cat(all_preds, dim=0).permute(1, 0, 2, 3).unsqueeze(0)\n",
    "        all_gts = torch.cat(all_gts, dim=0).unsqueeze(0)\n",
    "\n",
    "        # Update metrics\n",
    "        _ = self.sma_patient.update(all_preds, all_gts) # Patient accumulator\n",
    "        _ = self.sma_global.update(all_preds, all_gts)  # Global accumulator\n",
    "\n",
    "        # Get aggregated scores and confusion matrix\n",
    "        p_metrics = self.sma_patient.aggregate()\n",
    "        p_cm = self.sma_patient.aggregate_global_cm()\n",
    "        \n",
    "        self.sma_patient.reset() # Reset patient accumulator\n",
    "\n",
    "        return p_metrics, p_cm"
   ]
  },
  {
   "cell_type": "code",
   "execution_count": 25,
   "id": "0366e1f0-774d-43a5-9ef9-fe972691c042",
   "metadata": {},
   "outputs": [],
   "source": [
    "class Evaluator3D(Evaluator):\n",
    "    def evaluate_patient(self, patient_id):\n",
    "        self.model.eval()\n",
    "\n",
    "        p_dataset = PancreasDataset3D(\n",
    "            data_dir=self.test_dir,\n",
    "            transform=self.transform,\n",
    "            load_into_memory=False,\n",
    "            patient_ids=[patient_id],\n",
    "            verbose=False\n",
    "        );\n",
    "\n",
    "        p_dl = DataLoader(\n",
    "            p_dataset,\n",
    "            batch_size=self.config['data']['batch_size'],\n",
    "            shuffle=False,\n",
    "            num_workers=self.config['data']['num_workers'],\n",
    "            pin_memory=True\n",
    "        )\n",
    "\n",
    "        patient_loop = tqdm(\n",
    "            p_dl,\n",
    "            leave=False,\n",
    "            colour=\"blue\"\n",
    "        )\n",
    "        patient_loop.set_description(f\"Patient {patient_id}\")\n",
    "\n",
    "        all_preds = []\n",
    "        all_slices = p_dataset.get_patient_subvolumes_slices(patient_id)\n",
    "        D = all_slices[-1][1] + 1 # add 1 to the total number of slices\n",
    "\n",
    "        with torch.no_grad():\n",
    "            for images, masks, _ in patient_loop:\n",
    "                images, masks = images.to(self.device), masks.to(self.device)\n",
    "\n",
    "                outputs = self.model(images)\n",
    "                \n",
    "                if isinstance(outputs, dict):\n",
    "                    outputs = outputs[\"out\"]\n",
    "\n",
    "                all_preds.append(F.softmax(outputs, dim=1))\n",
    "\n",
    "        # Post-process: get a single 3D volume for the patient\n",
    "        all_preds = torch.cat(all_preds, dim=0)\n",
    "        print(all_preds.shape)\n",
    "        C, _, H, W = all_preds.shape[1:]\n",
    "        sum_probs = torch.zeros((C, D, H, W), dtype=torch.float64)\n",
    "        count = torch.zeros((D, H, W), dtype=torch.int8)\n",
    "\n",
    "        for i, (start, end) in enumerate(all_slices):\n",
    "            sum_probs[:, start:end+1, :, :] += all_preds[i]\n",
    "            count[start:end+1, :, :] += 1\n",
    "\n",
    "        avg_probs = sum_probs / count.unsqueeze(0)\n",
    "        pred_vol = avg_probs.unsqueeze(0) # B, C, D, H, W\n",
    "\n",
    "        # Get mask reconstruction\n",
    "        _, recon_mask = p_dataset.get_patient_volume(patient_id)\n",
    "\n",
    "        # Update metrics\n",
    "        _ = self.sma_patient.update(pred_vol, recon_mask) # Patient accumulator\n",
    "        _ = self.sma_global.update(pred_vol, recon_mask)  # Global accumulator\n",
    "\n",
    "        # Get aggregated scores and confusion matrix\n",
    "        p_metrics = self.sma_patient.aggregate()\n",
    "        p_cm = self.sma_patient.aggregate_global_cm()\n",
    "        \n",
    "        self.sma_patient.reset() # Reset patient accumulator\n",
    "\n",
    "        return p_metrics, p_cm"
   ]
  },
  {
   "cell_type": "markdown",
   "id": "dd25c18c-683b-4f93-ab1f-cd0ad9bf1f94",
   "metadata": {},
   "source": [
    "# __Testing__"
   ]
  },
  {
   "cell_type": "markdown",
   "id": "cd4e49f9-3dc4-4f09-af4e-52da55c749a0",
   "metadata": {},
   "source": [
    "## __2D__"
   ]
  },
  {
   "cell_type": "code",
   "execution_count": 4,
   "id": "3515fe39-df9f-45e7-8f36-92843cd13cc8",
   "metadata": {},
   "outputs": [],
   "source": [
    "config = load_config('configs/experiments/deep_aug_5.yaml')\n",
    "model_path = 'experiments/deep_aug/deep_aug_20250415_215856/checkpoints/best_model_epoch60.pth'\n",
    "model = load_trained_model(config, model_path)\n",
    "config_device = config['training']['device']\n",
    "device = torch.device(config_device if torch.cuda.is_available() else \"cpu\")\n",
    "test_dir = 'data/processed/2d/train/'\n",
    "patient_ids = [\"rtum79\", \"rtum1\", \"rtum33\", \"rtum3\", \"rtum20\", \"rtum70\", \"rtum19\", \"rtum26\", \"rtum13\", \"rtum71\", \"rtum87\", \"rtum69\", \"rtum58\", \"rtum82\", \"rtum86\", \"rtum68\", \"rtum4\", \"rtum81\"]"
   ]
  },
  {
   "cell_type": "code",
   "execution_count": 26,
   "id": "c0e228ab-fd16-4f32-b7c2-302c6f6af9a7",
   "metadata": {},
   "outputs": [],
   "source": [
    "evaluator = Evaluator2D(model, config, test_dir, device)"
   ]
  },
  {
   "cell_type": "code",
   "execution_count": 16,
   "id": "80b6c8cd-4ae8-4f1c-a5d7-65671707d633",
   "metadata": {},
   "outputs": [
    {
     "data": {
      "application/vnd.jupyter.widget-view+json": {
       "model_id": "3ca510f3df81464193c6c3f4cfce3763",
       "version_major": 2,
       "version_minor": 0
      },
      "text/plain": [
       "  0%|          | 0/23 [00:00<?, ?it/s]"
      ]
     },
     "metadata": {},
     "output_type": "display_data"
    }
   ],
   "source": [
    "metrics_2d, cm_2d = evaluator.evaluate_patient('rtum1')"
   ]
  },
  {
   "cell_type": "code",
   "execution_count": 10,
   "id": "ff126f0c-9deb-4028-bba1-81448ecca557",
   "metadata": {},
   "outputs": [
    {
     "name": "stdout",
     "output_type": "stream",
     "text": [
      "{'dice_class_1': 0.6346235275268555, 'dice_class_2': 0.0, 'dice_class_3': 0.7477684617042542, 'dice_class_4': 0.73532634973526, 'iou_class_1': 0.4647974371910095, 'iou_class_2': 0.0, 'iou_class_3': 0.5971487164497375, 'iou_class_4': 0.5814356207847595, 'precision_class_1': 0.5534848570823669, 'precision_class_2': 0.0, 'precision_class_3': 0.6505431532859802, 'precision_class_4': 0.7012190818786621, 'recall_class_1': 0.7436378598213196, 'recall_class_2': 0.0, 'recall_class_3': 0.8791614174842834, 'recall_class_4': 0.7729211449623108, 'dice': 0.52942955493927, 'iou': 0.41084545850753784, 'precision': 0.4763117730617523, 'recall': 0.5989301204681396}\n",
      "{'tp_class_1': 21799.0, 'tp_class_2': 0.0, 'tp_class_3': 36232.0, 'tp_class_4': 40954.0, 'fp_class_1': 17586.0, 'fp_class_2': 69.0, 'fp_class_3': 19463.0, 'fp_class_4': 17450.0, 'fn_class_1': 7515.0, 'fn_class_2': 3250.0, 'fn_class_3': 4980.0, 'fn_class_4': 12032.0, 'tn_class_1': 5916876.0, 'tn_class_2': 5960457.0, 'tn_class_3': 5903101.0, 'tn_class_4': 5893340.0, 'tp': 98985.0, 'fp': 54568.0, 'fn': 27777.0, 'tn': 23673774.0}\n"
     ]
    }
   ],
   "source": [
    "print(metrics_2d)\n",
    "print(cm_2d)"
   ]
  },
  {
   "cell_type": "code",
   "execution_count": 27,
   "id": "84606241-2072-4917-a51f-13d1f28672fc",
   "metadata": {},
   "outputs": [
    {
     "data": {
      "application/vnd.jupyter.widget-view+json": {
       "model_id": "b96bfa72d71c418aab86dc42ddef80db",
       "version_major": 2,
       "version_minor": 0
      },
      "text/plain": [
       "  0%|          | 0/18 [00:00<?, ?it/s]"
      ]
     },
     "metadata": {},
     "output_type": "display_data"
    },
    {
     "data": {
      "application/vnd.jupyter.widget-view+json": {
       "model_id": "4240e841deb448a0bcb441e765dd915d",
       "version_major": 2,
       "version_minor": 0
      },
      "text/plain": [
       "  0%|          | 0/26 [00:00<?, ?it/s]"
      ]
     },
     "metadata": {},
     "output_type": "display_data"
    },
    {
     "data": {
      "application/vnd.jupyter.widget-view+json": {
       "model_id": "9d74def223d34a17ba03cdb1303822b0",
       "version_major": 2,
       "version_minor": 0
      },
      "text/plain": [
       "  0%|          | 0/23 [00:00<?, ?it/s]"
      ]
     },
     "metadata": {},
     "output_type": "display_data"
    },
    {
     "data": {
      "application/vnd.jupyter.widget-view+json": {
       "model_id": "75df9a703944405d901bd48e15ba7093",
       "version_major": 2,
       "version_minor": 0
      },
      "text/plain": [
       "  0%|          | 0/27 [00:00<?, ?it/s]"
      ]
     },
     "metadata": {},
     "output_type": "display_data"
    },
    {
     "data": {
      "application/vnd.jupyter.widget-view+json": {
       "model_id": "0013f8350d28487ba24fbb696a84ef22",
       "version_major": 2,
       "version_minor": 0
      },
      "text/plain": [
       "  0%|          | 0/28 [00:00<?, ?it/s]"
      ]
     },
     "metadata": {},
     "output_type": "display_data"
    },
    {
     "data": {
      "application/vnd.jupyter.widget-view+json": {
       "model_id": "b6423035db2147f9a14e9908f4907e7a",
       "version_major": 2,
       "version_minor": 0
      },
      "text/plain": [
       "  0%|          | 0/11 [00:00<?, ?it/s]"
      ]
     },
     "metadata": {},
     "output_type": "display_data"
    },
    {
     "data": {
      "application/vnd.jupyter.widget-view+json": {
       "model_id": "4f2c643a26734955af27a5fbaa731141",
       "version_major": 2,
       "version_minor": 0
      },
      "text/plain": [
       "  0%|          | 0/27 [00:00<?, ?it/s]"
      ]
     },
     "metadata": {},
     "output_type": "display_data"
    },
    {
     "data": {
      "application/vnd.jupyter.widget-view+json": {
       "model_id": "35f583dad663423c95637ba39530e8b2",
       "version_major": 2,
       "version_minor": 0
      },
      "text/plain": [
       "  0%|          | 0/23 [00:00<?, ?it/s]"
      ]
     },
     "metadata": {},
     "output_type": "display_data"
    },
    {
     "data": {
      "application/vnd.jupyter.widget-view+json": {
       "model_id": "a89356b81ff84092adbfe4619f473805",
       "version_major": 2,
       "version_minor": 0
      },
      "text/plain": [
       "  0%|          | 0/29 [00:00<?, ?it/s]"
      ]
     },
     "metadata": {},
     "output_type": "display_data"
    },
    {
     "data": {
      "application/vnd.jupyter.widget-view+json": {
       "model_id": "a95de0fee91f490592ea5161edf89340",
       "version_major": 2,
       "version_minor": 0
      },
      "text/plain": [
       "  0%|          | 0/17 [00:00<?, ?it/s]"
      ]
     },
     "metadata": {},
     "output_type": "display_data"
    },
    {
     "data": {
      "application/vnd.jupyter.widget-view+json": {
       "model_id": "29c786f4284049a2901fc501753f802c",
       "version_major": 2,
       "version_minor": 0
      },
      "text/plain": [
       "  0%|          | 0/31 [00:00<?, ?it/s]"
      ]
     },
     "metadata": {},
     "output_type": "display_data"
    },
    {
     "data": {
      "application/vnd.jupyter.widget-view+json": {
       "model_id": "4455e3662ff04f10a2c1692bfacc56f0",
       "version_major": 2,
       "version_minor": 0
      },
      "text/plain": [
       "  0%|          | 0/30 [00:00<?, ?it/s]"
      ]
     },
     "metadata": {},
     "output_type": "display_data"
    },
    {
     "data": {
      "application/vnd.jupyter.widget-view+json": {
       "model_id": "e2b6cf67db514f619f89d2a20e640726",
       "version_major": 2,
       "version_minor": 0
      },
      "text/plain": [
       "  0%|          | 0/29 [00:00<?, ?it/s]"
      ]
     },
     "metadata": {},
     "output_type": "display_data"
    },
    {
     "data": {
      "application/vnd.jupyter.widget-view+json": {
       "model_id": "f9a979fb134f4e0b8e8bd85df1accbda",
       "version_major": 2,
       "version_minor": 0
      },
      "text/plain": [
       "  0%|          | 0/25 [00:00<?, ?it/s]"
      ]
     },
     "metadata": {},
     "output_type": "display_data"
    },
    {
     "data": {
      "application/vnd.jupyter.widget-view+json": {
       "model_id": "84171aa332244e71af0b8e8d7bb013f8",
       "version_major": 2,
       "version_minor": 0
      },
      "text/plain": [
       "  0%|          | 0/27 [00:00<?, ?it/s]"
      ]
     },
     "metadata": {},
     "output_type": "display_data"
    },
    {
     "data": {
      "application/vnd.jupyter.widget-view+json": {
       "model_id": "ac66312e3ed6419bb0518af6b377794d",
       "version_major": 2,
       "version_minor": 0
      },
      "text/plain": [
       "  0%|          | 0/34 [00:00<?, ?it/s]"
      ]
     },
     "metadata": {},
     "output_type": "display_data"
    },
    {
     "data": {
      "application/vnd.jupyter.widget-view+json": {
       "model_id": "6f904de55f8e4e309bc1963ed933c198",
       "version_major": 2,
       "version_minor": 0
      },
      "text/plain": [
       "  0%|          | 0/26 [00:00<?, ?it/s]"
      ]
     },
     "metadata": {},
     "output_type": "display_data"
    },
    {
     "data": {
      "application/vnd.jupyter.widget-view+json": {
       "model_id": "1a26cbea5f6f41388b26c1196315b4fa",
       "version_major": 2,
       "version_minor": 0
      },
      "text/plain": [
       "  0%|          | 0/15 [00:00<?, ?it/s]"
      ]
     },
     "metadata": {},
     "output_type": "display_data"
    },
    {
     "data": {
      "application/vnd.jupyter.widget-view+json": {
       "model_id": "64fe72ecc7614607a7b8839876b85e96",
       "version_major": 2,
       "version_minor": 0
      },
      "text/plain": [
       "  0%|          | 0/35 [00:00<?, ?it/s]"
      ]
     },
     "metadata": {},
     "output_type": "display_data"
    },
    {
     "name": "stdout",
     "output_type": "stream",
     "text": [
      "Results saved in: test_evaluator\n"
     ]
    }
   ],
   "source": [
    "export_folder = 'test_evaluator'\n",
    "all_metrics_2d, all_cms_2d = evaluator.evaluate(patient_ids, export_folder)"
   ]
  },
  {
   "cell_type": "code",
   "execution_count": 40,
   "id": "6c011864-9229-4006-b4f7-80405c4afaa3",
   "metadata": {
    "scrolled": true
   },
   "outputs": [
    {
     "name": "stdout",
     "output_type": "stream",
     "text": [
      "{'rtum79': {'dice_class_1': 0.823541522026062, 'dice_class_2': 0.39977914094924927, 'dice_class_3': 0.8402805924415588, 'dice_class_4': 0.7739779949188232, 'iou_class_1': 0.700017511844635, 'iou_class_2': 0.24982747435569763, 'iou_class_3': 0.7245551347732544, 'iou_class_4': 0.6312920451164246, 'precision_class_1': 0.8946693539619446, 'precision_class_2': 0.2894676625728607, 'precision_class_3': 0.8961020112037659, 'precision_class_4': 0.868422269821167, 'recall_class_1': 0.7628903388977051, 'recall_class_2': 0.6459342241287231, 'recall_class_3': 0.7910060286521912, 'recall_class_4': 0.6980611681938171, 'dice': 0.7093948125839233, 'iou': 0.5764230489730835, 'precision': 0.7371653318405151, 'recall': 0.7244729399681091}, 'rtum1': {'dice_class_1': 0.6346235275268555, 'dice_class_2': 0.0, 'dice_class_3': 0.7477684617042542, 'dice_class_4': 0.73532634973526, 'iou_class_1': 0.4647974371910095, 'iou_class_2': 0.0, 'iou_class_3': 0.5971487164497375, 'iou_class_4': 0.5814356207847595, 'precision_class_1': 0.5534848570823669, 'precision_class_2': 0.0, 'precision_class_3': 0.6505431532859802, 'precision_class_4': 0.7012190818786621, 'recall_class_1': 0.7436378598213196, 'recall_class_2': 0.0, 'recall_class_3': 0.8791614174842834, 'recall_class_4': 0.7729211449623108, 'dice': 0.52942955493927, 'iou': 0.41084545850753784, 'precision': 0.4763117730617523, 'recall': 0.5989301204681396}, 'rtum33': {'dice_class_1': 0.7226068377494812, 'dice_class_2': 0.7410714030265808, 'dice_class_3': 0.7933169603347778, 'dice_class_4': 0.856797456741333, 'iou_class_1': 0.5656886100769043, 'iou_class_2': 0.588652491569519, 'iou_class_3': 0.6574360728263855, 'iou_class_4': 0.7494712471961975, 'precision_class_1': 0.6827738881111145, 'precision_class_2': 0.6802524924278259, 'precision_class_3': 0.7965992093086243, 'precision_class_4': 0.8467580676078796, 'recall_class_1': 0.7673754096031189, 'recall_class_2': 0.8138332962989807, 'recall_class_3': 0.7900616526603699, 'recall_class_4': 0.8670777082443237, 'dice': 0.7784481644630432, 'iou': 0.6403120756149292, 'precision': 0.7515959143638611, 'recall': 0.8095870018005371}, 'rtum3': {'dice_class_1': 0.8011156916618347, 'dice_class_2': 0.5882501602172852, 'dice_class_3': 0.8436755537986755, 'dice_class_4': 0.7234640717506409, 'iou_class_1': 0.668217658996582, 'iou_class_2': 0.4166816174983978, 'iou_class_3': 0.7296184301376343, 'iou_class_4': 0.5667400360107422, 'precision_class_1': 0.7603139877319336, 'precision_class_2': 0.6045936346054077, 'precision_class_3': 0.8238307237625122, 'precision_class_4': 0.7681505084037781, 'recall_class_1': 0.8465448617935181, 'recall_class_2': 0.5727670788764954, 'recall_class_3': 0.864500105381012, 'recall_class_4': 0.6836909651756287, 'dice': 0.7391263842582703, 'iou': 0.5953144431114197, 'precision': 0.7392222285270691, 'recall': 0.7418757677078247}, 'rtum20': {'dice_class_1': 0.6590439677238464, 'dice_class_2': 0.420724093914032, 'dice_class_3': 0.8255884051322937, 'dice_class_4': 0.8223309516906738, 'iou_class_1': 0.4914731979370117, 'iou_class_2': 0.2664031684398651, 'iou_class_3': 0.7029804587364197, 'iou_class_4': 0.6982700228691101, 'precision_class_1': 0.5330362319946289, 'precision_class_2': 0.781902551651001, 'precision_class_3': 0.833174467086792, 'precision_class_4': 0.8035312294960022, 'recall_class_1': 0.863070547580719, 'recall_class_2': 0.2877882122993469, 'recall_class_3': 0.8181392550468445, 'recall_class_4': 0.8420314788818359, 'dice': 0.6819218397140503, 'iou': 0.5397817492485046, 'precision': 0.7379111051559448, 'recall': 0.7027573585510254}, 'rtum70': {'dice_class_1': 0.5661339163780212, 'dice_class_2': 0.0, 'dice_class_3': 0.8073813915252686, 'dice_class_4': 0.7639970779418945, 'iou_class_1': 0.3948304355144501, 'iou_class_2': 0.0, 'iou_class_3': 0.676982045173645, 'iou_class_4': 0.6181191205978394, 'precision_class_1': 0.5033144950866699, 'precision_class_2': 0.0, 'precision_class_3': 0.8070146441459656, 'precision_class_4': 0.8702664375305176, 'recall_class_1': 0.6468709111213684, 'recall_class_2': 0.0, 'recall_class_3': 0.8077484965324402, 'recall_class_4': 0.6808567643165588, 'dice': 0.5343781113624573, 'iou': 0.4224829077720642, 'precision': 0.5451489090919495, 'recall': 0.5338690280914307}, 'rtum19': {'dice_class_1': 0.6933110952377319, 'dice_class_2': 0.0, 'dice_class_3': 0.7512584328651428, 'dice_class_4': 0.7544236183166504, 'iou_class_1': 0.5305862426757812, 'iou_class_2': 0.0, 'iou_class_3': 0.601612389087677, 'iou_class_4': 0.6056823134422302, 'precision_class_1': 0.6062652468681335, 'precision_class_2': 0.0, 'precision_class_3': 0.730624258518219, 'precision_class_4': 0.6931567788124084, 'recall_class_1': 0.8095430731773376, 'recall_class_2': 0.0, 'recall_class_3': 0.7730919122695923, 'recall_class_4': 0.8275710940361023, 'dice': 0.5497483015060425, 'iou': 0.4344702363014221, 'precision': 0.507511556148529, 'recall': 0.6025515198707581}, 'rtum26': {'dice_class_1': 0.8797109723091125, 'dice_class_2': 0.8761690258979797, 'dice_class_3': 0.8856276869773865, 'dice_class_4': 0.8744986057281494, 'iou_class_1': 0.7852535843849182, 'iou_class_2': 0.7796270847320557, 'iou_class_3': 0.7947322726249695, 'iou_class_4': 0.7769858241081238, 'precision_class_1': 0.8663160800933838, 'precision_class_2': 0.847794234752655, 'precision_class_3': 0.9190083146095276, 'precision_class_4': 0.8615471124649048, 'recall_class_1': 0.8935266137123108, 'recall_class_2': 0.9065089821815491, 'recall_class_3': 0.8545869588851929, 'recall_class_4': 0.8878454566001892, 'dice': 0.8790015578269958, 'iou': 0.784149706363678, 'precision': 0.8736664056777954, 'recall': 0.8856170177459717}, 'rtum13': {'dice_class_1': 0.8589984178543091, 'dice_class_2': 0.0, 'dice_class_3': 0.8213997483253479, 'dice_class_4': 0.8076246976852417, 'iou_class_1': 0.7528459429740906, 'iou_class_2': 0.0, 'iou_class_3': 0.6969282031059265, 'iou_class_4': 0.6773242950439453, 'precision_class_1': 0.8364050388336182, 'precision_class_2': 0.0, 'precision_class_3': 0.7953712940216064, 'precision_class_4': 0.8190841674804688, 'recall_class_1': 0.8828462362289429, 'recall_class_2': 0.0, 'recall_class_3': 0.8491894006729126, 'recall_class_4': 0.7964815497398376, 'dice': 0.6220057010650635, 'iou': 0.531774640083313, 'precision': 0.6127151250839233, 'recall': 0.6321293115615845}, 'rtum71': {'dice_class_1': 0.8004259467124939, 'dice_class_2': 0.0, 'dice_class_3': 0.8434267640113831, 'dice_class_4': 0.7481409907341003, 'iou_class_1': 0.6672584414482117, 'iou_class_2': 0.0, 'iou_class_3': 0.7292463183403015, 'iou_class_4': 0.5976240038871765, 'precision_class_1': 0.7777787446975708, 'precision_class_2': 0.0, 'precision_class_3': 0.8497057557106018, 'precision_class_4': 0.7340970039367676, 'recall_class_1': 0.8244315385818481, 'recall_class_2': 0.0, 'recall_class_3': 0.8372399210929871, 'recall_class_4': 0.7627328634262085, 'dice': 0.5979984402656555, 'iou': 0.49853217601776123, 'precision': 0.5903953909873962, 'recall': 0.6061010360717773}, 'rtum87': {'dice_class_1': 0.7669036984443665, 'dice_class_2': 0.0, 'dice_class_3': 0.8061212301254272, 'dice_class_4': 0.8165313601493835, 'iou_class_1': 0.6219333410263062, 'iou_class_2': 0.0, 'iou_class_3': 0.6752119064331055, 'iou_class_4': 0.6899476051330566, 'precision_class_1': 0.7888330817222595, 'precision_class_2': 0.0, 'precision_class_3': 0.7858335375785828, 'precision_class_4': 0.7616207003593445, 'recall_class_1': 0.7461605668067932, 'recall_class_2': 0.0, 'recall_class_3': 0.827484130859375, 'recall_class_4': 0.8799750208854675, 'dice': 0.5973891019821167, 'iou': 0.49677321314811707, 'precision': 0.5840718150138855, 'recall': 0.6134049296379089}, 'rtum69': {'dice_class_1': 0.8496410250663757, 'dice_class_2': 0.16282224655151367, 'dice_class_3': 0.8489755988121033, 'dice_class_4': 0.7807633876800537, 'iou_class_1': 0.7385877370834351, 'iou_class_2': 0.08862629532814026, 'iou_class_3': 0.7375826239585876, 'iou_class_4': 0.6403706669807434, 'precision_class_1': 0.8608015775680542, 'precision_class_2': 0.1977401077747345, 'precision_class_3': 0.8651241064071655, 'precision_class_4': 0.7945088148117065, 'recall_class_1': 0.8387660980224609, 'recall_class_2': 0.13838550448417664, 'recall_class_3': 0.8334189057350159, 'recall_class_4': 0.767485499382019, 'dice': 0.660550594329834, 'iou': 0.551291823387146, 'precision': 0.6795436143875122, 'recall': 0.6445139646530151}, 'rtum58': {'dice_class_1': 0.5212609767913818, 'dice_class_2': 0.27772119641304016, 'dice_class_3': 0.8670076727867126, 'dice_class_4': 0.8285447955131531, 'iou_class_1': 0.3525037169456482, 'iou_class_2': 0.16125215590000153, 'iou_class_3': 0.765237033367157, 'iou_class_4': 0.707278311252594, 'precision_class_1': 0.40935856103897095, 'precision_class_2': 0.8997207283973694, 'precision_class_3': 0.8480325937271118, 'precision_class_4': 0.7845250368118286, 'recall_class_1': 0.717358410358429, 'recall_class_2': 0.16420330107212067, 'recall_class_3': 0.8868513703346252, 'recall_class_4': 0.8777981400489807, 'dice': 0.6236336827278137, 'iou': 0.4965677857398987, 'precision': 0.7354092597961426, 'recall': 0.6615527868270874}, 'rtum82': {'dice_class_1': 0.7925522923469543, 'dice_class_2': 0.21906809508800507, 'dice_class_3': 0.8377704620361328, 'dice_class_4': 0.8054604530334473, 'iou_class_1': 0.6563864350318909, 'iou_class_2': 0.12300756573677063, 'iou_class_3': 0.7208304405212402, 'iou_class_4': 0.6742852926254272, 'precision_class_1': 0.695583164691925, 'precision_class_2': 0.9813744425773621, 'precision_class_3': 0.8319370746612549, 'precision_class_4': 0.7530582547187805, 'recall_class_1': 0.9209373593330383, 'recall_class_2': 0.12329541146755219, 'recall_class_3': 0.8436862230300903, 'recall_class_4': 0.8657010197639465, 'dice': 0.6637128591537476, 'iou': 0.5436274409294128, 'precision': 0.8154882192611694, 'recall': 0.6884049773216248}, 'rtum86': {'dice_class_1': 0.7342005372047424, 'dice_class_2': 0.37074920535087585, 'dice_class_3': 0.7842292189598083, 'dice_class_4': 0.7452569603919983, 'iou_class_1': 0.5800290703773499, 'iou_class_2': 0.22755810618400574, 'iou_class_3': 0.6450468897819519, 'iou_class_4': 0.5939518809318542, 'precision_class_1': 0.8334609866142273, 'precision_class_2': 0.4993956983089447, 'precision_class_3': 0.788205623626709, 'precision_class_4': 0.644583523273468, 'recall_class_1': 0.6560667157173157, 'recall_class_2': 0.29480594396591187, 'recall_class_3': 0.7802926301956177, 'recall_class_4': 0.8831980228424072, 'dice': 0.6586089730262756, 'iou': 0.5116465091705322, 'precision': 0.6914114356040955, 'recall': 0.6535907983779907}, 'rtum68': {'dice_class_1': 0.7749638557434082, 'dice_class_2': 0.3725910186767578, 'dice_class_3': 0.823479413986206, 'dice_class_4': 0.7441948652267456, 'iou_class_1': 0.6326048374176025, 'iou_class_2': 0.22894737124443054, 'iou_class_3': 0.6999277472496033, 'iou_class_4': 0.5926037430763245, 'precision_class_1': 0.8209710717201233, 'precision_class_2': 0.32768362760543823, 'precision_class_3': 0.8074144124984741, 'precision_class_4': 0.6665264964103699, 'recall_class_1': 0.7338394522666931, 'recall_class_2': 0.43176180124282837, 'recall_class_3': 0.8401966094970703, 'recall_class_4': 0.8423516154289246, 'dice': 0.678807258605957, 'iou': 0.5385209321975708, 'precision': 0.6556488871574402, 'recall': 0.7120373845100403}, 'rtum4': {'dice_class_1': 0.7714297771453857, 'dice_class_2': 0.5450737476348877, 'dice_class_3': 0.8485115766525269, 'dice_class_4': 0.7746923565864563, 'iou_class_1': 0.6279085278511047, 'iou_class_2': 0.3746401369571686, 'iou_class_3': 0.7368824481964111, 'iou_class_4': 0.6322431564331055, 'precision_class_1': 0.793231725692749, 'precision_class_2': 0.530479907989502, 'precision_class_3': 0.8315759301185608, 'precision_class_4': 0.7293809056282043, 'recall_class_1': 0.7507941722869873, 'recall_class_2': 0.5604933500289917, 'recall_class_3': 0.8661514520645142, 'recall_class_4': 0.8260065317153931, 'dice': 0.7349268794059753, 'iou': 0.5929185748100281, 'precision': 0.7211670875549316, 'recall': 0.750861406326294}, 'rtum81': {'dice_class_1': 0.546103835105896, 'dice_class_2': 0.5874536633491516, 'dice_class_3': 0.7934312224388123, 'dice_class_4': 0.7052904367446899, 'iou_class_1': 0.3756140470504761, 'iou_class_2': 0.41588273644447327, 'iou_class_3': 0.6575930118560791, 'iou_class_4': 0.5447480082511902, 'precision_class_1': 0.8620513081550598, 'precision_class_2': 0.698072075843811, 'precision_class_3': 0.7500119805335999, 'precision_class_4': 0.8810813426971436, 'recall_class_1': 0.3996349573135376, 'recall_class_2': 0.507097601890564, 'recall_class_3': 0.8421865105628967, 'recall_class_4': 0.5879785418510437, 'dice': 0.6580698490142822, 'iou': 0.49845945835113525, 'precision': 0.7978041768074036, 'recall': 0.5842244029045105}}\n"
     ]
    }
   ],
   "source": [
    "print(all_metrics_2d)"
   ]
  },
  {
   "cell_type": "markdown",
   "id": "a6fc901f-5ce2-421c-ad01-efd887170055",
   "metadata": {},
   "source": [
    "## __Process output__"
   ]
  },
  {
   "cell_type": "code",
   "execution_count": 46,
   "id": "2af1784a-2434-4552-ab81-1777ed2b0db3",
   "metadata": {},
   "outputs": [],
   "source": [
    "def mostrar_dice_pacientes(resultados):\n",
    "    encabezado = f\"{'Paciente':<10} {'Class 1':>10} {'Class 2':>10} {'Class 3':>10} {'Class 4':>10} {'Mean Dice':>12}\"\n",
    "    print(encabezado)\n",
    "    print(\"-\" * len(encabezado))\n",
    "    for paciente, valores in resultados.items():\n",
    "        c1 = valores['dice_class_1']\n",
    "        c2 = valores['dice_class_2']\n",
    "        c3 = valores['dice_class_3']\n",
    "        c4 = valores['dice_class_4']\n",
    "        mean_dice = valores['dice']\n",
    "        print(f\"{paciente:<10} {c1:10.4f} {c2:10.4f} {c3:10.4f} {c4:10.4f} {mean_dice:12.4f}\")\n",
    "\n",
    "def mostrar_estadisticas(resultados):\n",
    "    import math\n",
    "    claves = ['dice_class_1', 'dice_class_2', 'dice_class_3', 'dice_class_4', 'dice']\n",
    "    datos = {clave: [] for clave in claves}\n",
    "\n",
    "    for valores in resultados.values():\n",
    "        for clave in claves:\n",
    "            datos[clave].append(valores[clave])\n",
    "\n",
    "    def media(lista):\n",
    "        return sum(lista) / len(lista)\n",
    "\n",
    "    def std(lista):\n",
    "        m = media(lista)\n",
    "        return math.sqrt(sum((x - m) ** 2 for x in lista) / len(lista))\n",
    "\n",
    "    encabezado = f\"{'Métrica':<15} {'Media':>10} {'Desviación Std':>20}\"\n",
    "    print(\"\\n\" + encabezado)\n",
    "    print(\"-\" * len(encabezado))\n",
    "    for clave in claves:\n",
    "        m = media(datos[clave])\n",
    "        s = std(datos[clave])\n",
    "        print(f\"{clave:<15} {m:10.4f} {s:20.4f}\")"
   ]
  },
  {
   "cell_type": "code",
   "execution_count": 44,
   "id": "52b3f8bb-2d79-4a7e-8739-40db252c27dd",
   "metadata": {},
   "outputs": [
    {
     "name": "stdout",
     "output_type": "stream",
     "text": [
      "Paciente      Class 1    Class 2    Class 3    Class 4    Mean Dice\n",
      "-------------------------------------------------------------------\n",
      "rtum79         0.8235     0.3998     0.8403     0.7740       0.7094\n",
      "rtum1          0.6346     0.0000     0.7478     0.7353       0.5294\n",
      "rtum33         0.7226     0.7411     0.7933     0.8568       0.7784\n",
      "rtum3          0.8011     0.5883     0.8437     0.7235       0.7391\n",
      "rtum20         0.6590     0.4207     0.8256     0.8223       0.6819\n",
      "rtum70         0.5661     0.0000     0.8074     0.7640       0.5344\n",
      "rtum19         0.6933     0.0000     0.7513     0.7544       0.5497\n",
      "rtum26         0.8797     0.8762     0.8856     0.8745       0.8790\n",
      "rtum13         0.8590     0.0000     0.8214     0.8076       0.6220\n",
      "rtum71         0.8004     0.0000     0.8434     0.7481       0.5980\n",
      "rtum87         0.7669     0.0000     0.8061     0.8165       0.5974\n",
      "rtum69         0.8496     0.1628     0.8490     0.7808       0.6606\n",
      "rtum58         0.5213     0.2777     0.8670     0.8285       0.6236\n",
      "rtum82         0.7926     0.2191     0.8378     0.8055       0.6637\n",
      "rtum86         0.7342     0.3707     0.7842     0.7453       0.6586\n",
      "rtum68         0.7750     0.3726     0.8235     0.7442       0.6788\n",
      "rtum4          0.7714     0.5451     0.8485     0.7747       0.7349\n",
      "rtum81         0.5461     0.5875     0.7934     0.7053       0.6581\n"
     ]
    }
   ],
   "source": [
    "mostrar_dice_pacientes(all_metrics_2d)"
   ]
  },
  {
   "cell_type": "code",
   "execution_count": 47,
   "id": "ffad3e11-5844-4341-9805-0b0020f98c89",
   "metadata": {},
   "outputs": [
    {
     "name": "stdout",
     "output_type": "stream",
     "text": [
      "\n",
      "Métrica              Media       Desviación Std\n",
      "-----------------------------------------------\n",
      "dice_class_1        0.7331               0.1056\n",
      "dice_class_2        0.3090               0.2740\n",
      "dice_class_3        0.8205               0.0358\n",
      "dice_class_4        0.7812               0.0453\n",
      "dice                0.6610               0.0858\n"
     ]
    }
   ],
   "source": [
    "mostrar_estadisticas(all_metrics_2d)"
   ]
  },
  {
   "cell_type": "markdown",
   "id": "cf47e264-e0c2-44ff-9ff7-4f8412433505",
   "metadata": {},
   "source": [
    "# __3D__"
   ]
  },
  {
   "cell_type": "code",
   "execution_count": 52,
   "id": "5f14f131-e800-4d13-b16a-db00f25472af",
   "metadata": {},
   "outputs": [],
   "source": [
    "config_3d = load_config('configs/experiments/unet3d_4.yaml')\n",
    "model_path_3d = 'experiments/unet3d/unet3d_20250423_064027/fold_1/checkpoints/best_model_epoch86.pth'\n",
    "model_3d = load_trained_model(config_3d, model_path_3d)\n",
    "config_device_3d = config_3d['training']['device']\n",
    "test_dir_3d = 'data/processed/3d/train/'\n",
    "device_3d = torch.device(config_device_3d if torch.cuda.is_available() else \"cpu\")"
   ]
  },
  {
   "cell_type": "code",
   "execution_count": 50,
   "id": "627b486a-a3ea-45ba-933b-57fe4c43759d",
   "metadata": {
    "jupyter": {
     "source_hidden": true
    }
   },
   "outputs": [],
   "source": [
    "patient_ids_3d = [\n",
    "    \"rtum1\",\n",
    "    \"rtum13\",\n",
    "    \"rtum19\",\n",
    "    \"rtum20\",\n",
    "    \"rtum26\",\n",
    "    \"rtum3\",\n",
    "    \"rtum33\",\n",
    "    \"rtum4\",\n",
    "    \"rtum58\",\n",
    "    \"rtum68\",\n",
    "    \"rtum69\",\n",
    "    \"rtum70\",\n",
    "    \"rtum71\",\n",
    "    \"rtum79\",\n",
    "    \"rtum81\",\n",
    "    \"rtum82\",\n",
    "    \"rtum86\",\n",
    "    \"rtum87\"\n",
    "]"
   ]
  },
  {
   "cell_type": "code",
   "execution_count": 53,
   "id": "ae0da71c-9eeb-4ae6-8718-a2f8dd47b112",
   "metadata": {},
   "outputs": [],
   "source": [
    "evaluator_3d = Evaluator3D(model_3d, config_3d, test_dir_3d, device_3d)"
   ]
  },
  {
   "cell_type": "code",
   "execution_count": 54,
   "id": "f99f532c-7fd9-4cdf-a8e7-b8873ae8203d",
   "metadata": {},
   "outputs": [
    {
     "data": {
      "application/vnd.jupyter.widget-view+json": {
       "model_id": "2192968c860a4222946c67a30c3307d2",
       "version_major": 2,
       "version_minor": 0
      },
      "text/plain": [
       "  0%|          | 0/1 [00:00<?, ?it/s]"
      ]
     },
     "metadata": {},
     "output_type": "display_data"
    },
    {
     "name": "stdout",
     "output_type": "stream",
     "text": [
      "torch.Size([2, 5, 64, 256, 256])\n"
     ]
    }
   ],
   "source": [
    "metrics_3d, cm_3d = evaluator_3d.evaluate_patient('rtum1')"
   ]
  },
  {
   "cell_type": "code",
   "execution_count": 55,
   "id": "40faca3c-0443-4de1-aad0-18b450ea3415",
   "metadata": {},
   "outputs": [
    {
     "name": "stdout",
     "output_type": "stream",
     "text": [
      "{'dice_class_1': 0.7761029601097107, 'dice_class_2': 0.6096978187561035, 'dice_class_3': 0.8397595882415771, 'dice_class_4': 0.7756595611572266, 'iou_class_1': 0.6341243386268616, 'iou_class_2': 0.4385361969470978, 'iou_class_3': 0.7237806916236877, 'iou_class_4': 0.6335326433181763, 'precision_class_1': 0.6756852269172668, 'precision_class_2': 0.5611901879310608, 'precision_class_3': 0.8118982315063477, 'precision_class_4': 0.7118887305259705, 'recall_class_1': 0.9115780591964722, 'recall_class_2': 0.6673846244812012, 'recall_class_3': 0.8696010708808899, 'recall_class_4': 0.8519797921180725, 'dice': 0.7503049969673157, 'iou': 0.60749351978302, 'precision': 0.690165638923645, 'recall': 0.8251358866691589}\n",
      "{'tp_class_1': 26722.0, 'tp_class_2': 2169.0, 'tp_class_3': 35838.0, 'tp_class_4': 45143.0, 'fp_class_1': 12826.0, 'fp_class_2': 1696.0, 'fp_class_3': 8303.0, 'fp_class_4': 18270.0, 'fn_class_1': 2592.0, 'fn_class_2': 1081.0, 'fn_class_3': 5374.0, 'fn_class_4': 7843.0, 'tn_class_1': 5921636.0, 'tn_class_2': 5958830.0, 'tn_class_3': 5914261.0, 'tn_class_4': 5892520.0, 'tp': 109872.0, 'fp': 41095.0, 'fn': 16890.0, 'tn': 23687248.0}\n"
     ]
    }
   ],
   "source": [
    "print(metrics_3d)\n",
    "print(cm_3d)"
   ]
  },
  {
   "cell_type": "code",
   "execution_count": 56,
   "id": "db50cc8f-be16-4b02-a2c8-5be3827d0eed",
   "metadata": {},
   "outputs": [
    {
     "data": {
      "application/vnd.jupyter.widget-view+json": {
       "model_id": "d5acb216e19e45beb1c27ac6eda9f1e1",
       "version_major": 2,
       "version_minor": 0
      },
      "text/plain": [
       "  0%|          | 0/18 [00:00<?, ?it/s]"
      ]
     },
     "metadata": {},
     "output_type": "display_data"
    },
    {
     "data": {
      "application/vnd.jupyter.widget-view+json": {
       "model_id": "47fdd29913664fc79d411e2c5d904a3c",
       "version_major": 2,
       "version_minor": 0
      },
      "text/plain": [
       "0it [00:00, ?it/s]"
      ]
     },
     "metadata": {},
     "output_type": "display_data"
    },
    {
     "ename": "ValueError",
     "evalue": "No sub-volumes found for patient ID: rtum79",
     "output_type": "error",
     "traceback": [
      "\u001b[1;31m---------------------------------------------------------------------------\u001b[0m",
      "\u001b[1;31mValueError\u001b[0m                                Traceback (most recent call last)",
      "Cell \u001b[1;32mIn[56], line 1\u001b[0m\n\u001b[1;32m----> 1\u001b[0m all_metrics_3d, all_cms_3d \u001b[38;5;241m=\u001b[39m \u001b[43mevaluator_3d\u001b[49m\u001b[38;5;241;43m.\u001b[39;49m\u001b[43mevaluate\u001b[49m\u001b[43m(\u001b[49m\u001b[43mpatient_ids\u001b[49m\u001b[43m)\u001b[49m\n",
      "Cell \u001b[1;32mIn[24], line 26\u001b[0m, in \u001b[0;36mEvaluator.evaluate\u001b[1;34m(self, patient_ids)\u001b[0m\n\u001b[0;32m     23\u001b[0m all_metrics, all_cms \u001b[38;5;241m=\u001b[39m {}, {}\n\u001b[0;32m     25\u001b[0m \u001b[38;5;28;01mfor\u001b[39;00m patient_id \u001b[38;5;129;01min\u001b[39;00m loop:\n\u001b[1;32m---> 26\u001b[0m     p_metrics, p_cm \u001b[38;5;241m=\u001b[39m \u001b[38;5;28;43mself\u001b[39;49m\u001b[38;5;241;43m.\u001b[39;49m\u001b[43mevaluate_patient\u001b[49m\u001b[43m(\u001b[49m\u001b[43mpatient_id\u001b[49m\u001b[43m)\u001b[49m\n\u001b[0;32m     27\u001b[0m     all_metrics[patient_id] \u001b[38;5;241m=\u001b[39m p_metrics\n\u001b[0;32m     28\u001b[0m     all_cms[patient_id] \u001b[38;5;241m=\u001b[39m p_cm\n",
      "Cell \u001b[1;32mIn[51], line 29\u001b[0m, in \u001b[0;36mEvaluator3D.evaluate_patient\u001b[1;34m(self, patient_id)\u001b[0m\n\u001b[0;32m     26\u001b[0m patient_loop\u001b[38;5;241m.\u001b[39mset_description(\u001b[38;5;124mf\u001b[39m\u001b[38;5;124m\"\u001b[39m\u001b[38;5;124mPatient \u001b[39m\u001b[38;5;132;01m{\u001b[39;00mpatient_id\u001b[38;5;132;01m}\u001b[39;00m\u001b[38;5;124m\"\u001b[39m)\n\u001b[0;32m     28\u001b[0m all_preds \u001b[38;5;241m=\u001b[39m []\n\u001b[1;32m---> 29\u001b[0m all_slices \u001b[38;5;241m=\u001b[39m \u001b[43mp_dataset\u001b[49m\u001b[38;5;241;43m.\u001b[39;49m\u001b[43mget_patient_subvolumes_slices\u001b[49m\u001b[43m(\u001b[49m\u001b[43mpatient_id\u001b[49m\u001b[43m)\u001b[49m\n\u001b[0;32m     30\u001b[0m D \u001b[38;5;241m=\u001b[39m all_slices[\u001b[38;5;241m-\u001b[39m\u001b[38;5;241m1\u001b[39m][\u001b[38;5;241m1\u001b[39m] \u001b[38;5;241m+\u001b[39m \u001b[38;5;241m1\u001b[39m \u001b[38;5;66;03m# add 1 to the total number of slices\u001b[39;00m\n\u001b[0;32m     32\u001b[0m \u001b[38;5;28;01mwith\u001b[39;00m torch\u001b[38;5;241m.\u001b[39mno_grad():\n",
      "File \u001b[1;32m~\\TFG\\digipanca\\src\\data\\dataset3d.py:256\u001b[0m, in \u001b[0;36mPancreasDataset3D.get_patient_subvolumes_slices\u001b[1;34m(self, patient_id)\u001b[0m\n\u001b[0;32m    251\u001b[0m patient_subvolumes \u001b[38;5;241m=\u001b[39m [\n\u001b[0;32m    252\u001b[0m     filename \u001b[38;5;28;01mfor\u001b[39;00m filename, meta \u001b[38;5;129;01min\u001b[39;00m \u001b[38;5;28mself\u001b[39m\u001b[38;5;241m.\u001b[39mmetadata\u001b[38;5;241m.\u001b[39mitems() \u001b[38;5;28;01mif\u001b[39;00m meta[\u001b[38;5;124m\"\u001b[39m\u001b[38;5;124mpatient_id\u001b[39m\u001b[38;5;124m\"\u001b[39m] \u001b[38;5;241m==\u001b[39m patient_id\n\u001b[0;32m    253\u001b[0m ]\n\u001b[0;32m    255\u001b[0m \u001b[38;5;28;01mif\u001b[39;00m \u001b[38;5;129;01mnot\u001b[39;00m patient_subvolumes:\n\u001b[1;32m--> 256\u001b[0m     \u001b[38;5;28;01mraise\u001b[39;00m \u001b[38;5;167;01mValueError\u001b[39;00m(\u001b[38;5;124mf\u001b[39m\u001b[38;5;124m\"\u001b[39m\u001b[38;5;124mNo sub-volumes found for patient ID: \u001b[39m\u001b[38;5;132;01m{\u001b[39;00mpatient_id\u001b[38;5;132;01m}\u001b[39;00m\u001b[38;5;124m\"\u001b[39m)\n\u001b[0;32m    258\u001b[0m \u001b[38;5;66;03m# Sort sub-volumes by their slice indices\u001b[39;00m\n\u001b[0;32m    259\u001b[0m patient_subvolumes\u001b[38;5;241m.\u001b[39msort(key\u001b[38;5;241m=\u001b[39m\u001b[38;5;28;01mlambda\u001b[39;00m x: \u001b[38;5;28mself\u001b[39m\u001b[38;5;241m.\u001b[39mmetadata[x][\u001b[38;5;124m\"\u001b[39m\u001b[38;5;124mslices\u001b[39m\u001b[38;5;124m\"\u001b[39m][\u001b[38;5;241m0\u001b[39m])\n",
      "\u001b[1;31mValueError\u001b[0m: No sub-volumes found for patient ID: rtum79"
     ]
    }
   ],
   "source": [
    "all_metrics_3d, all_cms_3d = evaluator_3d.evaluate(patient_ids)"
   ]
  },
  {
   "cell_type": "markdown",
   "id": "62fa2dad-6f47-435b-848b-da8d8c5fe52f",
   "metadata": {},
   "source": [
    "# __Implementation test__"
   ]
  },
  {
   "cell_type": "code",
   "execution_count": 18,
   "id": "3b0e882d-b4d4-4091-be29-08c569896910",
   "metadata": {},
   "outputs": [],
   "source": [
    "from src.evaluation import Evaluator2D\n",
    "from src.utils.export import write_csv_from_dict"
   ]
  },
  {
   "cell_type": "code",
   "execution_count": 19,
   "id": "c52709c7-d620-4e24-a29d-3c6341445963",
   "metadata": {},
   "outputs": [],
   "source": [
    "my_evaluator2d = Evaluator2D(model, config, test_dir, device)"
   ]
  },
  {
   "cell_type": "code",
   "execution_count": 7,
   "id": "dace2e42-af9f-4b15-95d0-7d4911f00fd5",
   "metadata": {},
   "outputs": [
    {
     "name": "stderr",
     "output_type": "stream",
     "text": [
      "                                                                                                                                                           2.03s/it]\u001b[0m"
     ]
    }
   ],
   "source": [
    "metrics_2d, cm_2d = my_evaluator2d.evaluate_patient('rtum1')"
   ]
  },
  {
   "cell_type": "code",
   "execution_count": 8,
   "id": "142f3db8-f636-40e0-a835-d4bb97e071df",
   "metadata": {},
   "outputs": [
    {
     "name": "stdout",
     "output_type": "stream",
     "text": [
      "{'dice_class_1': 0.6346235275268555, 'dice_class_2': 0.0, 'dice_class_3': 0.7477684617042542, 'dice_class_4': 0.73532634973526, 'iou_class_1': 0.4647974371910095, 'iou_class_2': 0.0, 'iou_class_3': 0.5971487164497375, 'iou_class_4': 0.5814356207847595, 'precision_class_1': 0.5534848570823669, 'precision_class_2': 0.0, 'precision_class_3': 0.6505431532859802, 'precision_class_4': 0.7012190818786621, 'recall_class_1': 0.7436378598213196, 'recall_class_2': 0.0, 'recall_class_3': 0.8791614174842834, 'recall_class_4': 0.7729211449623108, 'dice': 0.52942955493927, 'iou': 0.41084545850753784, 'precision': 0.4763117730617523, 'recall': 0.5989301204681396}\n",
      "{'tp_class_1': 21799.0, 'tp_class_2': 0.0, 'tp_class_3': 36232.0, 'tp_class_4': 40954.0, 'fp_class_1': 17586.0, 'fp_class_2': 69.0, 'fp_class_3': 19463.0, 'fp_class_4': 17450.0, 'fn_class_1': 7515.0, 'fn_class_2': 3250.0, 'fn_class_3': 4980.0, 'fn_class_4': 12032.0, 'tn_class_1': 5916876.0, 'tn_class_2': 5960457.0, 'tn_class_3': 5903101.0, 'tn_class_4': 5893340.0, 'tp': 98985.0, 'fp': 54568.0, 'fn': 27777.0, 'tn': 23673774.0}\n"
     ]
    }
   ],
   "source": [
    "print(metrics_2d)\n",
    "print(cm_2d)"
   ]
  },
  {
   "cell_type": "code",
   "execution_count": 20,
   "id": "d4ef2dd9-fff4-46e6-85b0-27034b9b2838",
   "metadata": {},
   "outputs": [
    {
     "name": "stderr",
     "output_type": "stream",
     "text": [
      "Evaluating patients:   0%|\u001b[31m                                                                                                          \u001b[0m| 0/18 [00:00<?, ?it/s]\u001b[0m\n",
      "\u001b[A%|\u001b[34m                                                                                                                               \u001b[0m| 0/26 [00:00<?, ?it/s]\u001b[0m\n",
      "\u001b[Aient rtum79:   0%|\u001b[34m                                                                                                               \u001b[0m| 0/26 [00:00<?, ?it/s]\u001b[0m\n",
      "\u001b[Aient rtum79:   4%|\u001b[34m███▉                                                                                                   \u001b[0m| 1/26 [00:05<02:13,  5.35s/it]\u001b[0m\n",
      "\u001b[Aient rtum79:   8%|\u001b[34m███████▉                                                                                               \u001b[0m| 2/26 [00:07<01:18,  3.25s/it]\u001b[0m\n",
      "\u001b[Aient rtum79:  12%|\u001b[34m███████████▉                                                                                           \u001b[0m| 3/26 [00:09<01:07,  2.93s/it]\u001b[0m\n",
      "\u001b[Aient rtum79:  15%|\u001b[34m███████████████▊                                                                                       \u001b[0m| 4/26 [00:12<01:00,  2.76s/it]\u001b[0m\n",
      "\u001b[Aient rtum79:  19%|\u001b[34m███████████████████▊                                                                                   \u001b[0m| 5/26 [00:14<00:56,  2.68s/it]\u001b[0m\n",
      "\u001b[Aient rtum79:  23%|\u001b[34m███████████████████████▊                                                                               \u001b[0m| 6/26 [00:17<00:52,  2.62s/it]\u001b[0m\n",
      "\u001b[Aient rtum79:  27%|\u001b[34m███████████████████████████▋                                                                           \u001b[0m| 7/26 [00:19<00:48,  2.56s/it]\u001b[0m\n",
      "\u001b[Aient rtum79:  31%|\u001b[34m███████████████████████████████▋                                                                       \u001b[0m| 8/26 [00:22<00:46,  2.56s/it]\u001b[0m\n",
      "\u001b[Aient rtum79:  35%|\u001b[34m███████████████████████████████████▋                                                                   \u001b[0m| 9/26 [00:24<00:44,  2.60s/it]\u001b[0m\n",
      "\u001b[Aient rtum79:  38%|\u001b[34m███████████████████████████████████████▏                                                              \u001b[0m| 10/26 [00:27<00:41,  2.56s/it]\u001b[0m\n",
      "\u001b[Aient rtum79:  42%|\u001b[34m███████████████████████████████████████████▏                                                          \u001b[0m| 11/26 [00:30<00:39,  2.60s/it]\u001b[0m\n",
      "\u001b[Aient rtum79:  46%|\u001b[34m███████████████████████████████████████████████                                                       \u001b[0m| 12/26 [00:32<00:36,  2.63s/it]\u001b[0m\n",
      "\u001b[Aient rtum79:  50%|\u001b[34m███████████████████████████████████████████████████                                                   \u001b[0m| 13/26 [00:35<00:35,  2.72s/it]\u001b[0m\n",
      "\u001b[Aient rtum79:  54%|\u001b[34m██████████████████████████████████████████████████████▉                                               \u001b[0m| 14/26 [00:38<00:33,  2.77s/it]\u001b[0m\n",
      "\u001b[Aient rtum79:  58%|\u001b[34m██████████████████████████████████████████████████████████▊                                           \u001b[0m| 15/26 [00:41<00:29,  2.68s/it]\u001b[0m\n",
      "\u001b[Aient rtum79:  62%|\u001b[34m██████████████████████████████████████████████████████████████▊                                       \u001b[0m| 16/26 [00:43<00:26,  2.60s/it]\u001b[0m\n",
      "\u001b[Aient rtum79:  65%|\u001b[34m██████████████████████████████████████████████████████████████████▋                                   \u001b[0m| 17/26 [00:45<00:22,  2.54s/it]\u001b[0m\n",
      "\u001b[Aient rtum79:  69%|\u001b[34m██████████████████████████████████████████████████████████████████████▌                               \u001b[0m| 18/26 [00:48<00:19,  2.48s/it]\u001b[0m\n",
      "\u001b[Aient rtum79:  73%|\u001b[34m██████████████████████████████████████████████████████████████████████████▌                           \u001b[0m| 19/26 [00:50<00:17,  2.48s/it]\u001b[0m\n",
      "\u001b[Aient rtum79:  77%|\u001b[34m██████████████████████████████████████████████████████████████████████████████▍                       \u001b[0m| 20/26 [00:53<00:15,  2.54s/it]\u001b[0m\n",
      "\u001b[Aient rtum79:  81%|\u001b[34m██████████████████████████████████████████████████████████████████████████████████▍                   \u001b[0m| 21/26 [00:56<00:13,  2.72s/it]\u001b[0m\n",
      "\u001b[Aient rtum79:  85%|\u001b[34m██████████████████████████████████████████████████████████████████████████████████████▎               \u001b[0m| 22/26 [00:59<00:11,  2.85s/it]\u001b[0m\n",
      "\u001b[Aient rtum79:  88%|\u001b[34m██████████████████████████████████████████████████████████████████████████████████████████▏           \u001b[0m| 23/26 [01:02<00:08,  2.85s/it]\u001b[0m\n",
      "\u001b[Aient rtum79:  92%|\u001b[34m██████████████████████████████████████████████████████████████████████████████████████████████▏       \u001b[0m| 24/26 [01:05<00:05,  2.92s/it]\u001b[0m\n",
      "\u001b[Aient rtum79:  96%|\u001b[34m██████████████████████████████████████████████████████████████████████████████████████████████████    \u001b[0m| 25/26 [01:08<00:02,  2.93s/it]\u001b[0m\n",
      "\u001b[Aient rtum79: 100%|\u001b[34m██████████████████████████████████████████████████████████████████████████████████████████████████████\u001b[0m| 26/26 [01:11<00:00,  2.81s/it]\u001b[0m\n",
      "Evaluating patients:   6%|\u001b[31m█████▍                                                                                            \u001b[0m| 1/18 [01:15<21:17, 75.13s/it]\u001b[0m\n",
      "\u001b[A%|\u001b[34m                                                                                                                               \u001b[0m| 0/23 [00:00<?, ?it/s]\u001b[0m\n",
      "\u001b[Aient rtum1:   0%|\u001b[34m                                                                                                                \u001b[0m| 0/23 [00:00<?, ?it/s]\u001b[0m\n",
      "\u001b[Aient rtum1:   4%|\u001b[34m████▌                                                                                                   \u001b[0m| 1/23 [00:06<02:26,  6.67s/it]\u001b[0m\n",
      "\u001b[Aient rtum1:   9%|\u001b[34m█████████                                                                                               \u001b[0m| 2/23 [00:09<01:30,  4.30s/it]\u001b[0m\n",
      "\u001b[Aient rtum1:  13%|\u001b[34m█████████████▌                                                                                          \u001b[0m| 3/23 [00:12<01:13,  3.68s/it]\u001b[0m\n",
      "\u001b[Aient rtum1:  17%|\u001b[34m██████████████████                                                                                      \u001b[0m| 4/23 [00:15<01:05,  3.45s/it]\u001b[0m\n",
      "\u001b[Aient rtum1:  22%|\u001b[34m██████████████████████▌                                                                                 \u001b[0m| 5/23 [00:18<01:01,  3.40s/it]\u001b[0m\n",
      "\u001b[Aient rtum1:  26%|\u001b[34m███████████████████████████▏                                                                            \u001b[0m| 6/23 [00:21<00:56,  3.33s/it]\u001b[0m\n",
      "\u001b[Aient rtum1:  30%|\u001b[34m███████████████████████████████▋                                                                        \u001b[0m| 7/23 [00:24<00:52,  3.26s/it]\u001b[0m\n",
      "\u001b[Aient rtum1:  35%|\u001b[34m████████████████████████████████████▏                                                                   \u001b[0m| 8/23 [00:27<00:47,  3.18s/it]\u001b[0m\n",
      "\u001b[Aient rtum1:  39%|\u001b[34m████████████████████████████████████████▋                                                               \u001b[0m| 9/23 [00:31<00:44,  3.15s/it]\u001b[0m\n",
      "\u001b[Aient rtum1:  43%|\u001b[34m████████████████████████████████████████████▊                                                          \u001b[0m| 10/23 [00:33<00:39,  3.06s/it]\u001b[0m\n",
      "\u001b[Aient rtum1:  48%|\u001b[34m█████████████████████████████████████████████████▎                                                     \u001b[0m| 11/23 [00:36<00:35,  2.94s/it]\u001b[0m\n",
      "\u001b[Aient rtum1:  52%|\u001b[34m█████████████████████████████████████████████████████▋                                                 \u001b[0m| 12/23 [00:39<00:31,  2.83s/it]\u001b[0m\n",
      "\u001b[Aient rtum1:  57%|\u001b[34m██████████████████████████████████████████████████████████▏                                            \u001b[0m| 13/23 [00:41<00:27,  2.78s/it]\u001b[0m\n",
      "\u001b[Aient rtum1:  61%|\u001b[34m██████████████████████████████████████████████████████████████▋                                        \u001b[0m| 14/23 [00:44<00:24,  2.73s/it]\u001b[0m\n",
      "\u001b[Aient rtum1:  65%|\u001b[34m███████████████████████████████████████████████████████████████████▏                                   \u001b[0m| 15/23 [00:47<00:21,  2.70s/it]\u001b[0m\n",
      "\u001b[Aient rtum1:  70%|\u001b[34m███████████████████████████████████████████████████████████████████████▋                               \u001b[0m| 16/23 [00:49<00:18,  2.67s/it]\u001b[0m\n",
      "\u001b[Aient rtum1:  74%|\u001b[34m████████████████████████████████████████████████████████████████████████████▏                          \u001b[0m| 17/23 [00:52<00:16,  2.74s/it]\u001b[0m\n",
      "\u001b[Aient rtum1:  78%|\u001b[34m████████████████████████████████████████████████████████████████████████████████▌                      \u001b[0m| 18/23 [00:55<00:13,  2.68s/it]\u001b[0m\n",
      "\u001b[Aient rtum1:  83%|\u001b[34m█████████████████████████████████████████████████████████████████████████████████████                  \u001b[0m| 19/23 [00:58<00:11,  2.83s/it]\u001b[0m\n",
      "\u001b[Aient rtum1:  87%|\u001b[34m█████████████████████████████████████████████████████████████████████████████████████████▌             \u001b[0m| 20/23 [01:01<00:08,  2.83s/it]\u001b[0m\n",
      "\u001b[Aient rtum1:  91%|\u001b[34m██████████████████████████████████████████████████████████████████████████████████████████████         \u001b[0m| 21/23 [01:04<00:05,  2.91s/it]\u001b[0m\n",
      "\u001b[Aient rtum1:  96%|\u001b[34m██████████████████████████████████████████████████████████████████████████████████████████████████▌    \u001b[0m| 22/23 [01:07<00:02,  2.98s/it]\u001b[0m\n",
      "\u001b[Aient rtum1: 100%|\u001b[34m███████████████████████████████████████████████████████████████████████████████████████████████████████\u001b[0m| 23/23 [01:09<00:00,  2.68s/it]\u001b[0m\n",
      "Evaluating patients:  11%|\u001b[31m██████████▉                                                                                       \u001b[0m| 2/18 [02:28<19:41, 73.82s/it]\u001b[0m\n",
      "\u001b[A%|\u001b[34m                                                                                                                               \u001b[0m| 0/27 [00:00<?, ?it/s]\u001b[0m\n",
      "\u001b[Aient rtum33:   0%|\u001b[34m                                                                                                               \u001b[0m| 0/27 [00:00<?, ?it/s]\u001b[0m\n",
      "\u001b[Aient rtum33:   4%|\u001b[34m███▊                                                                                                   \u001b[0m| 1/27 [00:09<03:59,  9.21s/it]\u001b[0m\n",
      "\u001b[Aient rtum33:   7%|\u001b[34m███████▋                                                                                               \u001b[0m| 2/27 [00:12<02:19,  5.57s/it]\u001b[0m\n",
      "\u001b[Aient rtum33:  11%|\u001b[34m███████████▍                                                                                           \u001b[0m| 3/27 [00:15<01:50,  4.62s/it]\u001b[0m\n",
      "\u001b[Aient rtum33:  15%|\u001b[34m███████████████▎                                                                                       \u001b[0m| 4/27 [00:18<01:29,  3.87s/it]\u001b[0m\n",
      "\u001b[Aient rtum33:  19%|\u001b[34m███████████████████                                                                                    \u001b[0m| 5/27 [00:21<01:15,  3.43s/it]\u001b[0m\n",
      "\u001b[Aient rtum33:  22%|\u001b[34m██████████████████████▉                                                                                \u001b[0m| 6/27 [00:24<01:09,  3.31s/it]\u001b[0m\n",
      "\u001b[Aient rtum33:  26%|\u001b[34m██████████████████████████▋                                                                            \u001b[0m| 7/27 [00:27<01:03,  3.18s/it]\u001b[0m\n",
      "\u001b[Aient rtum33:  30%|\u001b[34m██████████████████████████████▌                                                                        \u001b[0m| 8/27 [00:29<00:56,  2.95s/it]\u001b[0m\n",
      "\u001b[Aient rtum33:  33%|\u001b[34m██████████████████████████████████▎                                                                    \u001b[0m| 9/27 [00:32<00:50,  2.81s/it]\u001b[0m\n",
      "\u001b[Aient rtum33:  37%|\u001b[34m█████████████████████████████████████▊                                                                \u001b[0m| 10/27 [00:34<00:46,  2.74s/it]\u001b[0m\n",
      "\u001b[Aient rtum33:  41%|\u001b[34m█████████████████████████████████████████▌                                                            \u001b[0m| 11/27 [00:37<00:42,  2.67s/it]\u001b[0m\n",
      "\u001b[Aient rtum33:  44%|\u001b[34m█████████████████████████████████████████████▎                                                        \u001b[0m| 12/27 [00:39<00:39,  2.66s/it]\u001b[0m\n",
      "\u001b[Aient rtum33:  48%|\u001b[34m█████████████████████████████████████████████████                                                     \u001b[0m| 13/27 [00:42<00:37,  2.65s/it]\u001b[0m\n",
      "\u001b[Aient rtum33:  52%|\u001b[34m████████████████████████████████████████████████████▉                                                 \u001b[0m| 14/27 [00:45<00:34,  2.69s/it]\u001b[0m\n",
      "\u001b[Aient rtum33:  56%|\u001b[34m████████████████████████████████████████████████████████▋                                             \u001b[0m| 15/27 [00:48<00:33,  2.83s/it]\u001b[0m\n",
      "\u001b[Aient rtum33:  59%|\u001b[34m████████████████████████████████████████████████████████████▍                                         \u001b[0m| 16/27 [00:51<00:32,  2.98s/it]\u001b[0m\n",
      "\u001b[Aient rtum33:  63%|\u001b[34m████████████████████████████████████████████████████████████████▏                                     \u001b[0m| 17/27 [00:55<00:31,  3.19s/it]\u001b[0m\n",
      "\u001b[Aient rtum33:  67%|\u001b[34m████████████████████████████████████████████████████████████████████                                  \u001b[0m| 18/27 [00:58<00:29,  3.23s/it]\u001b[0m\n",
      "\u001b[Aient rtum33:  70%|\u001b[34m███████████████████████████████████████████████████████████████████████▊                              \u001b[0m| 19/27 [01:01<00:25,  3.17s/it]\u001b[0m\n",
      "\u001b[Aient rtum33:  74%|\u001b[34m███████████████████████████████████████████████████████████████████████████▌                          \u001b[0m| 20/27 [01:04<00:21,  3.03s/it]\u001b[0m\n",
      "\u001b[Aient rtum33:  78%|\u001b[34m███████████████████████████████████████████████████████████████████████████████▎                      \u001b[0m| 21/27 [01:06<00:17,  2.89s/it]\u001b[0m\n",
      "\u001b[Aient rtum33:  81%|\u001b[34m███████████████████████████████████████████████████████████████████████████████████                   \u001b[0m| 22/27 [01:09<00:13,  2.79s/it]\u001b[0m\n",
      "\u001b[Aient rtum33:  85%|\u001b[34m██████████████████████████████████████████████████████████████████████████████████████▉               \u001b[0m| 23/27 [01:12<00:10,  2.73s/it]\u001b[0m\n",
      "\u001b[Aient rtum33:  89%|\u001b[34m██████████████████████████████████████████████████████████████████████████████████████████▋           \u001b[0m| 24/27 [01:14<00:08,  2.67s/it]\u001b[0m\n",
      "\u001b[Aient rtum33:  93%|\u001b[34m██████████████████████████████████████████████████████████████████████████████████████████████▍       \u001b[0m| 25/27 [01:17<00:05,  2.63s/it]\u001b[0m\n",
      "\u001b[Aient rtum33:  96%|\u001b[34m██████████████████████████████████████████████████████████████████████████████████████████████████▏   \u001b[0m| 26/27 [01:19<00:02,  2.58s/it]\u001b[0m\n",
      "\u001b[Aient rtum33: 100%|\u001b[34m██████████████████████████████████████████████████████████████████████████████████████████████████████\u001b[0m| 27/27 [01:20<00:00,  2.16s/it]\u001b[0m\n",
      "Evaluating patients:  17%|\u001b[31m████████████████▎                                                                                 \u001b[0m| 3/18 [03:52<19:39, 78.66s/it]\u001b[0m\n",
      "\u001b[A%|\u001b[34m                                                                                                                               \u001b[0m| 0/28 [00:00<?, ?it/s]\u001b[0m\n",
      "\u001b[Aient rtum3:   0%|\u001b[34m                                                                                                                \u001b[0m| 0/28 [00:00<?, ?it/s]\u001b[0m\n",
      "\u001b[Aient rtum3:   4%|\u001b[34m███▋                                                                                                    \u001b[0m| 1/28 [00:06<03:07,  6.94s/it]\u001b[0m\n",
      "\u001b[Aient rtum3:   7%|\u001b[34m███████▍                                                                                                \u001b[0m| 2/28 [00:09<01:52,  4.34s/it]\u001b[0m\n",
      "\u001b[Aient rtum3:  11%|\u001b[34m███████████▏                                                                                            \u001b[0m| 3/28 [00:11<01:27,  3.51s/it]\u001b[0m\n",
      "\u001b[Aient rtum3:  14%|\u001b[34m██████████████▊                                                                                         \u001b[0m| 4/28 [00:14<01:14,  3.10s/it]\u001b[0m\n",
      "\u001b[Aient rtum3:  18%|\u001b[34m██████████████████▌                                                                                     \u001b[0m| 5/28 [00:17<01:07,  2.94s/it]\u001b[0m\n",
      "\u001b[Aient rtum3:  21%|\u001b[34m██████████████████████▎                                                                                 \u001b[0m| 6/28 [00:19<01:01,  2.80s/it]\u001b[0m\n",
      "\u001b[Aient rtum3:  25%|\u001b[34m██████████████████████████                                                                              \u001b[0m| 7/28 [00:22<01:00,  2.89s/it]\u001b[0m\n",
      "\u001b[Aient rtum3:  29%|\u001b[34m█████████████████████████████▋                                                                          \u001b[0m| 8/28 [00:25<00:58,  2.92s/it]\u001b[0m\n",
      "\u001b[Aient rtum3:  32%|\u001b[34m█████████████████████████████████▍                                                                      \u001b[0m| 9/28 [00:28<00:53,  2.81s/it]\u001b[0m\n",
      "\u001b[Aient rtum3:  36%|\u001b[34m████████████████████████████████████▊                                                                  \u001b[0m| 10/28 [00:30<00:48,  2.70s/it]\u001b[0m\n",
      "\u001b[Aient rtum3:  39%|\u001b[34m████████████████████████████████████████▍                                                              \u001b[0m| 11/28 [00:33<00:45,  2.66s/it]\u001b[0m\n",
      "\u001b[Aient rtum3:  43%|\u001b[34m████████████████████████████████████████████▏                                                          \u001b[0m| 12/28 [00:35<00:42,  2.63s/it]\u001b[0m\n",
      "\u001b[Aient rtum3:  46%|\u001b[34m███████████████████████████████████████████████▊                                                       \u001b[0m| 13/28 [00:38<00:39,  2.62s/it]\u001b[0m\n",
      "\u001b[Aient rtum3:  50%|\u001b[34m███████████████████████████████████████████████████▌                                                   \u001b[0m| 14/28 [00:40<00:35,  2.57s/it]\u001b[0m\n",
      "\u001b[Aient rtum3:  54%|\u001b[34m███████████████████████████████████████████████████████▏                                               \u001b[0m| 15/28 [00:43<00:33,  2.54s/it]\u001b[0m\n",
      "\u001b[Aient rtum3:  57%|\u001b[34m██████████████████████████████████████████████████████████▊                                            \u001b[0m| 16/28 [00:46<00:30,  2.57s/it]\u001b[0m\n",
      "\u001b[Aient rtum3:  61%|\u001b[34m██████████████████████████████████████████████████████████████▌                                        \u001b[0m| 17/28 [00:48<00:28,  2.55s/it]\u001b[0m\n",
      "\u001b[Aient rtum3:  64%|\u001b[34m██████████████████████████████████████████████████████████████████▏                                    \u001b[0m| 18/28 [00:51<00:25,  2.56s/it]\u001b[0m\n",
      "\u001b[Aient rtum3:  68%|\u001b[34m█████████████████████████████████████████████████████████████████████▉                                 \u001b[0m| 19/28 [00:53<00:22,  2.54s/it]\u001b[0m\n",
      "\u001b[Aient rtum3:  71%|\u001b[34m█████████████████████████████████████████████████████████████████████████▌                             \u001b[0m| 20/28 [00:56<00:21,  2.70s/it]\u001b[0m\n",
      "\u001b[Aient rtum3:  75%|\u001b[34m█████████████████████████████████████████████████████████████████████████████▎                         \u001b[0m| 21/28 [00:59<00:19,  2.74s/it]\u001b[0m\n",
      "\u001b[Aient rtum3:  79%|\u001b[34m████████████████████████████████████████████████████████████████████████████████▉                      \u001b[0m| 22/28 [01:02<00:16,  2.68s/it]\u001b[0m\n",
      "\u001b[Aient rtum3:  82%|\u001b[34m████████████████████████████████████████████████████████████████████████████████████▌                  \u001b[0m| 23/28 [01:04<00:13,  2.61s/it]\u001b[0m\n",
      "\u001b[Aient rtum3:  86%|\u001b[34m████████████████████████████████████████████████████████████████████████████████████████▎              \u001b[0m| 24/28 [01:06<00:10,  2.57s/it]\u001b[0m\n",
      "\u001b[Aient rtum3:  89%|\u001b[34m███████████████████████████████████████████████████████████████████████████████████████████▉           \u001b[0m| 25/28 [01:09<00:07,  2.55s/it]\u001b[0m\n",
      "\u001b[Aient rtum3:  93%|\u001b[34m███████████████████████████████████████████████████████████████████████████████████████████████▋       \u001b[0m| 26/28 [01:11<00:05,  2.53s/it]\u001b[0m\n",
      "\u001b[Aient rtum3:  96%|\u001b[34m███████████████████████████████████████████████████████████████████████████████████████████████████▎   \u001b[0m| 27/28 [01:14<00:02,  2.49s/it]\u001b[0m\n",
      "\u001b[Aient rtum3: 100%|\u001b[34m███████████████████████████████████████████████████████████████████████████████████████████████████████\u001b[0m| 28/28 [01:15<00:00,  1.95s/it]\u001b[0m\n",
      "Evaluating patients:  22%|\u001b[31m█████████████████████▊                                                                            \u001b[0m| 4/18 [05:10<18:20, 78.62s/it]\u001b[0m\n",
      "\u001b[A%|\u001b[34m                                                                                                                               \u001b[0m| 0/11 [00:00<?, ?it/s]\u001b[0m\n",
      "\u001b[Aient rtum20:   0%|\u001b[34m                                                                                                               \u001b[0m| 0/11 [00:00<?, ?it/s]\u001b[0m\n",
      "\u001b[Aient rtum20:   9%|\u001b[34m█████████▎                                                                                             \u001b[0m| 1/11 [00:07<01:12,  7.29s/it]\u001b[0m\n",
      "\u001b[Aient rtum20:  18%|\u001b[34m██████████████████▋                                                                                    \u001b[0m| 2/11 [00:10<00:42,  4.70s/it]\u001b[0m\n",
      "\u001b[Aient rtum20:  27%|\u001b[34m████████████████████████████                                                                           \u001b[0m| 3/11 [00:13<00:32,  4.11s/it]\u001b[0m\n",
      "\u001b[Aient rtum20:  36%|\u001b[34m█████████████████████████████████████▍                                                                 \u001b[0m| 4/11 [00:16<00:25,  3.66s/it]\u001b[0m\n",
      "\u001b[Aient rtum20:  45%|\u001b[34m██████████████████████████████████████████████▊                                                        \u001b[0m| 5/11 [00:19<00:19,  3.31s/it]\u001b[0m\n",
      "\u001b[Aient rtum20:  55%|\u001b[34m████████████████████████████████████████████████████████▏                                              \u001b[0m| 6/11 [00:21<00:15,  3.08s/it]\u001b[0m\n",
      "\u001b[Aient rtum20:  64%|\u001b[34m█████████████████████████████████████████████████████████████████▌                                     \u001b[0m| 7/11 [00:24<00:11,  2.94s/it]\u001b[0m\n",
      "\u001b[Aient rtum20:  73%|\u001b[34m██████████████████████████████████████████████████████████████████████████▉                            \u001b[0m| 8/11 [00:26<00:08,  2.78s/it]\u001b[0m\n",
      "\u001b[Aient rtum20:  82%|\u001b[34m████████████████████████████████████████████████████████████████████████████████████▎                  \u001b[0m| 9/11 [00:29<00:05,  2.71s/it]\u001b[0m\n",
      "\u001b[Aient rtum20:  91%|\u001b[34m████████████████████████████████████████████████████████████████████████████████████████████▋         \u001b[0m| 10/11 [00:31<00:02,  2.61s/it]\u001b[0m\n",
      "\u001b[Aient rtum20: 100%|\u001b[34m██████████████████████████████████████████████████████████████████████████████████████████████████████\u001b[0m| 11/11 [00:34<00:00,  2.57s/it]\u001b[0m\n",
      "Evaluating patients:  28%|\u001b[31m███████████████████████████▏                                                                      \u001b[0m| 5/18 [05:46<13:42, 63.24s/it]\u001b[0m\n",
      "\u001b[A%|\u001b[34m                                                                                                                               \u001b[0m| 0/27 [00:00<?, ?it/s]\u001b[0m\n",
      "\u001b[Aient rtum70:   0%|\u001b[34m                                                                                                               \u001b[0m| 0/27 [00:00<?, ?it/s]\u001b[0m\n",
      "\u001b[Aient rtum70:   4%|\u001b[34m███▊                                                                                                   \u001b[0m| 1/27 [00:06<02:52,  6.62s/it]\u001b[0m\n",
      "\u001b[Aient rtum70:   7%|\u001b[34m███████▋                                                                                               \u001b[0m| 2/27 [00:09<01:50,  4.43s/it]\u001b[0m\n",
      "\u001b[Aient rtum70:  11%|\u001b[34m███████████▍                                                                                           \u001b[0m| 3/27 [00:12<01:30,  3.75s/it]\u001b[0m\n",
      "\u001b[Aient rtum70:  15%|\u001b[34m███████████████▎                                                                                       \u001b[0m| 4/27 [00:14<01:14,  3.25s/it]\u001b[0m\n",
      "\u001b[Aient rtum70:  19%|\u001b[34m███████████████████                                                                                    \u001b[0m| 5/27 [00:17<01:05,  2.98s/it]\u001b[0m\n",
      "\u001b[Aient rtum70:  22%|\u001b[34m██████████████████████▉                                                                                \u001b[0m| 6/27 [00:19<00:59,  2.82s/it]\u001b[0m\n",
      "\u001b[Aient rtum70:  26%|\u001b[34m██████████████████████████▋                                                                            \u001b[0m| 7/27 [00:22<00:55,  2.76s/it]\u001b[0m\n",
      "\u001b[Aient rtum70:  30%|\u001b[34m██████████████████████████████▌                                                                        \u001b[0m| 8/27 [00:25<00:51,  2.69s/it]\u001b[0m\n",
      "\u001b[Aient rtum70:  33%|\u001b[34m██████████████████████████████████▎                                                                    \u001b[0m| 9/27 [00:27<00:47,  2.63s/it]\u001b[0m\n",
      "\u001b[Aient rtum70:  37%|\u001b[34m█████████████████████████████████████▊                                                                \u001b[0m| 10/27 [00:30<00:45,  2.68s/it]\u001b[0m\n",
      "\u001b[Aient rtum70:  41%|\u001b[34m█████████████████████████████████████████▌                                                            \u001b[0m| 11/27 [00:32<00:41,  2.61s/it]\u001b[0m\n",
      "\u001b[Aient rtum70:  44%|\u001b[34m█████████████████████████████████████████████▎                                                        \u001b[0m| 12/27 [00:35<00:38,  2.59s/it]\u001b[0m\n",
      "\u001b[Aient rtum70:  48%|\u001b[34m█████████████████████████████████████████████████                                                     \u001b[0m| 13/27 [00:37<00:35,  2.56s/it]\u001b[0m\n",
      "\u001b[Aient rtum70:  52%|\u001b[34m████████████████████████████████████████████████████▉                                                 \u001b[0m| 14/27 [00:40<00:32,  2.53s/it]\u001b[0m\n",
      "\u001b[Aient rtum70:  56%|\u001b[34m████████████████████████████████████████████████████████▋                                             \u001b[0m| 15/27 [00:43<00:31,  2.64s/it]\u001b[0m\n",
      "\u001b[Aient rtum70:  59%|\u001b[34m████████████████████████████████████████████████████████████▍                                         \u001b[0m| 16/27 [00:46<00:30,  2.79s/it]\u001b[0m\n",
      "\u001b[Aient rtum70:  63%|\u001b[34m████████████████████████████████████████████████████████████████▏                                     \u001b[0m| 17/27 [00:49<00:27,  2.76s/it]\u001b[0m\n",
      "\u001b[Aient rtum70:  67%|\u001b[34m████████████████████████████████████████████████████████████████████                                  \u001b[0m| 18/27 [00:51<00:24,  2.69s/it]\u001b[0m\n",
      "\u001b[Aient rtum70:  70%|\u001b[34m███████████████████████████████████████████████████████████████████████▊                              \u001b[0m| 19/27 [00:54<00:21,  2.66s/it]\u001b[0m\n",
      "\u001b[Aient rtum70:  74%|\u001b[34m███████████████████████████████████████████████████████████████████████████▌                          \u001b[0m| 20/27 [00:56<00:18,  2.59s/it]\u001b[0m\n",
      "\u001b[Aient rtum70:  78%|\u001b[34m███████████████████████████████████████████████████████████████████████████████▎                      \u001b[0m| 21/27 [00:59<00:15,  2.61s/it]\u001b[0m\n",
      "\u001b[Aient rtum70:  81%|\u001b[34m███████████████████████████████████████████████████████████████████████████████████                   \u001b[0m| 22/27 [01:01<00:13,  2.60s/it]\u001b[0m\n",
      "\u001b[Aient rtum70:  85%|\u001b[34m██████████████████████████████████████████████████████████████████████████████████████▉               \u001b[0m| 23/27 [01:04<00:10,  2.57s/it]\u001b[0m\n",
      "\u001b[Aient rtum70:  89%|\u001b[34m██████████████████████████████████████████████████████████████████████████████████████████▋           \u001b[0m| 24/27 [01:07<00:08,  2.67s/it]\u001b[0m\n",
      "\u001b[Aient rtum70:  93%|\u001b[34m██████████████████████████████████████████████████████████████████████████████████████████████▍       \u001b[0m| 25/27 [01:09<00:05,  2.62s/it]\u001b[0m\n",
      "\u001b[Aient rtum70:  96%|\u001b[34m██████████████████████████████████████████████████████████████████████████████████████████████████▏   \u001b[0m| 26/27 [01:12<00:02,  2.68s/it]\u001b[0m\n",
      "\u001b[Aient rtum70: 100%|\u001b[34m██████████████████████████████████████████████████████████████████████████████████████████████████████\u001b[0m| 27/27 [01:15<00:00,  2.69s/it]\u001b[0m\n",
      "Evaluating patients:  33%|\u001b[31m████████████████████████████████▋                                                                 \u001b[0m| 6/18 [07:06<13:44, 68.68s/it]\u001b[0m\n",
      "\u001b[A%|\u001b[34m                                                                                                                               \u001b[0m| 0/23 [00:00<?, ?it/s]\u001b[0m\n",
      "\u001b[Aient rtum19:   0%|\u001b[34m                                                                                                               \u001b[0m| 0/23 [00:00<?, ?it/s]\u001b[0m\n",
      "\u001b[Aient rtum19:   4%|\u001b[34m████▍                                                                                                  \u001b[0m| 1/23 [00:07<02:40,  7.31s/it]\u001b[0m\n",
      "\u001b[Aient rtum19:   9%|\u001b[34m████████▉                                                                                              \u001b[0m| 2/23 [00:09<01:34,  4.48s/it]\u001b[0m\n",
      "\u001b[Aient rtum19:  13%|\u001b[34m█████████████▍                                                                                         \u001b[0m| 3/23 [00:12<01:11,  3.55s/it]\u001b[0m\n",
      "\u001b[Aient rtum19:  17%|\u001b[34m█████████████████▉                                                                                     \u001b[0m| 4/23 [00:14<00:59,  3.14s/it]\u001b[0m\n",
      "\u001b[Aient rtum19:  22%|\u001b[34m██████████████████████▍                                                                                \u001b[0m| 5/23 [00:17<00:51,  2.89s/it]\u001b[0m\n",
      "\u001b[Aient rtum19:  26%|\u001b[34m██████████████████████████▊                                                                            \u001b[0m| 6/23 [00:19<00:46,  2.74s/it]\u001b[0m\n",
      "\u001b[Aient rtum19:  30%|\u001b[34m███████████████████████████████▎                                                                       \u001b[0m| 7/23 [00:22<00:42,  2.66s/it]\u001b[0m\n",
      "\u001b[Aient rtum19:  35%|\u001b[34m███████████████████████████████████▊                                                                   \u001b[0m| 8/23 [00:24<00:39,  2.60s/it]\u001b[0m\n",
      "\u001b[Aient rtum19:  39%|\u001b[34m████████████████████████████████████████▎                                                              \u001b[0m| 9/23 [00:27<00:35,  2.56s/it]\u001b[0m\n",
      "\u001b[Aient rtum19:  43%|\u001b[34m████████████████████████████████████████████▎                                                         \u001b[0m| 10/23 [00:29<00:33,  2.60s/it]\u001b[0m\n",
      "\u001b[Aient rtum19:  48%|\u001b[34m████████████████████████████████████████████████▊                                                     \u001b[0m| 11/23 [00:32<00:32,  2.70s/it]\u001b[0m\n",
      "\u001b[Aient rtum19:  52%|\u001b[34m█████████████████████████████████████████████████████▏                                                \u001b[0m| 12/23 [00:35<00:30,  2.78s/it]\u001b[0m\n",
      "\u001b[Aient rtum19:  57%|\u001b[34m█████████████████████████████████████████████████████████▋                                            \u001b[0m| 13/23 [00:38<00:26,  2.67s/it]\u001b[0m\n",
      "\u001b[Aient rtum19:  61%|\u001b[34m██████████████████████████████████████████████████████████████                                        \u001b[0m| 14/23 [00:40<00:23,  2.61s/it]\u001b[0m\n",
      "\u001b[Aient rtum19:  65%|\u001b[34m██████████████████████████████████████████████████████████████████▌                                   \u001b[0m| 15/23 [00:42<00:20,  2.56s/it]\u001b[0m\n",
      "\u001b[Aient rtum19:  70%|\u001b[34m██████████████████████████████████████████████████████████████████████▉                               \u001b[0m| 16/23 [00:45<00:17,  2.55s/it]\u001b[0m\n",
      "\u001b[Aient rtum19:  74%|\u001b[34m███████████████████████████████████████████████████████████████████████████▍                          \u001b[0m| 17/23 [00:48<00:15,  2.53s/it]\u001b[0m\n",
      "\u001b[Aient rtum19:  78%|\u001b[34m███████████████████████████████████████████████████████████████████████████████▊                      \u001b[0m| 18/23 [00:50<00:12,  2.53s/it]\u001b[0m\n",
      "\u001b[Aient rtum19:  83%|\u001b[34m████████████████████████████████████████████████████████████████████████████████████▎                 \u001b[0m| 19/23 [00:52<00:10,  2.50s/it]\u001b[0m\n",
      "\u001b[Aient rtum19:  87%|\u001b[34m████████████████████████████████████████████████████████████████████████████████████████▋             \u001b[0m| 20/23 [00:55<00:07,  2.50s/it]\u001b[0m\n",
      "\u001b[Aient rtum19:  91%|\u001b[34m█████████████████████████████████████████████████████████████████████████████████████████████▏        \u001b[0m| 21/23 [00:57<00:05,  2.50s/it]\u001b[0m\n",
      "\u001b[Aient rtum19:  96%|\u001b[34m█████████████████████████████████████████████████████████████████████████████████████████████████▌    \u001b[0m| 22/23 [01:00<00:02,  2.50s/it]\u001b[0m\n",
      "\u001b[Aient rtum19: 100%|\u001b[34m██████████████████████████████████████████████████████████████████████████████████████████████████████\u001b[0m| 23/23 [01:02<00:00,  2.29s/it]\u001b[0m\n",
      "Evaluating patients:  39%|\u001b[31m██████████████████████████████████████                                                            \u001b[0m| 7/18 [08:11<12:24, 67.71s/it]\u001b[0m\n",
      "\u001b[A%|\u001b[34m                                                                                                                               \u001b[0m| 0/29 [00:00<?, ?it/s]\u001b[0m\n",
      "\u001b[Aient rtum26:   0%|\u001b[34m                                                                                                               \u001b[0m| 0/29 [00:00<?, ?it/s]\u001b[0m\n",
      "\u001b[Aient rtum26:   3%|\u001b[34m███▌                                                                                                   \u001b[0m| 1/29 [00:06<03:10,  6.80s/it]\u001b[0m\n",
      "\u001b[Aient rtum26:   7%|\u001b[34m███████                                                                                                \u001b[0m| 2/29 [00:09<01:56,  4.32s/it]\u001b[0m\n",
      "\u001b[Aient rtum26:  10%|\u001b[34m██████████▋                                                                                            \u001b[0m| 3/29 [00:11<01:30,  3.50s/it]\u001b[0m\n",
      "\u001b[Aient rtum26:  14%|\u001b[34m██████████████▏                                                                                        \u001b[0m| 4/29 [00:14<01:17,  3.09s/it]\u001b[0m\n",
      "\u001b[Aient rtum26:  17%|\u001b[34m█████████████████▊                                                                                     \u001b[0m| 5/29 [00:16<01:09,  2.88s/it]\u001b[0m\n",
      "\u001b[Aient rtum26:  21%|\u001b[34m█████████████████████▎                                                                                 \u001b[0m| 6/29 [00:19<01:04,  2.81s/it]\u001b[0m\n",
      "\u001b[Aient rtum26:  24%|\u001b[34m████████████████████████▊                                                                              \u001b[0m| 7/29 [00:22<01:02,  2.84s/it]\u001b[0m\n",
      "\u001b[Aient rtum26:  28%|\u001b[34m████████████████████████████▍                                                                          \u001b[0m| 8/29 [00:25<01:01,  2.93s/it]\u001b[0m\n",
      "\u001b[Aient rtum26:  31%|\u001b[34m███████████████████████████████▉                                                                       \u001b[0m| 9/29 [00:29<01:02,  3.12s/it]\u001b[0m\n",
      "\u001b[Aient rtum26:  34%|\u001b[34m███████████████████████████████████▏                                                                  \u001b[0m| 10/29 [00:32<00:59,  3.14s/it]\u001b[0m\n",
      "\u001b[Aient rtum26:  38%|\u001b[34m██████████████████████████████████████▋                                                               \u001b[0m| 11/29 [00:35<00:57,  3.17s/it]\u001b[0m\n",
      "\u001b[Aient rtum26:  41%|\u001b[34m██████████████████████████████████████████▏                                                           \u001b[0m| 12/29 [00:38<00:54,  3.18s/it]\u001b[0m\n",
      "\u001b[Aient rtum26:  45%|\u001b[34m█████████████████████████████████████████████▋                                                        \u001b[0m| 13/29 [00:41<00:49,  3.08s/it]\u001b[0m\n",
      "\u001b[Aient rtum26:  48%|\u001b[34m█████████████████████████████████████████████████▏                                                    \u001b[0m| 14/29 [00:44<00:45,  3.01s/it]\u001b[0m\n",
      "\u001b[Aient rtum26:  52%|\u001b[34m████████████████████████████████████████████████████▊                                                 \u001b[0m| 15/29 [00:47<00:40,  2.92s/it]\u001b[0m\n",
      "\u001b[Aient rtum26:  55%|\u001b[34m████████████████████████████████████████████████████████▎                                             \u001b[0m| 16/29 [00:49<00:37,  2.85s/it]\u001b[0m\n",
      "\u001b[Aient rtum26:  59%|\u001b[34m███████████████████████████████████████████████████████████▊                                          \u001b[0m| 17/29 [00:52<00:33,  2.79s/it]\u001b[0m\n",
      "\u001b[Aient rtum26:  62%|\u001b[34m███████████████████████████████████████████████████████████████▎                                      \u001b[0m| 18/29 [00:55<00:30,  2.73s/it]\u001b[0m\n",
      "\u001b[Aient rtum26:  66%|\u001b[34m██████████████████████████████████████████████████████████████████▊                                   \u001b[0m| 19/29 [00:57<00:27,  2.72s/it]\u001b[0m\n",
      "\u001b[Aient rtum26:  69%|\u001b[34m██████████████████████████████████████████████████████████████████████▎                               \u001b[0m| 20/29 [01:01<00:26,  2.91s/it]\u001b[0m\n",
      "\u001b[Aient rtum26:  72%|\u001b[34m█████████████████████████████████████████████████████████████████████████▊                            \u001b[0m| 21/29 [01:04<00:23,  2.98s/it]\u001b[0m\n",
      "\u001b[Aient rtum26:  76%|\u001b[34m█████████████████████████████████████████████████████████████████████████████▍                        \u001b[0m| 22/29 [01:06<00:20,  2.89s/it]\u001b[0m\n",
      "\u001b[Aient rtum26:  79%|\u001b[34m████████████████████████████████████████████████████████████████████████████████▉                     \u001b[0m| 23/29 [01:09<00:17,  2.87s/it]\u001b[0m\n",
      "\u001b[Aient rtum26:  83%|\u001b[34m████████████████████████████████████████████████████████████████████████████████████▍                 \u001b[0m| 24/29 [01:12<00:14,  2.80s/it]\u001b[0m\n",
      "\u001b[Aient rtum26:  86%|\u001b[34m███████████████████████████████████████████████████████████████████████████████████████▉              \u001b[0m| 25/29 [01:15<00:11,  2.76s/it]\u001b[0m\n",
      "\u001b[Aient rtum26:  90%|\u001b[34m███████████████████████████████████████████████████████████████████████████████████████████▍          \u001b[0m| 26/29 [01:17<00:08,  2.74s/it]\u001b[0m\n",
      "\u001b[Aient rtum26:  93%|\u001b[34m██████████████████████████████████████████████████████████████████████████████████████████████▉       \u001b[0m| 27/29 [01:20<00:05,  2.77s/it]\u001b[0m\n",
      "\u001b[Aient rtum26:  97%|\u001b[34m██████████████████████████████████████████████████████████████████████████████████████████████████▍   \u001b[0m| 28/29 [01:23<00:02,  2.75s/it]\u001b[0m\n",
      "\u001b[Aient rtum26: 100%|\u001b[34m██████████████████████████████████████████████████████████████████████████████████████████████████████\u001b[0m| 29/29 [01:26<00:00,  2.76s/it]\u001b[0m\n",
      "Evaluating patients:  44%|\u001b[31m███████████████████████████████████████████▌                                                      \u001b[0m| 8/18 [09:41<12:27, 74.77s/it]\u001b[0m\n",
      "\u001b[A%|\u001b[34m                                                                                                                               \u001b[0m| 0/17 [00:00<?, ?it/s]\u001b[0m\n",
      "\u001b[Aient rtum13:   0%|\u001b[34m                                                                                                               \u001b[0m| 0/17 [00:00<?, ?it/s]\u001b[0m\n",
      "\u001b[Aient rtum13:   6%|\u001b[34m██████                                                                                                 \u001b[0m| 1/17 [00:09<02:30,  9.43s/it]\u001b[0m\n",
      "\u001b[Aient rtum13:  12%|\u001b[34m████████████                                                                                           \u001b[0m| 2/17 [00:12<01:25,  5.71s/it]\u001b[0m\n",
      "\u001b[Aient rtum13:  18%|\u001b[34m██████████████████▏                                                                                    \u001b[0m| 3/17 [00:15<01:01,  4.42s/it]\u001b[0m\n",
      "\u001b[Aient rtum13:  24%|\u001b[34m████████████████████████▏                                                                              \u001b[0m| 4/17 [00:18<00:50,  3.86s/it]\u001b[0m\n",
      "\u001b[Aient rtum13:  29%|\u001b[34m██████████████████████████████▎                                                                        \u001b[0m| 5/17 [00:21<00:43,  3.59s/it]\u001b[0m\n",
      "\u001b[Aient rtum13:  35%|\u001b[34m████████████████████████████████████▎                                                                  \u001b[0m| 6/17 [00:24<00:36,  3.36s/it]\u001b[0m\n",
      "\u001b[Aient rtum13:  41%|\u001b[34m██████████████████████████████████████████▍                                                            \u001b[0m| 7/17 [00:27<00:32,  3.26s/it]\u001b[0m\n",
      "\u001b[Aient rtum13:  47%|\u001b[34m████████████████████████████████████████████████▍                                                      \u001b[0m| 8/17 [00:30<00:28,  3.14s/it]\u001b[0m\n",
      "\u001b[Aient rtum13:  53%|\u001b[34m██████████████████████████████████████████████████████▌                                                \u001b[0m| 9/17 [00:33<00:25,  3.21s/it]\u001b[0m\n",
      "\u001b[Aient rtum13:  59%|\u001b[34m████████████████████████████████████████████████████████████                                          \u001b[0m| 10/17 [00:36<00:21,  3.13s/it]\u001b[0m\n",
      "\u001b[Aient rtum13:  65%|\u001b[34m██████████████████████████████████████████████████████████████████                                    \u001b[0m| 11/17 [00:40<00:19,  3.19s/it]\u001b[0m\n",
      "\u001b[Aient rtum13:  71%|\u001b[34m████████████████████████████████████████████████████████████████████████                              \u001b[0m| 12/17 [00:42<00:15,  3.12s/it]\u001b[0m\n",
      "\u001b[Aient rtum13:  76%|\u001b[34m██████████████████████████████████████████████████████████████████████████████                        \u001b[0m| 13/17 [00:45<00:11,  2.99s/it]\u001b[0m\n",
      "\u001b[Aient rtum13:  82%|\u001b[34m████████████████████████████████████████████████████████████████████████████████████                  \u001b[0m| 14/17 [00:48<00:08,  2.90s/it]\u001b[0m\n",
      "\u001b[Aient rtum13:  88%|\u001b[34m██████████████████████████████████████████████████████████████████████████████████████████            \u001b[0m| 15/17 [00:50<00:05,  2.81s/it]\u001b[0m\n",
      "\u001b[Aient rtum13:  94%|\u001b[34m████████████████████████████████████████████████████████████████████████████████████████████████      \u001b[0m| 16/17 [00:53<00:02,  2.87s/it]\u001b[0m\n",
      "\u001b[Aient rtum13: 100%|\u001b[34m██████████████████████████████████████████████████████████████████████████████████████████████████████\u001b[0m| 17/17 [00:56<00:00,  2.63s/it]\u001b[0m\n",
      "Evaluating patients:  50%|\u001b[31m█████████████████████████████████████████████████                                                 \u001b[0m| 9/18 [10:40<10:26, 69.62s/it]\u001b[0m\n",
      "\u001b[A%|\u001b[34m                                                                                                                               \u001b[0m| 0/31 [00:00<?, ?it/s]\u001b[0m\n",
      "\u001b[Aient rtum71:   0%|\u001b[34m                                                                                                               \u001b[0m| 0/31 [00:00<?, ?it/s]\u001b[0m\n",
      "\u001b[Aient rtum71:   3%|\u001b[34m███▎                                                                                                   \u001b[0m| 1/31 [00:07<03:35,  7.17s/it]\u001b[0m\n",
      "\u001b[Aient rtum71:   6%|\u001b[34m██████▋                                                                                                \u001b[0m| 2/31 [00:10<02:24,  4.97s/it]\u001b[0m\n",
      "\u001b[Aient rtum71:  10%|\u001b[34m█████████▉                                                                                             \u001b[0m| 3/31 [00:14<02:02,  4.38s/it]\u001b[0m\n",
      "\u001b[Aient rtum71:  13%|\u001b[34m█████████████▎                                                                                         \u001b[0m| 4/31 [00:17<01:49,  4.04s/it]\u001b[0m\n",
      "\u001b[Aient rtum71:  16%|\u001b[34m████████████████▌                                                                                      \u001b[0m| 5/31 [00:21<01:37,  3.76s/it]\u001b[0m\n",
      "\u001b[Aient rtum71:  19%|\u001b[34m███████████████████▉                                                                                   \u001b[0m| 6/31 [00:24<01:29,  3.56s/it]\u001b[0m\n",
      "\u001b[Aient rtum71:  23%|\u001b[34m███████████████████████▎                                                                               \u001b[0m| 7/31 [00:27<01:23,  3.47s/it]\u001b[0m\n",
      "\u001b[Aient rtum71:  26%|\u001b[34m██████████████████████████▌                                                                            \u001b[0m| 8/31 [00:30<01:18,  3.40s/it]\u001b[0m\n",
      "\u001b[Aient rtum71:  29%|\u001b[34m█████████████████████████████▉                                                                         \u001b[0m| 9/31 [00:34<01:13,  3.36s/it]\u001b[0m\n",
      "\u001b[Aient rtum71:  32%|\u001b[34m████████████████████████████████▉                                                                     \u001b[0m| 10/31 [00:37<01:08,  3.29s/it]\u001b[0m\n",
      "\u001b[Aient rtum71:  35%|\u001b[34m████████████████████████████████████▏                                                                 \u001b[0m| 11/31 [00:40<01:04,  3.23s/it]\u001b[0m\n",
      "\u001b[Aient rtum71:  39%|\u001b[34m███████████████████████████████████████▍                                                              \u001b[0m| 12/31 [00:43<01:00,  3.19s/it]\u001b[0m\n",
      "\u001b[Aient rtum71:  42%|\u001b[34m██████████████████████████████████████████▊                                                           \u001b[0m| 13/31 [00:46<00:56,  3.14s/it]\u001b[0m\n",
      "\u001b[Aient rtum71:  45%|\u001b[34m██████████████████████████████████████████████                                                        \u001b[0m| 14/31 [00:49<00:54,  3.23s/it]\u001b[0m\n",
      "\u001b[Aient rtum71:  48%|\u001b[34m█████████████████████████████████████████████████▎                                                    \u001b[0m| 15/31 [00:52<00:51,  3.20s/it]\u001b[0m\n",
      "\u001b[Aient rtum71:  52%|\u001b[34m████████████████████████████████████████████████████▋                                                 \u001b[0m| 16/31 [00:55<00:46,  3.09s/it]\u001b[0m\n",
      "\u001b[Aient rtum71:  55%|\u001b[34m███████████████████████████████████████████████████████▉                                              \u001b[0m| 17/31 [00:58<00:42,  3.04s/it]\u001b[0m\n",
      "\u001b[Aient rtum71:  58%|\u001b[34m███████████████████████████████████████████████████████████▏                                          \u001b[0m| 18/31 [01:01<00:39,  3.04s/it]\u001b[0m\n",
      "\u001b[Aient rtum71:  61%|\u001b[34m██████████████████████████████████████████████████████████████▌                                       \u001b[0m| 19/31 [01:05<00:37,  3.12s/it]\u001b[0m\n",
      "\u001b[Aient rtum71:  65%|\u001b[34m█████████████████████████████████████████████████████████████████▊                                    \u001b[0m| 20/31 [01:07<00:33,  3.01s/it]\u001b[0m\n",
      "\u001b[Aient rtum71:  68%|\u001b[34m█████████████████████████████████████████████████████████████████████                                 \u001b[0m| 21/31 [01:10<00:29,  3.00s/it]\u001b[0m\n",
      "\u001b[Aient rtum71:  71%|\u001b[34m████████████████████████████████████████████████████████████████████████▍                             \u001b[0m| 22/31 [01:13<00:26,  2.97s/it]\u001b[0m\n",
      "\u001b[Aient rtum71:  74%|\u001b[34m███████████████████████████████████████████████████████████████████████████▋                          \u001b[0m| 23/31 [01:16<00:23,  2.90s/it]\u001b[0m\n",
      "\u001b[Aient rtum71:  77%|\u001b[34m██████████████████████████████████████████████████████████████████████████████▉                       \u001b[0m| 24/31 [01:19<00:19,  2.83s/it]\u001b[0m\n",
      "\u001b[Aient rtum71:  81%|\u001b[34m██████████████████████████████████████████████████████████████████████████████████▎                   \u001b[0m| 25/31 [01:21<00:16,  2.83s/it]\u001b[0m\n",
      "\u001b[Aient rtum71:  84%|\u001b[34m█████████████████████████████████████████████████████████████████████████████████████▌                \u001b[0m| 26/31 [01:24<00:14,  2.84s/it]\u001b[0m\n",
      "\u001b[Aient rtum71:  87%|\u001b[34m████████████████████████████████████████████████████████████████████████████████████████▊             \u001b[0m| 27/31 [01:27<00:11,  2.79s/it]\u001b[0m\n",
      "\u001b[Aient rtum71:  90%|\u001b[34m████████████████████████████████████████████████████████████████████████████████████████████▏         \u001b[0m| 28/31 [01:30<00:08,  2.84s/it]\u001b[0m\n",
      "\u001b[Aient rtum71:  94%|\u001b[34m███████████████████████████████████████████████████████████████████████████████████████████████▍      \u001b[0m| 29/31 [01:32<00:05,  2.71s/it]\u001b[0m\n",
      "\u001b[Aient rtum71:  97%|\u001b[34m██████████████████████████████████████████████████████████████████████████████████████████████████▋   \u001b[0m| 30/31 [01:35<00:02,  2.68s/it]\u001b[0m\n",
      "\u001b[Aient rtum71: 100%|\u001b[34m██████████████████████████████████████████████████████████████████████████████████████████████████████\u001b[0m| 31/31 [01:36<00:00,  2.07s/it]\u001b[0m\n",
      "Evaluating patients:  56%|\u001b[31m█████████████████████████████████████████████████████▉                                           \u001b[0m| 10/18 [12:19<10:31, 78.95s/it]\u001b[0m\n",
      "\u001b[A%|\u001b[34m                                                                                                                               \u001b[0m| 0/30 [00:00<?, ?it/s]\u001b[0m\n",
      "\u001b[Aient rtum87:   0%|\u001b[34m                                                                                                               \u001b[0m| 0/30 [00:00<?, ?it/s]\u001b[0m\n",
      "\u001b[Aient rtum87:   3%|\u001b[34m███▍                                                                                                   \u001b[0m| 1/30 [00:06<03:14,  6.70s/it]\u001b[0m\n",
      "\u001b[Aient rtum87:   7%|\u001b[34m██████▊                                                                                                \u001b[0m| 2/30 [00:09<01:59,  4.27s/it]\u001b[0m\n",
      "\u001b[Aient rtum87:  10%|\u001b[34m██████████▎                                                                                            \u001b[0m| 3/30 [00:11<01:35,  3.54s/it]\u001b[0m\n",
      "\u001b[Aient rtum87:  13%|\u001b[34m█████████████▋                                                                                         \u001b[0m| 4/30 [00:14<01:21,  3.12s/it]\u001b[0m\n",
      "\u001b[Aient rtum87:  17%|\u001b[34m█████████████████▏                                                                                     \u001b[0m| 5/30 [00:17<01:18,  3.15s/it]\u001b[0m\n",
      "\u001b[Aient rtum87:  20%|\u001b[34m████████████████████▌                                                                                  \u001b[0m| 6/30 [00:20<01:12,  3.02s/it]\u001b[0m\n",
      "\u001b[Aient rtum87:  23%|\u001b[34m████████████████████████                                                                               \u001b[0m| 7/30 [00:23<01:07,  2.93s/it]\u001b[0m\n",
      "\u001b[Aient rtum87:  27%|\u001b[34m███████████████████████████▍                                                                           \u001b[0m| 8/30 [00:25<01:03,  2.90s/it]\u001b[0m\n",
      "\u001b[Aient rtum87:  30%|\u001b[34m██████████████████████████████▉                                                                        \u001b[0m| 9/30 [00:28<00:59,  2.85s/it]\u001b[0m\n",
      "\u001b[Aient rtum87:  33%|\u001b[34m██████████████████████████████████                                                                    \u001b[0m| 10/30 [00:31<00:56,  2.82s/it]\u001b[0m\n",
      "\u001b[Aient rtum87:  37%|\u001b[34m█████████████████████████████████████▍                                                                \u001b[0m| 11/30 [00:33<00:51,  2.72s/it]\u001b[0m\n",
      "\u001b[Aient rtum87:  40%|\u001b[34m████████████████████████████████████████▊                                                             \u001b[0m| 12/30 [00:36<00:47,  2.63s/it]\u001b[0m\n",
      "\u001b[Aient rtum87:  43%|\u001b[34m████████████████████████████████████████████▏                                                         \u001b[0m| 13/30 [00:38<00:44,  2.61s/it]\u001b[0m\n",
      "\u001b[Aient rtum87:  47%|\u001b[34m███████████████████████████████████████████████▌                                                      \u001b[0m| 14/30 [00:41<00:41,  2.59s/it]\u001b[0m\n",
      "\u001b[Aient rtum87:  50%|\u001b[34m███████████████████████████████████████████████████                                                   \u001b[0m| 15/30 [00:43<00:38,  2.54s/it]\u001b[0m\n",
      "\u001b[Aient rtum87:  53%|\u001b[34m██████████████████████████████████████████████████████▍                                               \u001b[0m| 16/30 [00:46<00:35,  2.55s/it]\u001b[0m\n",
      "\u001b[Aient rtum87:  57%|\u001b[34m█████████████████████████████████████████████████████████▊                                            \u001b[0m| 17/30 [00:49<00:34,  2.67s/it]\u001b[0m\n",
      "\u001b[Aient rtum87:  60%|\u001b[34m█████████████████████████████████████████████████████████████▏                                        \u001b[0m| 18/30 [00:52<00:33,  2.76s/it]\u001b[0m\n",
      "\u001b[Aient rtum87:  63%|\u001b[34m████████████████████████████████████████████████████████████████▌                                     \u001b[0m| 19/30 [00:54<00:29,  2.71s/it]\u001b[0m\n",
      "\u001b[Aient rtum87:  67%|\u001b[34m████████████████████████████████████████████████████████████████████                                  \u001b[0m| 20/30 [00:57<00:26,  2.66s/it]\u001b[0m\n",
      "\u001b[Aient rtum87:  70%|\u001b[34m███████████████████████████████████████████████████████████████████████▍                              \u001b[0m| 21/30 [01:00<00:23,  2.61s/it]\u001b[0m\n",
      "\u001b[Aient rtum87:  73%|\u001b[34m██████████████████████████████████████████████████████████████████████████▊                           \u001b[0m| 22/30 [01:02<00:20,  2.58s/it]\u001b[0m\n",
      "\u001b[Aient rtum87:  77%|\u001b[34m██████████████████████████████████████████████████████████████████████████████▏                       \u001b[0m| 23/30 [01:04<00:17,  2.54s/it]\u001b[0m\n",
      "\u001b[Aient rtum87:  80%|\u001b[34m█████████████████████████████████████████████████████████████████████████████████▌                    \u001b[0m| 24/30 [01:07<00:15,  2.53s/it]\u001b[0m\n",
      "\u001b[Aient rtum87:  83%|\u001b[34m█████████████████████████████████████████████████████████████████████████████████████                 \u001b[0m| 25/30 [01:09<00:12,  2.49s/it]\u001b[0m\n",
      "\u001b[Aient rtum87:  87%|\u001b[34m████████████████████████████████████████████████████████████████████████████████████████▍             \u001b[0m| 26/30 [01:12<00:10,  2.51s/it]\u001b[0m\n",
      "\u001b[Aient rtum87:  90%|\u001b[34m███████████████████████████████████████████████████████████████████████████████████████████▊          \u001b[0m| 27/30 [01:14<00:07,  2.49s/it]\u001b[0m\n",
      "\u001b[Aient rtum87:  93%|\u001b[34m███████████████████████████████████████████████████████████████████████████████████████████████▏      \u001b[0m| 28/30 [01:17<00:04,  2.48s/it]\u001b[0m\n",
      "\u001b[Aient rtum87:  97%|\u001b[34m██████████████████████████████████████████████████████████████████████████████████████████████████▌   \u001b[0m| 29/30 [01:19<00:02,  2.50s/it]\u001b[0m\n",
      "\u001b[Aient rtum87: 100%|\u001b[34m██████████████████████████████████████████████████████████████████████████████████████████████████████\u001b[0m| 30/30 [01:22<00:00,  2.57s/it]\u001b[0m\n",
      "Evaluating patients:  61%|\u001b[31m███████████████████████████████████████████████████████████▎                                     \u001b[0m| 11/18 [13:46<09:29, 81.31s/it]\u001b[0m\n",
      "\u001b[A%|\u001b[34m                                                                                                                               \u001b[0m| 0/29 [00:00<?, ?it/s]\u001b[0m\n",
      "\u001b[Aient rtum69:   0%|\u001b[34m                                                                                                               \u001b[0m| 0/29 [00:00<?, ?it/s]\u001b[0m\n",
      "\u001b[Aient rtum69:   3%|\u001b[34m███▌                                                                                                   \u001b[0m| 1/29 [00:07<03:42,  7.94s/it]\u001b[0m\n",
      "\u001b[Aient rtum69:   7%|\u001b[34m███████                                                                                                \u001b[0m| 2/29 [00:10<02:14,  4.99s/it]\u001b[0m\n",
      "\u001b[Aient rtum69:  10%|\u001b[34m██████████▋                                                                                            \u001b[0m| 3/29 [00:13<01:45,  4.04s/it]\u001b[0m\n",
      "\u001b[Aient rtum69:  14%|\u001b[34m██████████████▏                                                                                        \u001b[0m| 4/29 [00:16<01:29,  3.58s/it]\u001b[0m\n",
      "\u001b[Aient rtum69:  17%|\u001b[34m█████████████████▊                                                                                     \u001b[0m| 5/29 [00:19<01:19,  3.31s/it]\u001b[0m\n",
      "\u001b[Aient rtum69:  21%|\u001b[34m█████████████████████▎                                                                                 \u001b[0m| 6/29 [00:22<01:13,  3.18s/it]\u001b[0m\n",
      "\u001b[Aient rtum69:  24%|\u001b[34m████████████████████████▊                                                                              \u001b[0m| 7/29 [00:25<01:06,  3.03s/it]\u001b[0m\n",
      "\u001b[Aient rtum69:  28%|\u001b[34m████████████████████████████▍                                                                          \u001b[0m| 8/29 [00:28<01:03,  3.00s/it]\u001b[0m\n",
      "\u001b[Aient rtum69:  31%|\u001b[34m███████████████████████████████▉                                                                       \u001b[0m| 9/29 [00:31<01:02,  3.12s/it]\u001b[0m\n",
      "\u001b[Aient rtum69:  34%|\u001b[34m███████████████████████████████████▏                                                                  \u001b[0m| 10/29 [00:34<00:57,  3.03s/it]\u001b[0m\n",
      "\u001b[Aient rtum69:  38%|\u001b[34m██████████████████████████████████████▋                                                               \u001b[0m| 11/29 [00:36<00:52,  2.89s/it]\u001b[0m\n",
      "\u001b[Aient rtum69:  41%|\u001b[34m██████████████████████████████████████████▏                                                           \u001b[0m| 12/29 [00:39<00:46,  2.76s/it]\u001b[0m\n",
      "\u001b[Aient rtum69:  45%|\u001b[34m█████████████████████████████████████████████▋                                                        \u001b[0m| 13/29 [00:41<00:42,  2.67s/it]\u001b[0m\n",
      "\u001b[Aient rtum69:  48%|\u001b[34m█████████████████████████████████████████████████▏                                                    \u001b[0m| 14/29 [00:44<00:39,  2.64s/it]\u001b[0m\n",
      "\u001b[Aient rtum69:  52%|\u001b[34m████████████████████████████████████████████████████▊                                                 \u001b[0m| 15/29 [00:46<00:36,  2.62s/it]\u001b[0m\n",
      "\u001b[Aient rtum69:  55%|\u001b[34m████████████████████████████████████████████████████████▎                                             \u001b[0m| 16/29 [00:49<00:35,  2.75s/it]\u001b[0m\n",
      "\u001b[Aient rtum69:  59%|\u001b[34m███████████████████████████████████████████████████████████▊                                          \u001b[0m| 17/29 [00:53<00:34,  2.85s/it]\u001b[0m\n",
      "\u001b[Aient rtum69:  62%|\u001b[34m███████████████████████████████████████████████████████████████▎                                      \u001b[0m| 18/29 [00:55<00:31,  2.84s/it]\u001b[0m\n",
      "\u001b[Aient rtum69:  66%|\u001b[34m██████████████████████████████████████████████████████████████████▊                                   \u001b[0m| 19/29 [00:58<00:28,  2.86s/it]\u001b[0m\n",
      "\u001b[Aient rtum69:  69%|\u001b[34m██████████████████████████████████████████████████████████████████████▎                               \u001b[0m| 20/29 [01:01<00:25,  2.88s/it]\u001b[0m\n",
      "\u001b[Aient rtum69:  72%|\u001b[34m█████████████████████████████████████████████████████████████████████████▊                            \u001b[0m| 21/29 [01:04<00:23,  2.89s/it]\u001b[0m\n",
      "\u001b[Aient rtum69:  76%|\u001b[34m█████████████████████████████████████████████████████████████████████████████▍                        \u001b[0m| 22/29 [01:07<00:20,  2.87s/it]\u001b[0m\n",
      "\u001b[Aient rtum69:  79%|\u001b[34m████████████████████████████████████████████████████████████████████████████████▉                     \u001b[0m| 23/29 [01:10<00:17,  2.86s/it]\u001b[0m\n",
      "\u001b[Aient rtum69:  83%|\u001b[34m████████████████████████████████████████████████████████████████████████████████████▍                 \u001b[0m| 24/29 [01:13<00:14,  2.86s/it]\u001b[0m\n",
      "\u001b[Aient rtum69:  86%|\u001b[34m███████████████████████████████████████████████████████████████████████████████████████▉              \u001b[0m| 25/29 [01:16<00:11,  2.95s/it]\u001b[0m\n",
      "\u001b[Aient rtum69:  90%|\u001b[34m███████████████████████████████████████████████████████████████████████████████████████████▍          \u001b[0m| 26/29 [01:19<00:09,  3.02s/it]\u001b[0m\n",
      "\u001b[Aient rtum69:  93%|\u001b[34m██████████████████████████████████████████████████████████████████████████████████████████████▉       \u001b[0m| 27/29 [01:22<00:06,  3.04s/it]\u001b[0m\n",
      "\u001b[Aient rtum69:  97%|\u001b[34m██████████████████████████████████████████████████████████████████████████████████████████████████▍   \u001b[0m| 28/29 [01:25<00:02,  3.00s/it]\u001b[0m\n",
      "\u001b[Aient rtum69: 100%|\u001b[34m██████████████████████████████████████████████████████████████████████████████████████████████████████\u001b[0m| 29/29 [01:27<00:00,  2.66s/it]\u001b[0m\n",
      "Evaluating patients:  67%|\u001b[31m████████████████████████████████████████████████████████████████▋                                \u001b[0m| 12/18 [15:17<08:25, 84.20s/it]\u001b[0m\n",
      "\u001b[A%|\u001b[34m                                                                                                                               \u001b[0m| 0/25 [00:00<?, ?it/s]\u001b[0m\n",
      "\u001b[Aient rtum58:   0%|\u001b[34m                                                                                                               \u001b[0m| 0/25 [00:00<?, ?it/s]\u001b[0m\n",
      "\u001b[Aient rtum58:   4%|\u001b[34m████                                                                                                   \u001b[0m| 1/25 [00:08<03:14,  8.11s/it]\u001b[0m\n",
      "\u001b[Aient rtum58:   8%|\u001b[34m████████▏                                                                                              \u001b[0m| 2/25 [00:11<01:58,  5.17s/it]\u001b[0m\n",
      "\u001b[Aient rtum58:  12%|\u001b[34m████████████▎                                                                                          \u001b[0m| 3/25 [00:14<01:34,  4.29s/it]\u001b[0m\n",
      "\u001b[Aient rtum58:  16%|\u001b[34m████████████████▍                                                                                      \u001b[0m| 4/25 [00:17<01:19,  3.77s/it]\u001b[0m\n",
      "\u001b[Aient rtum58:  20%|\u001b[34m████████████████████▌                                                                                  \u001b[0m| 5/25 [00:20<01:12,  3.60s/it]\u001b[0m\n",
      "\u001b[Aient rtum58:  24%|\u001b[34m████████████████████████▋                                                                              \u001b[0m| 6/25 [00:24<01:07,  3.56s/it]\u001b[0m\n",
      "\u001b[Aient rtum58:  28%|\u001b[34m████████████████████████████▊                                                                          \u001b[0m| 7/25 [00:27<01:00,  3.35s/it]\u001b[0m\n",
      "\u001b[Aient rtum58:  32%|\u001b[34m████████████████████████████████▉                                                                      \u001b[0m| 8/25 [00:30<00:55,  3.25s/it]\u001b[0m\n",
      "\u001b[Aient rtum58:  36%|\u001b[34m█████████████████████████████████████                                                                  \u001b[0m| 9/25 [00:33<00:51,  3.21s/it]\u001b[0m\n",
      "\u001b[Aient rtum58:  40%|\u001b[34m████████████████████████████████████████▊                                                             \u001b[0m| 10/25 [00:36<00:48,  3.21s/it]\u001b[0m\n",
      "\u001b[Aient rtum58:  44%|\u001b[34m████████████████████████████████████████████▉                                                         \u001b[0m| 11/25 [00:39<00:44,  3.17s/it]\u001b[0m\n",
      "\u001b[Aient rtum58:  48%|\u001b[34m████████████████████████████████████████████████▉                                                     \u001b[0m| 12/25 [00:42<00:40,  3.13s/it]\u001b[0m\n",
      "\u001b[Aient rtum58:  52%|\u001b[34m█████████████████████████████████████████████████████                                                 \u001b[0m| 13/25 [00:45<00:36,  3.08s/it]\u001b[0m\n",
      "\u001b[Aient rtum58:  56%|\u001b[34m█████████████████████████████████████████████████████████                                             \u001b[0m| 14/25 [00:48<00:34,  3.15s/it]\u001b[0m\n",
      "\u001b[Aient rtum58:  60%|\u001b[34m█████████████████████████████████████████████████████████████▏                                        \u001b[0m| 15/25 [00:51<00:31,  3.11s/it]\u001b[0m\n",
      "\u001b[Aient rtum58:  64%|\u001b[34m█████████████████████████████████████████████████████████████████▎                                    \u001b[0m| 16/25 [00:55<00:29,  3.25s/it]\u001b[0m\n",
      "\u001b[Aient rtum58:  68%|\u001b[34m█████████████████████████████████████████████████████████████████████▎                                \u001b[0m| 17/25 [00:58<00:25,  3.22s/it]\u001b[0m\n",
      "\u001b[Aient rtum58:  72%|\u001b[34m█████████████████████████████████████████████████████████████████████████▍                            \u001b[0m| 18/25 [01:01<00:22,  3.18s/it]\u001b[0m\n",
      "\u001b[Aient rtum58:  76%|\u001b[34m█████████████████████████████████████████████████████████████████████████████▌                        \u001b[0m| 19/25 [01:04<00:18,  3.16s/it]\u001b[0m\n",
      "\u001b[Aient rtum58:  80%|\u001b[34m█████████████████████████████████████████████████████████████████████████████████▌                    \u001b[0m| 20/25 [01:07<00:15,  3.13s/it]\u001b[0m\n",
      "\u001b[Aient rtum58:  84%|\u001b[34m█████████████████████████████████████████████████████████████████████████████████████▋                \u001b[0m| 21/25 [01:10<00:12,  3.07s/it]\u001b[0m\n",
      "\u001b[Aient rtum58:  88%|\u001b[34m█████████████████████████████████████████████████████████████████████████████████████████▊            \u001b[0m| 22/25 [01:13<00:09,  3.07s/it]\u001b[0m\n",
      "\u001b[Aient rtum58:  92%|\u001b[34m█████████████████████████████████████████████████████████████████████████████████████████████▊        \u001b[0m| 23/25 [01:16<00:06,  3.06s/it]\u001b[0m\n",
      "\u001b[Aient rtum58:  96%|\u001b[34m█████████████████████████████████████████████████████████████████████████████████████████████████▉    \u001b[0m| 24/25 [01:20<00:03,  3.10s/it]\u001b[0m\n",
      "\u001b[Aient rtum58: 100%|\u001b[34m██████████████████████████████████████████████████████████████████████████████████████████████████████\u001b[0m| 25/25 [01:23<00:00,  3.08s/it]\u001b[0m\n",
      "Evaluating patients:  72%|\u001b[31m██████████████████████████████████████████████████████████████████████                           \u001b[0m| 13/18 [16:44<07:04, 84.94s/it]\u001b[0m\n",
      "\u001b[A%|\u001b[34m                                                                                                                               \u001b[0m| 0/27 [00:00<?, ?it/s]\u001b[0m\n",
      "\u001b[Aient rtum82:   0%|\u001b[34m                                                                                                               \u001b[0m| 0/27 [00:00<?, ?it/s]\u001b[0m\n",
      "\u001b[Aient rtum82:   4%|\u001b[34m███▊                                                                                                   \u001b[0m| 1/27 [00:08<03:41,  8.51s/it]\u001b[0m\n",
      "\u001b[Aient rtum82:   7%|\u001b[34m███████▋                                                                                               \u001b[0m| 2/27 [00:11<02:09,  5.17s/it]\u001b[0m\n",
      "\u001b[Aient rtum82:  11%|\u001b[34m███████████▍                                                                                           \u001b[0m| 3/27 [00:14<01:39,  4.15s/it]\u001b[0m\n",
      "\u001b[Aient rtum82:  15%|\u001b[34m███████████████▎                                                                                       \u001b[0m| 4/27 [00:17<01:24,  3.67s/it]\u001b[0m\n",
      "\u001b[Aient rtum82:  19%|\u001b[34m███████████████████                                                                                    \u001b[0m| 5/27 [00:20<01:14,  3.37s/it]\u001b[0m\n",
      "\u001b[Aient rtum82:  22%|\u001b[34m██████████████████████▉                                                                                \u001b[0m| 6/27 [00:22<01:07,  3.21s/it]\u001b[0m\n",
      "\u001b[Aient rtum82:  26%|\u001b[34m██████████████████████████▋                                                                            \u001b[0m| 7/27 [00:26<01:03,  3.17s/it]\u001b[0m\n",
      "\u001b[Aient rtum82:  30%|\u001b[34m██████████████████████████████▌                                                                        \u001b[0m| 8/27 [00:29<01:00,  3.18s/it]\u001b[0m\n",
      "\u001b[Aient rtum82:  33%|\u001b[34m██████████████████████████████████▎                                                                    \u001b[0m| 9/27 [00:32<00:56,  3.12s/it]\u001b[0m\n",
      "\u001b[Aient rtum82:  37%|\u001b[34m█████████████████████████████████████▊                                                                \u001b[0m| 10/27 [00:35<00:55,  3.26s/it]\u001b[0m\n",
      "\u001b[Aient rtum82:  41%|\u001b[34m█████████████████████████████████████████▌                                                            \u001b[0m| 11/27 [00:39<00:52,  3.26s/it]\u001b[0m\n",
      "\u001b[Aient rtum82:  44%|\u001b[34m█████████████████████████████████████████████▎                                                        \u001b[0m| 12/27 [00:42<00:47,  3.17s/it]\u001b[0m\n",
      "\u001b[Aient rtum82:  48%|\u001b[34m█████████████████████████████████████████████████                                                     \u001b[0m| 13/27 [00:44<00:42,  3.06s/it]\u001b[0m\n",
      "\u001b[Aient rtum82:  52%|\u001b[34m████████████████████████████████████████████████████▉                                                 \u001b[0m| 14/27 [00:47<00:39,  3.04s/it]\u001b[0m\n",
      "\u001b[Aient rtum82:  56%|\u001b[34m████████████████████████████████████████████████████████▋                                             \u001b[0m| 15/27 [00:50<00:36,  3.07s/it]\u001b[0m\n",
      "\u001b[Aient rtum82:  59%|\u001b[34m████████████████████████████████████████████████████████████▍                                         \u001b[0m| 16/27 [00:54<00:33,  3.08s/it]\u001b[0m\n",
      "\u001b[Aient rtum82:  63%|\u001b[34m████████████████████████████████████████████████████████████████▏                                     \u001b[0m| 17/27 [00:57<00:30,  3.05s/it]\u001b[0m\n",
      "\u001b[Aient rtum82:  67%|\u001b[34m████████████████████████████████████████████████████████████████████                                  \u001b[0m| 18/27 [00:59<00:26,  3.00s/it]\u001b[0m\n",
      "\u001b[Aient rtum82:  70%|\u001b[34m███████████████████████████████████████████████████████████████████████▊                              \u001b[0m| 19/27 [01:02<00:23,  2.97s/it]\u001b[0m\n",
      "\u001b[Aient rtum82:  74%|\u001b[34m███████████████████████████████████████████████████████████████████████████▌                          \u001b[0m| 20/27 [01:05<00:20,  3.00s/it]\u001b[0m\n",
      "\u001b[Aient rtum82:  78%|\u001b[34m███████████████████████████████████████████████████████████████████████████████▎                      \u001b[0m| 21/27 [01:09<00:18,  3.09s/it]\u001b[0m\n",
      "\u001b[Aient rtum82:  81%|\u001b[34m███████████████████████████████████████████████████████████████████████████████████                   \u001b[0m| 22/27 [01:12<00:15,  3.19s/it]\u001b[0m\n",
      "\u001b[Aient rtum82:  85%|\u001b[34m██████████████████████████████████████████████████████████████████████████████████████▉               \u001b[0m| 23/27 [01:15<00:12,  3.06s/it]\u001b[0m\n",
      "\u001b[Aient rtum82:  89%|\u001b[34m██████████████████████████████████████████████████████████████████████████████████████████▋           \u001b[0m| 24/27 [01:18<00:08,  2.96s/it]\u001b[0m\n",
      "\u001b[Aient rtum82:  93%|\u001b[34m██████████████████████████████████████████████████████████████████████████████████████████████▍       \u001b[0m| 25/27 [01:20<00:05,  2.90s/it]\u001b[0m\n",
      "\u001b[Aient rtum82:  96%|\u001b[34m██████████████████████████████████████████████████████████████████████████████████████████████████▏   \u001b[0m| 26/27 [01:23<00:02,  2.91s/it]\u001b[0m\n",
      "\u001b[Aient rtum82: 100%|\u001b[34m██████████████████████████████████████████████████████████████████████████████████████████████████████\u001b[0m| 27/27 [01:26<00:00,  2.82s/it]\u001b[0m\n",
      "Evaluating patients:  78%|\u001b[31m███████████████████████████████████████████████████████████████████████████▍                     \u001b[0m| 14/18 [18:14<05:46, 86.59s/it]\u001b[0m\n",
      "\u001b[A%|\u001b[34m                                                                                                                               \u001b[0m| 0/34 [00:00<?, ?it/s]\u001b[0m\n",
      "\u001b[Aient rtum86:   0%|\u001b[34m                                                                                                               \u001b[0m| 0/34 [00:00<?, ?it/s]\u001b[0m\n",
      "\u001b[Aient rtum86:   3%|\u001b[34m███                                                                                                    \u001b[0m| 1/34 [00:07<04:19,  7.87s/it]\u001b[0m\n",
      "\u001b[Aient rtum86:   6%|\u001b[34m██████                                                                                                 \u001b[0m| 2/34 [00:11<02:42,  5.09s/it]\u001b[0m\n",
      "\u001b[Aient rtum86:   9%|\u001b[34m█████████                                                                                              \u001b[0m| 3/34 [00:14<02:15,  4.36s/it]\u001b[0m\n",
      "\u001b[Aient rtum86:  12%|\u001b[34m████████████                                                                                           \u001b[0m| 4/34 [00:18<02:03,  4.13s/it]\u001b[0m\n",
      "\u001b[Aient rtum86:  15%|\u001b[34m███████████████▏                                                                                       \u001b[0m| 5/34 [00:21<01:49,  3.77s/it]\u001b[0m\n",
      "\u001b[Aient rtum86:  18%|\u001b[34m██████████████████▏                                                                                    \u001b[0m| 6/34 [00:24<01:39,  3.54s/it]\u001b[0m\n",
      "\u001b[Aient rtum86:  21%|\u001b[34m█████████████████████▏                                                                                 \u001b[0m| 7/34 [00:27<01:30,  3.35s/it]\u001b[0m\n",
      "\u001b[Aient rtum86:  24%|\u001b[34m████████████████████████▏                                                                              \u001b[0m| 8/34 [00:30<01:24,  3.23s/it]\u001b[0m\n",
      "\u001b[Aient rtum86:  26%|\u001b[34m███████████████████████████▎                                                                           \u001b[0m| 9/34 [00:32<01:15,  3.01s/it]\u001b[0m\n",
      "\u001b[Aient rtum86:  29%|\u001b[34m██████████████████████████████                                                                        \u001b[0m| 10/34 [00:35<01:09,  2.88s/it]\u001b[0m\n",
      "\u001b[Aient rtum86:  32%|\u001b[34m█████████████████████████████████                                                                     \u001b[0m| 11/34 [00:38<01:04,  2.81s/it]\u001b[0m\n",
      "\u001b[Aient rtum86:  35%|\u001b[34m████████████████████████████████████                                                                  \u001b[0m| 12/34 [00:40<01:01,  2.77s/it]\u001b[0m\n",
      "\u001b[Aient rtum86:  38%|\u001b[34m███████████████████████████████████████                                                               \u001b[0m| 13/34 [00:43<00:58,  2.79s/it]\u001b[0m\n",
      "\u001b[Aient rtum86:  41%|\u001b[34m██████████████████████████████████████████                                                            \u001b[0m| 14/34 [00:46<00:56,  2.81s/it]\u001b[0m\n",
      "\u001b[Aient rtum86:  44%|\u001b[34m█████████████████████████████████████████████                                                         \u001b[0m| 15/34 [00:49<00:54,  2.85s/it]\u001b[0m\n",
      "\u001b[Aient rtum86:  47%|\u001b[34m████████████████████████████████████████████████                                                      \u001b[0m| 16/34 [00:52<00:53,  2.96s/it]\u001b[0m\n",
      "\u001b[Aient rtum86:  50%|\u001b[34m███████████████████████████████████████████████████                                                   \u001b[0m| 17/34 [00:55<00:50,  2.99s/it]\u001b[0m\n",
      "\u001b[Aient rtum86:  53%|\u001b[34m██████████████████████████████████████████████████████                                                \u001b[0m| 18/34 [00:59<00:49,  3.07s/it]\u001b[0m\n",
      "\u001b[Aient rtum86:  56%|\u001b[34m█████████████████████████████████████████████████████████                                             \u001b[0m| 19/34 [01:02<00:47,  3.19s/it]\u001b[0m\n",
      "\u001b[Aient rtum86:  59%|\u001b[34m████████████████████████████████████████████████████████████                                          \u001b[0m| 20/34 [01:06<00:46,  3.30s/it]\u001b[0m\n",
      "\u001b[Aient rtum86:  62%|\u001b[34m███████████████████████████████████████████████████████████████                                       \u001b[0m| 21/34 [01:08<00:40,  3.12s/it]\u001b[0m\n",
      "\u001b[Aient rtum86:  65%|\u001b[34m██████████████████████████████████████████████████████████████████                                    \u001b[0m| 22/34 [01:11<00:35,  2.96s/it]\u001b[0m\n",
      "\u001b[Aient rtum86:  68%|\u001b[34m█████████████████████████████████████████████████████████████████████                                 \u001b[0m| 23/34 [01:13<00:31,  2.86s/it]\u001b[0m\n",
      "\u001b[Aient rtum86:  71%|\u001b[34m████████████████████████████████████████████████████████████████████████                              \u001b[0m| 24/34 [01:16<00:27,  2.78s/it]\u001b[0m\n",
      "\u001b[Aient rtum86:  74%|\u001b[34m███████████████████████████████████████████████████████████████████████████                           \u001b[0m| 25/34 [01:19<00:24,  2.70s/it]\u001b[0m\n",
      "\u001b[Aient rtum86:  76%|\u001b[34m██████████████████████████████████████████████████████████████████████████████                        \u001b[0m| 26/34 [01:21<00:21,  2.63s/it]\u001b[0m\n",
      "\u001b[Aient rtum86:  79%|\u001b[34m█████████████████████████████████████████████████████████████████████████████████                     \u001b[0m| 27/34 [01:24<00:18,  2.58s/it]\u001b[0m\n",
      "\u001b[Aient rtum86:  82%|\u001b[34m████████████████████████████████████████████████████████████████████████████████████                  \u001b[0m| 28/34 [01:26<00:15,  2.56s/it]\u001b[0m\n",
      "\u001b[Aient rtum86:  85%|\u001b[34m███████████████████████████████████████████████████████████████████████████████████████               \u001b[0m| 29/34 [01:28<00:12,  2.53s/it]\u001b[0m\n",
      "\u001b[Aient rtum86:  88%|\u001b[34m██████████████████████████████████████████████████████████████████████████████████████████            \u001b[0m| 30/34 [01:31<00:10,  2.50s/it]\u001b[0m\n",
      "\u001b[Aient rtum86:  91%|\u001b[34m█████████████████████████████████████████████████████████████████████████████████████████████         \u001b[0m| 31/34 [01:34<00:07,  2.57s/it]\u001b[0m\n",
      "\u001b[Aient rtum86:  94%|\u001b[34m████████████████████████████████████████████████████████████████████████████████████████████████      \u001b[0m| 32/34 [01:37<00:05,  2.77s/it]\u001b[0m\n",
      "\u001b[Aient rtum86:  97%|\u001b[34m███████████████████████████████████████████████████████████████████████████████████████████████████   \u001b[0m| 33/34 [01:40<00:02,  2.75s/it]\u001b[0m\n",
      "\u001b[Aient rtum86: 100%|\u001b[34m██████████████████████████████████████████████████████████████████████████████████████████████████████\u001b[0m| 34/34 [01:40<00:00,  2.12s/it]\u001b[0m\n",
      "Evaluating patients:  83%|\u001b[31m████████████████████████████████████████████████████████████████████████████████▊                \u001b[0m| 15/18 [19:59<04:36, 92.11s/it]\u001b[0m\n",
      "\u001b[A%|\u001b[34m                                                                                                                               \u001b[0m| 0/26 [00:00<?, ?it/s]\u001b[0m\n",
      "\u001b[Aient rtum68:   0%|\u001b[34m                                                                                                               \u001b[0m| 0/26 [00:00<?, ?it/s]\u001b[0m\n",
      "\u001b[Aient rtum68:   4%|\u001b[34m███▉                                                                                                   \u001b[0m| 1/26 [00:06<02:50,  6.82s/it]\u001b[0m\n",
      "\u001b[Aient rtum68:   8%|\u001b[34m███████▉                                                                                               \u001b[0m| 2/26 [00:09<01:42,  4.27s/it]\u001b[0m\n",
      "\u001b[Aient rtum68:  12%|\u001b[34m███████████▉                                                                                           \u001b[0m| 3/26 [00:11<01:19,  3.44s/it]\u001b[0m\n",
      "\u001b[Aient rtum68:  15%|\u001b[34m███████████████▊                                                                                       \u001b[0m| 4/26 [00:14<01:07,  3.06s/it]\u001b[0m\n",
      "\u001b[Aient rtum68:  19%|\u001b[34m███████████████████▊                                                                                   \u001b[0m| 5/26 [00:16<00:59,  2.84s/it]\u001b[0m\n",
      "\u001b[Aient rtum68:  23%|\u001b[34m███████████████████████▊                                                                               \u001b[0m| 6/26 [00:19<00:54,  2.75s/it]\u001b[0m\n",
      "\u001b[Aient rtum68:  27%|\u001b[34m███████████████████████████▋                                                                           \u001b[0m| 7/26 [00:21<00:50,  2.68s/it]\u001b[0m\n",
      "\u001b[Aient rtum68:  31%|\u001b[34m███████████████████████████████▋                                                                       \u001b[0m| 8/26 [00:24<00:51,  2.83s/it]\u001b[0m\n",
      "\u001b[Aient rtum68:  35%|\u001b[34m███████████████████████████████████▋                                                                   \u001b[0m| 9/26 [00:27<00:48,  2.84s/it]\u001b[0m\n",
      "\u001b[Aient rtum68:  38%|\u001b[34m███████████████████████████████████████▏                                                              \u001b[0m| 10/26 [00:30<00:44,  2.77s/it]\u001b[0m\n",
      "\u001b[Aient rtum68:  42%|\u001b[34m███████████████████████████████████████████▏                                                          \u001b[0m| 11/26 [00:32<00:40,  2.68s/it]\u001b[0m\n",
      "\u001b[Aient rtum68:  46%|\u001b[34m███████████████████████████████████████████████                                                       \u001b[0m| 12/26 [00:35<00:36,  2.61s/it]\u001b[0m\n",
      "\u001b[Aient rtum68:  50%|\u001b[34m███████████████████████████████████████████████████                                                   \u001b[0m| 13/26 [00:37<00:33,  2.56s/it]\u001b[0m\n",
      "\u001b[Aient rtum68:  54%|\u001b[34m██████████████████████████████████████████████████████▉                                               \u001b[0m| 14/26 [00:40<00:30,  2.55s/it]\u001b[0m\n",
      "\u001b[Aient rtum68:  58%|\u001b[34m██████████████████████████████████████████████████████████▊                                           \u001b[0m| 15/26 [00:42<00:27,  2.52s/it]\u001b[0m\n",
      "\u001b[Aient rtum68:  62%|\u001b[34m██████████████████████████████████████████████████████████████▊                                       \u001b[0m| 16/26 [00:45<00:25,  2.50s/it]\u001b[0m\n",
      "\u001b[Aient rtum68:  65%|\u001b[34m██████████████████████████████████████████████████████████████████▋                                   \u001b[0m| 17/26 [00:47<00:23,  2.58s/it]\u001b[0m\n",
      "\u001b[Aient rtum68:  69%|\u001b[34m██████████████████████████████████████████████████████████████████████▌                               \u001b[0m| 18/26 [00:50<00:21,  2.67s/it]\u001b[0m\n",
      "\u001b[Aient rtum68:  73%|\u001b[34m██████████████████████████████████████████████████████████████████████████▌                           \u001b[0m| 19/26 [00:53<00:19,  2.78s/it]\u001b[0m\n",
      "\u001b[Aient rtum68:  77%|\u001b[34m██████████████████████████████████████████████████████████████████████████████▍                       \u001b[0m| 20/26 [00:56<00:16,  2.77s/it]\u001b[0m\n",
      "\u001b[Aient rtum68:  81%|\u001b[34m██████████████████████████████████████████████████████████████████████████████████▍                   \u001b[0m| 21/26 [00:59<00:14,  2.91s/it]\u001b[0m\n",
      "\u001b[Aient rtum68:  85%|\u001b[34m██████████████████████████████████████████████████████████████████████████████████████▎               \u001b[0m| 22/26 [01:03<00:12,  3.02s/it]\u001b[0m\n",
      "\u001b[Aient rtum68:  88%|\u001b[34m██████████████████████████████████████████████████████████████████████████████████████████▏           \u001b[0m| 23/26 [01:05<00:08,  2.92s/it]\u001b[0m\n",
      "\u001b[Aient rtum68:  92%|\u001b[34m██████████████████████████████████████████████████████████████████████████████████████████████▏       \u001b[0m| 24/26 [01:08<00:05,  2.81s/it]\u001b[0m\n",
      "\u001b[Aient rtum68:  96%|\u001b[34m██████████████████████████████████████████████████████████████████████████████████████████████████    \u001b[0m| 25/26 [01:11<00:02,  2.76s/it]\u001b[0m\n",
      "\u001b[Aient rtum68: 100%|\u001b[34m██████████████████████████████████████████████████████████████████████████████████████████████████████\u001b[0m| 26/26 [01:11<00:00,  2.17s/it]\u001b[0m\n",
      "Evaluating patients:  89%|\u001b[31m██████████████████████████████████████████████████████████████████████████████████████▏          \u001b[0m| 16/18 [21:14<02:54, 87.08s/it]\u001b[0m\n",
      "\u001b[A%|\u001b[34m                                                                                                                               \u001b[0m| 0/15 [00:00<?, ?it/s]\u001b[0m\n",
      "\u001b[Aient rtum4:   0%|\u001b[34m                                                                                                                \u001b[0m| 0/15 [00:00<?, ?it/s]\u001b[0m\n",
      "\u001b[Aient rtum4:   7%|\u001b[34m██████▉                                                                                                 \u001b[0m| 1/15 [00:07<01:44,  7.48s/it]\u001b[0m\n",
      "\u001b[Aient rtum4:  13%|\u001b[34m█████████████▊                                                                                          \u001b[0m| 2/15 [00:10<01:03,  4.85s/it]\u001b[0m\n",
      "\u001b[Aient rtum4:  20%|\u001b[34m████████████████████▊                                                                                   \u001b[0m| 3/15 [00:13<00:46,  3.91s/it]\u001b[0m\n",
      "\u001b[Aient rtum4:  27%|\u001b[34m███████████████████████████▋                                                                            \u001b[0m| 4/15 [00:16<00:41,  3.79s/it]\u001b[0m\n",
      "\u001b[Aient rtum4:  33%|\u001b[34m██████████████████████████████████▋                                                                     \u001b[0m| 5/15 [00:20<00:35,  3.58s/it]\u001b[0m\n",
      "\u001b[Aient rtum4:  40%|\u001b[34m█████████████████████████████████████████▌                                                              \u001b[0m| 6/15 [00:23<00:30,  3.38s/it]\u001b[0m\n",
      "\u001b[Aient rtum4:  47%|\u001b[34m████████████████████████████████████████████████▌                                                       \u001b[0m| 7/15 [00:25<00:25,  3.17s/it]\u001b[0m\n",
      "\u001b[Aient rtum4:  53%|\u001b[34m███████████████████████████████████████████████████████▍                                                \u001b[0m| 8/15 [00:29<00:22,  3.23s/it]\u001b[0m\n",
      "\u001b[Aient rtum4:  60%|\u001b[34m██████████████████████████████████████████████████████████████▍                                         \u001b[0m| 9/15 [00:32<00:19,  3.28s/it]\u001b[0m\n",
      "\u001b[Aient rtum4:  67%|\u001b[34m████████████████████████████████████████████████████████████████████▋                                  \u001b[0m| 10/15 [00:35<00:16,  3.23s/it]\u001b[0m\n",
      "\u001b[Aient rtum4:  73%|\u001b[34m███████████████████████████████████████████████████████████████████████████▌                           \u001b[0m| 11/15 [00:38<00:12,  3.16s/it]\u001b[0m\n",
      "\u001b[Aient rtum4:  80%|\u001b[34m██████████████████████████████████████████████████████████████████████████████████▍                    \u001b[0m| 12/15 [00:41<00:09,  3.05s/it]\u001b[0m\n",
      "\u001b[Aient rtum4:  87%|\u001b[34m█████████████████████████████████████████████████████████████████████████████████████████▎             \u001b[0m| 13/15 [00:44<00:05,  2.97s/it]\u001b[0m\n",
      "\u001b[Aient rtum4:  93%|\u001b[34m████████████████████████████████████████████████████████████████████████████████████████████████▏      \u001b[0m| 14/15 [00:47<00:02,  2.93s/it]\u001b[0m\n",
      "\u001b[Aient rtum4: 100%|\u001b[34m███████████████████████████████████████████████████████████████████████████████████████████████████████\u001b[0m| 15/15 [00:49<00:00,  2.87s/it]\u001b[0m\n",
      "Evaluating patients:  94%|\u001b[31m███████████████████████████████████████████████████████████████████████████████████████████▌     \u001b[0m| 17/18 [22:07<01:16, 76.69s/it]\u001b[0m\n",
      "\u001b[A%|\u001b[34m                                                                                                                               \u001b[0m| 0/35 [00:00<?, ?it/s]\u001b[0m\n",
      "\u001b[Aient rtum81:   0%|\u001b[34m                                                                                                               \u001b[0m| 0/35 [00:00<?, ?it/s]\u001b[0m\n",
      "\u001b[Aient rtum81:   3%|\u001b[34m██▉                                                                                                    \u001b[0m| 1/35 [00:08<04:48,  8.49s/it]\u001b[0m\n",
      "\u001b[Aient rtum81:   6%|\u001b[34m█████▉                                                                                                 \u001b[0m| 2/35 [00:11<02:45,  5.02s/it]\u001b[0m\n",
      "\u001b[Aient rtum81:   9%|\u001b[34m████████▊                                                                                              \u001b[0m| 3/35 [00:13<02:03,  3.87s/it]\u001b[0m\n",
      "\u001b[Aient rtum81:  11%|\u001b[34m███████████▊                                                                                           \u001b[0m| 4/35 [00:16<01:49,  3.53s/it]\u001b[0m\n",
      "\u001b[Aient rtum81:  14%|\u001b[34m██████████████▋                                                                                        \u001b[0m| 5/35 [00:19<01:36,  3.21s/it]\u001b[0m\n",
      "\u001b[Aient rtum81:  17%|\u001b[34m█████████████████▋                                                                                     \u001b[0m| 6/35 [00:22<01:32,  3.19s/it]\u001b[0m\n",
      "\u001b[Aient rtum81:  20%|\u001b[34m████████████████████▌                                                                                  \u001b[0m| 7/35 [00:25<01:29,  3.21s/it]\u001b[0m\n",
      "\u001b[Aient rtum81:  23%|\u001b[34m███████████████████████▌                                                                               \u001b[0m| 8/35 [00:28<01:24,  3.14s/it]\u001b[0m\n",
      "\u001b[Aient rtum81:  26%|\u001b[34m██████████████████████████▍                                                                            \u001b[0m| 9/35 [00:31<01:20,  3.10s/it]\u001b[0m\n",
      "\u001b[Aient rtum81:  29%|\u001b[34m█████████████████████████████▏                                                                        \u001b[0m| 10/35 [00:35<01:19,  3.18s/it]\u001b[0m\n",
      "\u001b[Aient rtum81:  31%|\u001b[34m████████████████████████████████                                                                      \u001b[0m| 11/35 [00:38<01:17,  3.23s/it]\u001b[0m\n",
      "\u001b[Aient rtum81:  34%|\u001b[34m██████████████████████████████████▉                                                                   \u001b[0m| 12/35 [00:41<01:10,  3.08s/it]\u001b[0m\n",
      "\u001b[Aient rtum81:  37%|\u001b[34m█████████████████████████████████████▉                                                                \u001b[0m| 13/35 [00:43<01:05,  2.96s/it]\u001b[0m\n",
      "\u001b[Aient rtum81:  40%|\u001b[34m████████████████████████████████████████▊                                                             \u001b[0m| 14/35 [00:46<01:01,  2.93s/it]\u001b[0m\n",
      "\u001b[Aient rtum81:  43%|\u001b[34m███████████████████████████████████████████▋                                                          \u001b[0m| 15/35 [00:49<00:57,  2.87s/it]\u001b[0m\n",
      "\u001b[Aient rtum81:  46%|\u001b[34m██████████████████████████████████████████████▋                                                       \u001b[0m| 16/35 [00:52<00:53,  2.84s/it]\u001b[0m\n",
      "\u001b[Aient rtum81:  49%|\u001b[34m█████████████████████████████████████████████████▌                                                    \u001b[0m| 17/35 [00:54<00:50,  2.82s/it]\u001b[0m\n",
      "\u001b[Aient rtum81:  51%|\u001b[34m████████████████████████████████████████████████████▍                                                 \u001b[0m| 18/35 [00:57<00:47,  2.79s/it]\u001b[0m\n",
      "\u001b[Aient rtum81:  54%|\u001b[34m███████████████████████████████████████████████████████▎                                              \u001b[0m| 19/35 [01:00<00:44,  2.77s/it]\u001b[0m\n",
      "\u001b[Aient rtum81:  57%|\u001b[34m██████████████████████████████████████████████████████████▎                                           \u001b[0m| 20/35 [01:03<00:42,  2.83s/it]\u001b[0m\n",
      "\u001b[Aient rtum81:  60%|\u001b[34m█████████████████████████████████████████████████████████████▏                                        \u001b[0m| 21/35 [01:06<00:41,  2.94s/it]\u001b[0m\n",
      "\u001b[Aient rtum81:  63%|\u001b[34m████████████████████████████████████████████████████████████████                                      \u001b[0m| 22/35 [01:09<00:38,  2.95s/it]\u001b[0m\n",
      "\u001b[Aient rtum81:  66%|\u001b[34m███████████████████████████████████████████████████████████████████                                   \u001b[0m| 23/35 [01:12<00:36,  3.05s/it]\u001b[0m\n",
      "\u001b[Aient rtum81:  69%|\u001b[34m█████████████████████████████████████████████████████████████████████▉                                \u001b[0m| 24/35 [01:16<00:34,  3.14s/it]\u001b[0m\n",
      "\u001b[Aient rtum81:  71%|\u001b[34m████████████████████████████████████████████████████████████████████████▊                             \u001b[0m| 25/35 [01:18<00:29,  3.00s/it]\u001b[0m\n",
      "\u001b[Aient rtum81:  74%|\u001b[34m███████████████████████████████████████████████████████████████████████████▊                          \u001b[0m| 26/35 [01:21<00:26,  2.90s/it]\u001b[0m\n",
      "\u001b[Aient rtum81:  77%|\u001b[34m██████████████████████████████████████████████████████████████████████████████▋                       \u001b[0m| 27/35 [01:24<00:24,  3.06s/it]\u001b[0m\n",
      "\u001b[Aient rtum81:  80%|\u001b[34m█████████████████████████████████████████████████████████████████████████████████▌                    \u001b[0m| 28/35 [01:28<00:21,  3.10s/it]\u001b[0m\n",
      "\u001b[Aient rtum81:  83%|\u001b[34m████████████████████████████████████████████████████████████████████████████████████▌                 \u001b[0m| 29/35 [01:31<00:18,  3.16s/it]\u001b[0m\n",
      "\u001b[Aient rtum81:  86%|\u001b[34m███████████████████████████████████████████████████████████████████████████████████████▍              \u001b[0m| 30/35 [01:34<00:15,  3.00s/it]\u001b[0m\n",
      "\u001b[Aient rtum81:  89%|\u001b[34m██████████████████████████████████████████████████████████████████████████████████████████▎           \u001b[0m| 31/35 [01:36<00:11,  2.88s/it]\u001b[0m\n",
      "\u001b[Aient rtum81:  91%|\u001b[34m█████████████████████████████████████████████████████████████████████████████████████████████▎        \u001b[0m| 32/35 [01:39<00:08,  2.90s/it]\u001b[0m\n",
      "\u001b[Aient rtum81:  94%|\u001b[34m████████████████████████████████████████████████████████████████████████████████████████████████▏     \u001b[0m| 33/35 [01:42<00:05,  2.83s/it]\u001b[0m\n",
      "\u001b[Aient rtum81:  97%|\u001b[34m███████████████████████████████████████████████████████████████████████████████████████████████████   \u001b[0m| 34/35 [01:45<00:02,  2.88s/it]\u001b[0m\n",
      "\u001b[Aient rtum81: 100%|\u001b[34m██████████████████████████████████████████████████████████████████████████████████████████████████████\u001b[0m| 35/35 [01:46<00:00,  2.49s/it]\u001b[0m\n",
      "Evaluating patients: 100%|\u001b[31m█████████████████████████████████████████████████████████████████████████████████████████████████\u001b[0m| 18/18 [23:59<00:00, 79.98s/it]\u001b[0m"
     ]
    },
    {
     "name": "stdout",
     "output_type": "stream",
     "text": [
      "Results saved in: test_evaluator\n"
     ]
    },
    {
     "name": "stderr",
     "output_type": "stream",
     "text": [
      "\n"
     ]
    }
   ],
   "source": [
    "export_folder = 'test_evaluator'\n",
    "all_metrics_2d, all_cms_2d = my_evaluator2d.evaluate(patient_ids, export_folder)"
   ]
  }
 ],
 "metadata": {
  "kernelspec": {
   "display_name": "Python 3 (ipykernel)",
   "language": "python",
   "name": "python3"
  },
  "language_info": {
   "codemirror_mode": {
    "name": "ipython",
    "version": 3
   },
   "file_extension": ".py",
   "mimetype": "text/x-python",
   "name": "python",
   "nbconvert_exporter": "python",
   "pygments_lexer": "ipython3",
   "version": "3.9.21"
  }
 },
 "nbformat": 4,
 "nbformat_minor": 5
}
