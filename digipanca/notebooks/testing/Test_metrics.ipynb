{
 "cells": [
  {
   "cell_type": "code",
   "execution_count": 1,
   "id": "ee2cc2f3-0113-442f-8c33-cd045508ff44",
   "metadata": {},
   "outputs": [],
   "source": [
    "%load_ext autoreload\n",
    "%autoreload 2"
   ]
  },
  {
   "cell_type": "code",
   "execution_count": 38,
   "id": "d9b3e78e-911d-47a9-ba54-16b77eb0c8de",
   "metadata": {},
   "outputs": [],
   "source": [
    "import os\n",
    "import numpy as np\n",
    "import torch\n",
    "from src.metrics.segmentation import SegmentationMetrics as MetricsA\n",
    "from src.metrics.segmentation_bak import SegmentationMetrics as MetricsB\n",
    "from monai.metrics import DiceMetric"
   ]
  },
  {
   "cell_type": "code",
   "execution_count": 3,
   "id": "6cc8d47c-386c-49d6-8d79-bd0e0f1bc0bf",
   "metadata": {},
   "outputs": [
    {
     "data": {
      "text/plain": [
       "'C:\\\\Users\\\\Usuario\\\\TFG\\\\digipanca\\\\notebooks\\\\preprocessing'"
      ]
     },
     "execution_count": 3,
     "metadata": {},
     "output_type": "execute_result"
    }
   ],
   "source": [
    "os.getcwd()"
   ]
  },
  {
   "cell_type": "code",
   "execution_count": 4,
   "id": "32152515-796d-4b2c-8a6d-fb2159a6ebf5",
   "metadata": {},
   "outputs": [
    {
     "data": {
      "text/plain": [
       "'C:\\\\Users\\\\Usuario\\\\TFG\\\\digipanca'"
      ]
     },
     "execution_count": 4,
     "metadata": {},
     "output_type": "execute_result"
    }
   ],
   "source": [
    "os.chdir('C:\\\\Users\\\\Usuario\\\\TFG\\\\digipanca\\\\')\n",
    "os.getcwd()"
   ]
  },
  {
   "cell_type": "code",
   "execution_count": 21,
   "id": "5784e4a3-001e-457c-81cc-42c84d64ea90",
   "metadata": {},
   "outputs": [],
   "source": [
    "def multiclass_dice_coefficient(pred, target, num_classes, threshold=0.5, smooth=1e-5):\n",
    "    \"\"\"\n",
    "    Compute the Dice coefficient for multi-class segmentation, excluding the background class if specified.\n",
    "\n",
    "    Args:\n",
    "        pred (torch.Tensor): The predicted tensor (N, C, H, W), where C is the number of classes.\n",
    "        target (torch.Tensor): The ground truth tensor (N, H, W) with class labels.\n",
    "        num_classes (int): The number of classes.\n",
    "        threshold (float): The threshold for converting predictions to binary (for each class).\n",
    "        smooth (float): Smoothing factor to avoid division by zero.\n",
    "        ignore_background (bool): If True, ignore the background class (usually class 0) in the calculation.\n",
    "\n",
    "    Returns:\n",
    "        dice_scores (dict): A dictionary containing Dice scores for each class.\n",
    "        avg_dice (float): The average Dice score across all classes (excluding background if specified).\n",
    "    \"\"\"\n",
    "    dice_scores = {}\n",
    "    avg_dice = 0.0\n",
    "    valid_class_count = 0\n",
    "    pred = torch.softmax(pred, dim=1)\n",
    "\n",
    "    for class_idx in range(1, num_classes):\n",
    "\n",
    "        pred_class = pred[:, class_idx, :, :]\n",
    "        target_class = (target == class_idx).float()\n",
    "\n",
    "        # Flatten the tensors for calculation\n",
    "        pred_flat = pred_class.reshape(-1)\n",
    "        target_flat = target_class.reshape(-1)\n",
    "\n",
    "        # Calculate the intersection and union\n",
    "        intersection = (pred_flat * target_flat).sum()\n",
    "        dice = (2.0 * intersection + smooth) / (pred_flat.sum() + target_flat.sum() + smooth)\n",
    "\n",
    "        # Store the Dice score for the current class\n",
    "        dice_scores[f\"Class_{class_idx}\"] = dice.item()\n",
    "\n",
    "        # Accumulate for the average Dice score\n",
    "        avg_dice += dice.item()\n",
    "        valid_class_count += 1\n",
    "\n",
    "     # Calculate the average Dice score across all valid classes\n",
    "    if valid_class_count > 0:\n",
    "        avg_dice /= valid_class_count\n",
    "\n",
    "    return dice_scores, avg_dice"
   ]
  },
  {
   "cell_type": "code",
   "execution_count": 33,
   "id": "c250dd7f-6606-483a-9349-3e92da660af8",
   "metadata": {},
   "outputs": [],
   "source": [
    "# Parámetros\n",
    "batch_size = 4\n",
    "num_classes = 5\n",
    "height = 256\n",
    "width = 256\n",
    "\n",
    "# Generar y_true (Ground Truth) como índices de clase\n",
    "y_true = torch.randint(0, num_classes, (batch_size, height, width))\n",
    "\n",
    "# Generar y_pred (Predicciones) como logits\n",
    "y_pred = torch.rand((batch_size, num_classes, height, width))\n",
    "\n",
    "# Convertir y_true a one-hot encoding (opcional, si quieres probar con one-hot encoding)\n",
    "y_true_one_hot = torch.nn.functional.one_hot(y_true, num_classes).permute(0, 3, 1, 2).float()"
   ]
  },
  {
   "cell_type": "code",
   "execution_count": 26,
   "id": "a150879c-2821-4659-bd18-dfd74d00f5cc",
   "metadata": {},
   "outputs": [],
   "source": [
    "y_true = torch.randint(0, 2, (2, 5, 256, 256)).float()\n",
    "y_pred = torch.rand((2, 5, 256, 256))"
   ]
  },
  {
   "cell_type": "code",
   "execution_count": 34,
   "id": "5fe580c4-2264-4048-8278-637f1f860cd3",
   "metadata": {},
   "outputs": [],
   "source": [
    "dice_a, _ = MetricsA.dice_coefficient(y_pred, y_true)\n",
    "dice_b = MetricsB.dice_coefficient(y_pred, y_true_one_hot)\n",
    "_, dice_c = multiclass_dice_coefficient(y_pred, y_true, 5) "
   ]
  },
  {
   "cell_type": "code",
   "execution_count": 35,
   "id": "8df69fc7-fa33-4a3b-9f78-23a59b83e730",
   "metadata": {},
   "outputs": [
    {
     "name": "stdout",
     "output_type": "stream",
     "text": [
      "tensor(0.2000)\n",
      "tensor(0.2857)\n",
      "0.1999007798731327\n"
     ]
    }
   ],
   "source": [
    "print(dice_a)\n",
    "print(dice_b)\n",
    "print(dice_c)"
   ]
  },
  {
   "cell_type": "code",
   "execution_count": 55,
   "id": "9438423f-fb18-46f8-82d6-76f321fb0088",
   "metadata": {
    "scrolled": true
   },
   "outputs": [],
   "source": [
    "def test_metrics(times=10):\n",
    "    # Parámetros\n",
    "    batch_size = 4\n",
    "    num_classes = 5\n",
    "    height = 512\n",
    "    width = 512\n",
    "\n",
    "    mm = DiceMetric(include_background=True, reduction=\"mean\", get_not_nans=False)\n",
    "\n",
    "    for i in range(1, times+1):\n",
    "        # Generar y_true (Ground Truth) como índices de clase\n",
    "        # y_true = torch.randint(0, num_classes, (batch_size, height, width))\n",
    "        # Generar y_pred (Predicciones) como logits\n",
    "        # y_pred = torch.rand((batch_size, num_classes, height, width))\n",
    "\n",
    "        # y_true = torch.ones((0, num_classes, (batch_size, height, width)), dtype=torch.int16)\n",
    "        y_pred = torch.ones((batch_size, num_classes, height, width), dtype=torch.int16)\n",
    "        # Convertir y_true a one-hot encoding (opcional, si quieres probar con one-hot encoding)\n",
    "        y_true_one_hot = torch.nn.functional.one_hot(y_true, num_classes).permute(0, 3, 1, 2).float()\n",
    "    \n",
    "        dice_a, _ = MetricsA.dice_coefficient(y_pred, y_true)\n",
    "        dice_b = MetricsB.dice_coefficient(y_pred, y_true_one_hot)\n",
    "        _, dice_c = multiclass_dice_coefficient(y_pred, y_true, 5)\n",
    "        dice_m = mm(y_pred, y_true)\n",
    "    \n",
    "        print(\"---------------\")\n",
    "        print(f\"test {i}\")\n",
    "        print(f\"Dice A: {dice_a.float()}\")\n",
    "        print(f\"Dice B: {dice_b.float()}\")\n",
    "        print(f\"Dice C: {dice_c}\")\n",
    "        print(f\"Dice M: {dice_m}\")\n",
    "        print(\"---------------\")\n",
    "        mm.reset()"
   ]
  },
  {
   "cell_type": "code",
   "execution_count": 56,
   "id": "da397ccb-03c5-415b-952a-7344988b0228",
   "metadata": {},
   "outputs": [
    {
     "ename": "RuntimeError",
     "evalue": "\"softmax_kernel_impl\" not implemented for 'Short'",
     "output_type": "error",
     "traceback": [
      "\u001b[1;31m---------------------------------------------------------------------------\u001b[0m",
      "\u001b[1;31mRuntimeError\u001b[0m                              Traceback (most recent call last)",
      "Cell \u001b[1;32mIn[56], line 1\u001b[0m\n\u001b[1;32m----> 1\u001b[0m \u001b[43mtest_metrics\u001b[49m\u001b[43m(\u001b[49m\u001b[43m)\u001b[49m\n",
      "Cell \u001b[1;32mIn[55], line 21\u001b[0m, in \u001b[0;36mtest_metrics\u001b[1;34m(times)\u001b[0m\n\u001b[0;32m     18\u001b[0m \u001b[38;5;66;03m# Convertir y_true a one-hot encoding (opcional, si quieres probar con one-hot encoding)\u001b[39;00m\n\u001b[0;32m     19\u001b[0m y_true_one_hot \u001b[38;5;241m=\u001b[39m torch\u001b[38;5;241m.\u001b[39mnn\u001b[38;5;241m.\u001b[39mfunctional\u001b[38;5;241m.\u001b[39mone_hot(y_true, num_classes)\u001b[38;5;241m.\u001b[39mpermute(\u001b[38;5;241m0\u001b[39m, \u001b[38;5;241m3\u001b[39m, \u001b[38;5;241m1\u001b[39m, \u001b[38;5;241m2\u001b[39m)\u001b[38;5;241m.\u001b[39mfloat()\n\u001b[1;32m---> 21\u001b[0m dice_a, _ \u001b[38;5;241m=\u001b[39m \u001b[43mMetricsA\u001b[49m\u001b[38;5;241;43m.\u001b[39;49m\u001b[43mdice_coefficient\u001b[49m\u001b[43m(\u001b[49m\u001b[43my_pred\u001b[49m\u001b[43m,\u001b[49m\u001b[43m \u001b[49m\u001b[43my_true\u001b[49m\u001b[43m)\u001b[49m\n\u001b[0;32m     22\u001b[0m dice_b \u001b[38;5;241m=\u001b[39m MetricsB\u001b[38;5;241m.\u001b[39mdice_coefficient(y_pred, y_true_one_hot)\n\u001b[0;32m     23\u001b[0m _, dice_c \u001b[38;5;241m=\u001b[39m multiclass_dice_coefficient(y_pred, y_true, \u001b[38;5;241m5\u001b[39m)\n",
      "File \u001b[1;32m~\\TFG\\digipanca\\src\\metrics\\segmentation.py:47\u001b[0m, in \u001b[0;36mSegmentationMetrics.dice_coefficient\u001b[1;34m(y_pred, y_true, smooth)\u001b[0m\n\u001b[0;32m     44\u001b[0m \u001b[38;5;28;01mif\u001b[39;00m y_pred\u001b[38;5;241m.\u001b[39mdim() \u001b[38;5;241m==\u001b[39m \u001b[38;5;241m4\u001b[39m \u001b[38;5;129;01mand\u001b[39;00m y_true\u001b[38;5;241m.\u001b[39mdim() \u001b[38;5;241m==\u001b[39m \u001b[38;5;241m3\u001b[39m:\n\u001b[0;32m     45\u001b[0m     \u001b[38;5;66;03m# y_pred is [B, C, H, W] logits and y_true is [B, H, W] indices\u001b[39;00m\n\u001b[0;32m     46\u001b[0m     n_classes \u001b[38;5;241m=\u001b[39m y_pred\u001b[38;5;241m.\u001b[39msize(\u001b[38;5;241m1\u001b[39m)\n\u001b[1;32m---> 47\u001b[0m     y_pred_one_hot \u001b[38;5;241m=\u001b[39m \u001b[43mtorch\u001b[49m\u001b[38;5;241;43m.\u001b[39;49m\u001b[43mnn\u001b[49m\u001b[38;5;241;43m.\u001b[39;49m\u001b[43mfunctional\u001b[49m\u001b[38;5;241;43m.\u001b[39;49m\u001b[43msoftmax\u001b[49m\u001b[43m(\u001b[49m\u001b[43my_pred\u001b[49m\u001b[43m,\u001b[49m\u001b[43m \u001b[49m\u001b[43mdim\u001b[49m\u001b[38;5;241;43m=\u001b[39;49m\u001b[38;5;241;43m1\u001b[39;49m\u001b[43m)\u001b[49m\n\u001b[0;32m     49\u001b[0m     y_true_one_hot \u001b[38;5;241m=\u001b[39m torch\u001b[38;5;241m.\u001b[39mzeros(\n\u001b[0;32m     50\u001b[0m         y_true\u001b[38;5;241m.\u001b[39msize(\u001b[38;5;241m0\u001b[39m), n_classes, y_true\u001b[38;5;241m.\u001b[39msize(\u001b[38;5;241m1\u001b[39m), y_true\u001b[38;5;241m.\u001b[39msize(\u001b[38;5;241m2\u001b[39m), \n\u001b[0;32m     51\u001b[0m         device\u001b[38;5;241m=\u001b[39my_true\u001b[38;5;241m.\u001b[39mdevice\n\u001b[0;32m     52\u001b[0m     )\n\u001b[0;32m     53\u001b[0m     y_true_one_hot\u001b[38;5;241m.\u001b[39mscatter_(\u001b[38;5;241m1\u001b[39m, y_true\u001b[38;5;241m.\u001b[39munsqueeze(\u001b[38;5;241m1\u001b[39m), \u001b[38;5;241m1\u001b[39m)\n",
      "File \u001b[1;32m~\\miniconda3\\envs\\pancreas-segmentation\\lib\\site-packages\\torch\\nn\\functional.py:2140\u001b[0m, in \u001b[0;36msoftmax\u001b[1;34m(input, dim, _stacklevel, dtype)\u001b[0m\n\u001b[0;32m   2138\u001b[0m     dim \u001b[38;5;241m=\u001b[39m _get_softmax_dim(\u001b[38;5;124m\"\u001b[39m\u001b[38;5;124msoftmax\u001b[39m\u001b[38;5;124m\"\u001b[39m, \u001b[38;5;28minput\u001b[39m\u001b[38;5;241m.\u001b[39mdim(), _stacklevel)\n\u001b[0;32m   2139\u001b[0m \u001b[38;5;28;01mif\u001b[39;00m dtype \u001b[38;5;129;01mis\u001b[39;00m \u001b[38;5;28;01mNone\u001b[39;00m:\n\u001b[1;32m-> 2140\u001b[0m     ret \u001b[38;5;241m=\u001b[39m \u001b[38;5;28;43minput\u001b[39;49m\u001b[38;5;241;43m.\u001b[39;49m\u001b[43msoftmax\u001b[49m\u001b[43m(\u001b[49m\u001b[43mdim\u001b[49m\u001b[43m)\u001b[49m\n\u001b[0;32m   2141\u001b[0m \u001b[38;5;28;01melse\u001b[39;00m:\n\u001b[0;32m   2142\u001b[0m     ret \u001b[38;5;241m=\u001b[39m \u001b[38;5;28minput\u001b[39m\u001b[38;5;241m.\u001b[39msoftmax(dim, dtype\u001b[38;5;241m=\u001b[39mdtype)\n",
      "\u001b[1;31mRuntimeError\u001b[0m: \"softmax_kernel_impl\" not implemented for 'Short'"
     ]
    }
   ],
   "source": [
    "test_metrics()"
   ]
  }
 ],
 "metadata": {
  "kernelspec": {
   "display_name": "Python 3 (ipykernel)",
   "language": "python",
   "name": "python3"
  },
  "language_info": {
   "codemirror_mode": {
    "name": "ipython",
    "version": 3
   },
   "file_extension": ".py",
   "mimetype": "text/x-python",
   "name": "python",
   "nbconvert_exporter": "python",
   "pygments_lexer": "ipython3",
   "version": "3.9.21"
  }
 },
 "nbformat": 4,
 "nbformat_minor": 5
}
